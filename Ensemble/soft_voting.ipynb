{
 "cells": [
  {
   "cell_type": "code",
   "execution_count": 92,
   "metadata": {},
   "outputs": [],
   "source": [
    "import pandas as pd\n",
    "import numpy as np\n",
    "from glob import glob\n",
    "from tqdm import tqdm\n",
    "import pickle\n",
    "import json"
   ]
  },
  {
   "cell_type": "code",
   "execution_count": 93,
   "metadata": {},
   "outputs": [],
   "source": [
    "output_file_list = glob(\"/opt/ml/input/workspace/calc_score/*.csv\")\n",
    "output_file_list.sort()\n"
   ]
  },
  {
   "cell_type": "code",
   "execution_count": 94,
   "metadata": {},
   "outputs": [
    {
     "data": {
      "text/plain": [
       "['/opt/ml/input/workspace/calc_score/1_submission_B4R_9_T10PF.csv',\n",
       " '/opt/ml/input/workspace/calc_score/2_submission_DAE_150.csv',\n",
       " '/opt/ml/input/workspace/calc_score/3_submission_MVAE_200_rm.csv',\n",
       " '/opt/ml/input/workspace/calc_score/4_submission_UB.csv',\n",
       " '/opt/ml/input/workspace/calc_score/5_submission_DeepFM.csv',\n",
       " '/opt/ml/input/workspace/calc_score/6_submission_FFM.csv',\n",
       " '/opt/ml/input/workspace/calc_score/7_submission_50_g0004.csv']"
      ]
     },
     "execution_count": 94,
     "metadata": {},
     "output_type": "execute_result"
    }
   ],
   "source": [
    "output_file_list"
   ]
  },
  {
   "cell_type": "code",
   "execution_count": 95,
   "metadata": {},
   "outputs": [
    {
     "name": "stdout",
     "output_type": "stream",
     "text": [
      "/opt/ml/input/workspace/calc_score/1_submission_B4R_9_T10PF.csv\n",
      "/opt/ml/input/workspace/calc_score/2_submission_DAE_150.csv\n",
      "/opt/ml/input/workspace/calc_score/3_submission_MVAE_200_rm.csv\n",
      "/opt/ml/input/workspace/calc_score/4_submission_UB.csv\n",
      "/opt/ml/input/workspace/calc_score/5_submission_DeepFM.csv\n",
      "/opt/ml/input/workspace/calc_score/6_submission_FFM.csv\n",
      "/opt/ml/input/workspace/calc_score/7_submission_50_g0004.csv\n",
      "[          user  item\n",
      "0           11  1196\n",
      "1           11   780\n",
      "2           11   480\n",
      "3           11   344\n",
      "4           11  4370\n",
      "...        ...   ...\n",
      "313595  138493  8961\n",
      "313596  138493  1907\n",
      "313597  138493  2628\n",
      "313598  138493  2571\n",
      "313599  138493  1022\n",
      "\n",
      "[313600 rows x 2 columns]]\n"
     ]
    }
   ],
   "source": [
    "df_list = list()\n",
    "\n",
    "for file in output_file_list:\n",
    "    print(file)\n",
    "    answer = pd.read_csv(file)\n",
    "    df_list.append(answer)\n",
    "print(df_list[:1])# [[model1의 답],[model2의 답],,,[model n의 답]]  \n",
    "\n",
    "# model_ratio={'b4r': 0.55,\n",
    "#  'dae': 0.2,\n",
    "#  'mvae': 0.1,\n",
    "#  'ub': 0.07,\n",
    "#  'dfm': 0.05,\n",
    "#  'ffm': 0.03,\n",
    "#  'rvae': 0.02}\n",
    "\n",
    "model_ratio={'b4r': 5,\n",
    " 'dae': 3,\n",
    " 'mvae': 3,\n",
    " 'ub': 4,\n",
    " 'dfm': 0,\n",
    " 'ffm': 0,\n",
    " 'rvae': 0,\n",
    " 'top10' : }\n"
   ]
  },
  {
   "cell_type": "code",
   "execution_count": 96,
   "metadata": {},
   "outputs": [],
   "source": [
    "with open('/opt/ml/input/level2-movie-recommendation-level2-recsys-07/MODELS/DeepFM/item_dict.pickle', 'rb') as fr:\n",
    "    item_dict = pickle.load(fr)"
   ]
  },
  {
   "cell_type": "code",
   "execution_count": 97,
   "metadata": {},
   "outputs": [],
   "source": [
    "train_df = pd.read_csv('/opt/ml/input/data/train/train_ratings.csv')\n",
    "train_df['rating']=1\n",
    "\n",
    "user_item_matrix = train_df.pivot_table('rating', 'user', 'item').fillna(0)\n",
    "user_list=user_item_matrix.index.to_list()\n",
    "item_list=user_item_matrix.columns.to_list()"
   ]
  },
  {
   "cell_type": "code",
   "execution_count": 98,
   "metadata": {},
   "outputs": [],
   "source": [
    "for df_index in np.arange(len(df_list)):\n",
    "    df_list[df_index] = df_list[df_index].groupby(\"user\")[\"item\"].apply(list)"
   ]
  },
  {
   "cell_type": "code",
   "execution_count": 99,
   "metadata": {},
   "outputs": [
    {
     "data": {
      "text/plain": [
       "[47, 4886, 5418, 8961, 32587, 1682, 1265, 2115, 4963, 1517]"
      ]
     },
     "execution_count": 99,
     "metadata": {},
     "output_type": "execute_result"
    }
   ],
   "source": [
    "df_list[3][11]"
   ]
  },
  {
   "cell_type": "code",
   "execution_count": 100,
   "metadata": {},
   "outputs": [],
   "source": [
    "model_ratio = list(model_ratio.values())"
   ]
  },
  {
   "cell_type": "code",
   "execution_count": 101,
   "metadata": {},
   "outputs": [
    {
     "data": {
      "text/plain": [
       "[7, 6, 5, 4, 3, 2, 1]"
      ]
     },
     "execution_count": 101,
     "metadata": {},
     "output_type": "execute_result"
    }
   ],
   "source": [
    "model_ratio"
   ]
  },
  {
   "cell_type": "code",
   "execution_count": 102,
   "metadata": {},
   "outputs": [
    {
     "name": "stderr",
     "output_type": "stream",
     "text": [
      "100%|██████████| 31360/31360 [04:34<00:00, 114.11it/s]\n"
     ]
    },
    {
     "data": {
      "text/plain": [
       "array([[    11,  37386],\n",
       "       [    11,   1196],\n",
       "       [    11,   8644],\n",
       "       ...,\n",
       "       [138493,   2628],\n",
       "       [138493,   1270],\n",
       "       [138493,   2011]])"
      ]
     },
     "execution_count": 102,
     "metadata": {},
     "output_type": "execute_result"
    }
   ],
   "source": [
    "user_recommends = dict()\n",
    "\n",
    "res_user = list()\n",
    "res_item = list()\n",
    "\n",
    "for user in tqdm(user_list):\n",
    "    vote_list = [0] * 119146\n",
    "    for df_index in np.arange(len(df_list)):\n",
    "        ratio = model_ratio[df_index]\n",
    "        user_recommended10 = df_list[df_index][user]\n",
    "\n",
    "        for item in user_recommended10:\n",
    "            vote_list[item] += ratio\n",
    "\n",
    "    user_recommends = list(np.argpartition(vote_list,-10)[-10:])\n",
    "    \n",
    "    users = [user] * 10\n",
    "\n",
    "    res_user += users\n",
    "    res_item += user_recommends\n",
    "\n",
    "result = np.vstack((res_user, res_item)).T\n",
    "result"
   ]
  },
  {
   "cell_type": "code",
   "execution_count": 103,
   "metadata": {},
   "outputs": [],
   "source": [
    "assert len(result) == 313600"
   ]
  },
  {
   "cell_type": "code",
   "execution_count": 104,
   "metadata": {},
   "outputs": [],
   "source": [
    "submission_df = pd.DataFrame(data=result, columns=[\"user\", \"item\"])\n",
    "submission_df.to_csv(\"./submission_weighted_hard_vote3.csv\", index=False)"
   ]
  },
  {
   "cell_type": "code",
   "execution_count": 105,
   "metadata": {},
   "outputs": [
    {
     "name": "stdout",
     "output_type": "stream",
     "text": [
      "testing recall@10...\n",
      "Number of users : 31360\n"
     ]
    },
    {
     "name": "stderr",
     "output_type": "stream",
     "text": [
      "100%|██████████| 31360/31360 [00:28<00:00, 1108.82it/s]"
     ]
    },
    {
     "name": "stdout",
     "output_type": "stream",
     "text": [
      "Predicted submission result of Recall@10 = 0.1159305566810214\n"
     ]
    },
    {
     "name": "stderr",
     "output_type": "stream",
     "text": [
      "\n"
     ]
    }
   ],
   "source": [
    "print(\"testing recall@10...\")\n",
    "# 학습에 사용된 user만 uniq_user에 저장\n",
    "#uniq_user = list(user_recommends.keys())#\n",
    "uniq_user = user_list\n",
    "print (f\"Number of users : {len(uniq_user)}\")\n",
    "\n",
    "with open(\"/opt/ml/input/workspace/final_answer.json\", \"r\") as json_file: #answer.json 경로 지정\n",
    "    answer = json.load(json_file)\n",
    "\n",
    "# movielens-20m과 submission을 비교하여 Recall@10 값 계산\n",
    "#submission_df = pd.read_csv(\"./submission_weighted_hard_vote.csv\")\n",
    "recall_result = []\n",
    "\n",
    "# 각 유저마다 recall@10 계산하여 list에 저장\n",
    "for user in tqdm(uniq_user):\n",
    "    submission_by_user = submission_df[submission_df['user'] == user]['item']\n",
    "\n",
    "    #user = int(user)\n",
    "    hit = 0\n",
    "    for item in submission_by_user:\n",
    "        if item in answer[str(user)]:\n",
    "            hit += 1\n",
    "\n",
    "    recall_result.append(hit / len(answer[str(user)]))\n",
    "\n",
    "# 전체 유저의 Recall@10의 평균 출력\n",
    "print (f\"Predicted submission result of Recall@10 = {np.average(recall_result)}\")"
   ]
  },
  {
   "cell_type": "markdown",
   "metadata": {},
   "source": [
    "- 3: Predicted submission result of Recall@10 = 0.1159305566810214"
   ]
  },
  {
   "cell_type": "code",
   "execution_count": null,
   "metadata": {},
   "outputs": [],
   "source": []
  }
 ],
 "metadata": {
  "interpreter": {
   "hash": "d4d1e4263499bec80672ea0156c357c1ee493ec2b1c70f0acce89fc37c4a6abe"
  },
  "kernelspec": {
   "display_name": "Python 3.8.5 ('base')",
   "language": "python",
   "name": "python3"
  },
  "language_info": {
   "codemirror_mode": {
    "name": "ipython",
    "version": 3
   },
   "file_extension": ".py",
   "mimetype": "text/x-python",
   "name": "python",
   "nbconvert_exporter": "python",
   "pygments_lexer": "ipython3",
   "version": "3.8.5"
  },
  "orig_nbformat": 4
 },
 "nbformat": 4,
 "nbformat_minor": 2
}
