{
 "cells": [
  {
   "cell_type": "code",
   "execution_count": 1,
   "metadata": {},
   "outputs": [],
   "source": [
    "import pandas as pd\n",
    "import numpy as np\n",
    "import os\n",
    "import time\n",
    "import matplotlib.pyplot as plt"
   ]
  },
  {
   "cell_type": "code",
   "execution_count": 2,
   "metadata": {},
   "outputs": [
    {
     "data": {
      "text/html": [
       "<div>\n",
       "<style scoped>\n",
       "    .dataframe tbody tr th:only-of-type {\n",
       "        vertical-align: middle;\n",
       "    }\n",
       "\n",
       "    .dataframe tbody tr th {\n",
       "        vertical-align: top;\n",
       "    }\n",
       "\n",
       "    .dataframe thead th {\n",
       "        text-align: right;\n",
       "    }\n",
       "</style>\n",
       "<table border=\"1\" class=\"dataframe\">\n",
       "  <thead>\n",
       "    <tr style=\"text-align: right;\">\n",
       "      <th></th>\n",
       "      <th>user</th>\n",
       "      <th>item</th>\n",
       "      <th>time</th>\n",
       "    </tr>\n",
       "  </thead>\n",
       "  <tbody>\n",
       "    <tr>\n",
       "      <th>0</th>\n",
       "      <td>11</td>\n",
       "      <td>4643</td>\n",
       "      <td>1230782529</td>\n",
       "    </tr>\n",
       "    <tr>\n",
       "      <th>1</th>\n",
       "      <td>11</td>\n",
       "      <td>170</td>\n",
       "      <td>1230782534</td>\n",
       "    </tr>\n",
       "    <tr>\n",
       "      <th>2</th>\n",
       "      <td>11</td>\n",
       "      <td>531</td>\n",
       "      <td>1230782539</td>\n",
       "    </tr>\n",
       "  </tbody>\n",
       "</table>\n",
       "</div>"
      ],
      "text/plain": [
       "   user  item        time\n",
       "0    11  4643  1230782529\n",
       "1    11   170  1230782534\n",
       "2    11   531  1230782539"
      ]
     },
     "execution_count": 2,
     "metadata": {},
     "output_type": "execute_result"
    }
   ],
   "source": [
    "train_df = pd.read_csv('../../input/data/train/train_ratings.csv') # 전체 학습 데이터 # git repo기준\n",
    "train_df.head(3)"
   ]
  },
  {
   "cell_type": "markdown",
   "metadata": {},
   "source": [
    "# 영화를 본 개월 수"
   ]
  },
  {
   "cell_type": "code",
   "execution_count": 3,
   "metadata": {},
   "outputs": [],
   "source": [
    "train_users = train_df['user'].unique()\n",
    "time_period_df=train_df.copy()\n",
    "year=list()\n",
    "month=list()\n",
    "day=list()\n",
    "for t in time_period_df['time']:\n",
    "    y,m,d= map(int,time.strftime('%Y-%m-%d', time.localtime(t)).split('-'))\n",
    "    year.append(y)\n",
    "    month.append(m)\n",
    "    day.append(d)"
   ]
  },
  {
   "cell_type": "code",
   "execution_count": 4,
   "metadata": {},
   "outputs": [
    {
     "data": {
      "text/html": [
       "<div>\n",
       "<style scoped>\n",
       "    .dataframe tbody tr th:only-of-type {\n",
       "        vertical-align: middle;\n",
       "    }\n",
       "\n",
       "    .dataframe tbody tr th {\n",
       "        vertical-align: top;\n",
       "    }\n",
       "\n",
       "    .dataframe thead th {\n",
       "        text-align: right;\n",
       "    }\n",
       "</style>\n",
       "<table border=\"1\" class=\"dataframe\">\n",
       "  <thead>\n",
       "    <tr style=\"text-align: right;\">\n",
       "      <th></th>\n",
       "      <th>user</th>\n",
       "      <th>item</th>\n",
       "      <th>time</th>\n",
       "      <th>year</th>\n",
       "      <th>month</th>\n",
       "      <th>day</th>\n",
       "    </tr>\n",
       "  </thead>\n",
       "  <tbody>\n",
       "    <tr>\n",
       "      <th>0</th>\n",
       "      <td>11</td>\n",
       "      <td>4643</td>\n",
       "      <td>1230782529</td>\n",
       "      <td>2009</td>\n",
       "      <td>1</td>\n",
       "      <td>1</td>\n",
       "    </tr>\n",
       "    <tr>\n",
       "      <th>1</th>\n",
       "      <td>11</td>\n",
       "      <td>170</td>\n",
       "      <td>1230782534</td>\n",
       "      <td>2009</td>\n",
       "      <td>1</td>\n",
       "      <td>1</td>\n",
       "    </tr>\n",
       "    <tr>\n",
       "      <th>2</th>\n",
       "      <td>11</td>\n",
       "      <td>531</td>\n",
       "      <td>1230782539</td>\n",
       "      <td>2009</td>\n",
       "      <td>1</td>\n",
       "      <td>1</td>\n",
       "    </tr>\n",
       "  </tbody>\n",
       "</table>\n",
       "</div>"
      ],
      "text/plain": [
       "   user  item        time  year  month  day\n",
       "0    11  4643  1230782529  2009      1    1\n",
       "1    11   170  1230782534  2009      1    1\n",
       "2    11   531  1230782539  2009      1    1"
      ]
     },
     "execution_count": 4,
     "metadata": {},
     "output_type": "execute_result"
    }
   ],
   "source": [
    "time_period_df['year']=year\n",
    "time_period_df['month']=month\n",
    "time_period_df['day']=day\n",
    "time_period_df.head(3)"
   ]
  },
  {
   "cell_type": "code",
   "execution_count": 48,
   "metadata": {},
   "outputs": [
    {
     "data": {
      "text/html": [
       "<div>\n",
       "<style scoped>\n",
       "    .dataframe tbody tr th:only-of-type {\n",
       "        vertical-align: middle;\n",
       "    }\n",
       "\n",
       "    .dataframe tbody tr th {\n",
       "        vertical-align: top;\n",
       "    }\n",
       "\n",
       "    .dataframe thead th {\n",
       "        text-align: right;\n",
       "    }\n",
       "</style>\n",
       "<table border=\"1\" class=\"dataframe\">\n",
       "  <thead>\n",
       "    <tr style=\"text-align: right;\">\n",
       "      <th></th>\n",
       "      <th>user</th>\n",
       "    </tr>\n",
       "  </thead>\n",
       "  <tbody>\n",
       "    <tr>\n",
       "      <th>0</th>\n",
       "      <td>11</td>\n",
       "    </tr>\n",
       "    <tr>\n",
       "      <th>1</th>\n",
       "      <td>14</td>\n",
       "    </tr>\n",
       "  </tbody>\n",
       "</table>\n",
       "</div>"
      ],
      "text/plain": [
       "   user\n",
       "0    11\n",
       "1    14"
      ]
     },
     "execution_count": 48,
     "metadata": {},
     "output_type": "execute_result"
    }
   ],
   "source": [
    "user=pd.DataFrame(data=train_users, columns=['user'])\n",
    "user.head(2)"
   ]
  },
  {
   "cell_type": "code",
   "execution_count": 49,
   "metadata": {},
   "outputs": [],
   "source": [
    "period_year=[]\n",
    "period_month=[]\n",
    "period_day=[]\n",
    "for u in user['user']: # 4m 소요\n",
    "    u_df=time_period_df[time_period_df['user']==u].sort_values(by=['time'])\n",
    "    year= u_df.iloc[-1,3] - u_df.iloc[0,3] \n",
    "    month= u_df.iloc[-1,4] - u_df.iloc[0,4]\n",
    "    day= u_df.iloc[-1,5] - u_df.iloc[0,5]\n",
    "    if month<0:\n",
    "        month+=12\n",
    "    period_year.append(year)\n",
    "    period_month.append(month)\n",
    "    period_day.append(day)"
   ]
  },
  {
   "cell_type": "code",
   "execution_count": 50,
   "metadata": {},
   "outputs": [
    {
     "data": {
      "text/html": [
       "<div>\n",
       "<style scoped>\n",
       "    .dataframe tbody tr th:only-of-type {\n",
       "        vertical-align: middle;\n",
       "    }\n",
       "\n",
       "    .dataframe tbody tr th {\n",
       "        vertical-align: top;\n",
       "    }\n",
       "\n",
       "    .dataframe thead th {\n",
       "        text-align: right;\n",
       "    }\n",
       "</style>\n",
       "<table border=\"1\" class=\"dataframe\">\n",
       "  <thead>\n",
       "    <tr style=\"text-align: right;\">\n",
       "      <th></th>\n",
       "      <th>user</th>\n",
       "      <th>period_year</th>\n",
       "      <th>period_month</th>\n",
       "      <th>period_day</th>\n",
       "    </tr>\n",
       "  </thead>\n",
       "  <tbody>\n",
       "    <tr>\n",
       "      <th>0</th>\n",
       "      <td>11</td>\n",
       "      <td>2</td>\n",
       "      <td>0</td>\n",
       "      <td>11</td>\n",
       "    </tr>\n",
       "    <tr>\n",
       "      <th>1</th>\n",
       "      <td>14</td>\n",
       "      <td>0</td>\n",
       "      <td>0</td>\n",
       "      <td>0</td>\n",
       "    </tr>\n",
       "    <tr>\n",
       "      <th>2</th>\n",
       "      <td>18</td>\n",
       "      <td>3</td>\n",
       "      <td>10</td>\n",
       "      <td>-18</td>\n",
       "    </tr>\n",
       "  </tbody>\n",
       "</table>\n",
       "</div>"
      ],
      "text/plain": [
       "   user  period_year  period_month  period_day\n",
       "0    11            2             0          11\n",
       "1    14            0             0           0\n",
       "2    18            3            10         -18"
      ]
     },
     "execution_count": 50,
     "metadata": {},
     "output_type": "execute_result"
    }
   ],
   "source": [
    "user['period_year']=period_year\n",
    "user['period_month']=period_month\n",
    "user['period_day']=period_day\n",
    "user.head(3)"
   ]
  },
  {
   "cell_type": "code",
   "execution_count": 51,
   "metadata": {},
   "outputs": [
    {
     "data": {
      "text/html": [
       "<div>\n",
       "<style scoped>\n",
       "    .dataframe tbody tr th:only-of-type {\n",
       "        vertical-align: middle;\n",
       "    }\n",
       "\n",
       "    .dataframe tbody tr th {\n",
       "        vertical-align: top;\n",
       "    }\n",
       "\n",
       "    .dataframe thead th {\n",
       "        text-align: right;\n",
       "    }\n",
       "</style>\n",
       "<table border=\"1\" class=\"dataframe\">\n",
       "  <thead>\n",
       "    <tr style=\"text-align: right;\">\n",
       "      <th></th>\n",
       "      <th>user</th>\n",
       "      <th>period_year</th>\n",
       "      <th>period_month</th>\n",
       "      <th>period_day</th>\n",
       "      <th>period</th>\n",
       "    </tr>\n",
       "  </thead>\n",
       "  <tbody>\n",
       "    <tr>\n",
       "      <th>0</th>\n",
       "      <td>11</td>\n",
       "      <td>2</td>\n",
       "      <td>0</td>\n",
       "      <td>11</td>\n",
       "      <td>24</td>\n",
       "    </tr>\n",
       "    <tr>\n",
       "      <th>1</th>\n",
       "      <td>14</td>\n",
       "      <td>0</td>\n",
       "      <td>0</td>\n",
       "      <td>0</td>\n",
       "      <td>0</td>\n",
       "    </tr>\n",
       "    <tr>\n",
       "      <th>2</th>\n",
       "      <td>18</td>\n",
       "      <td>3</td>\n",
       "      <td>10</td>\n",
       "      <td>-18</td>\n",
       "      <td>46</td>\n",
       "    </tr>\n",
       "  </tbody>\n",
       "</table>\n",
       "</div>"
      ],
      "text/plain": [
       "   user  period_year  period_month  period_day  period\n",
       "0    11            2             0          11      24\n",
       "1    14            0             0           0       0\n",
       "2    18            3            10         -18      46"
      ]
     },
     "execution_count": 51,
     "metadata": {},
     "output_type": "execute_result"
    }
   ],
   "source": [
    "user['period']=user['period_year']*12+period_month\n",
    "user.head(3)"
   ]
  },
  {
   "cell_type": "code",
   "execution_count": 52,
   "metadata": {},
   "outputs": [
    {
     "data": {
      "text/plain": [
       "Text(0.5, 1.0, 'Total monthes')"
      ]
     },
     "execution_count": 52,
     "metadata": {},
     "output_type": "execute_result"
    },
    {
     "data": {
      "image/png": "[encoded data removed]",
      "text/plain": [
       "<Figure size 1080x432 with 1 Axes>"
      ]
     },
     "metadata": {
      "needs_background": "light"
     },
     "output_type": "display_data"
    }
   ],
   "source": [
    "user['period'].value_counts().plot(kind = 'bar', figsize = (15,6))\n",
    "plt.xticks(range(min(user['period']),max(user['period']),30),labels=[x for x in range(min(user['period']),max(user['period']),30)])\n",
    "plt.xlabel('monthes')\n",
    "plt.ylabel('users')\n",
    "plt.title('Total monthes')"
   ]
  },
  {
   "cell_type": "markdown",
   "metadata": {},
   "source": [
    "# 이상 유저에 대한 EDA"
   ]
  },
  {
   "cell_type": "markdown",
   "metadata": {},
   "source": [
    "### timestamp가 하루 이하인 user"
   ]
  },
  {
   "cell_type": "code",
   "execution_count": 31,
   "metadata": {},
   "outputs": [
    {
     "name": "stdout",
     "output_type": "stream",
     "text": [
      "10097\n"
     ]
    }
   ],
   "source": [
    "day1_user=list()\n",
    "for i in range(len(user)):\n",
    "    if user.loc[i,'period_year']==0 and user.loc[i,'period_month']==0 and user.loc[i,'period_day']==0:\n",
    "        day1_user.append(user.loc[i,'user'])\n",
    "\n",
    "print(len(day1_user))"
   ]
  },
  {
   "cell_type": "code",
   "execution_count": 32,
   "metadata": {},
   "outputs": [],
   "source": [
    "pd.DataFrame(day1_user).to_csv(\"eda_day1_user.csv\",header=False, index=False)"
   ]
  },
  {
   "cell_type": "markdown",
   "metadata": {},
   "source": [
    "# Bad users"
   ]
  },
  {
   "cell_type": "code",
   "execution_count": 33,
   "metadata": {},
   "outputs": [
    {
     "data": {
      "text/plain": [
       "array([    60,     65,     72, ..., 138473, 138475, 138492])"
      ]
     },
     "execution_count": 33,
     "metadata": {},
     "output_type": "execute_result"
    }
   ],
   "source": [
    "bad_user=pd.read_csv(\"bad_user_id03.csv\").to_numpy().reshape(-1) # 다른 기준으로 거른 bad user 10000명 \n",
    "bad_user"
   ]
  },
  {
   "cell_type": "code",
   "execution_count": 34,
   "metadata": {},
   "outputs": [
    {
     "name": "stdout",
     "output_type": "stream",
     "text": [
      "bad_user에 속하면서 로그 길이가 하루인 유저의 명수:  4531\n"
     ]
    }
   ],
   "source": [
    "cnt=0\n",
    "for u in bad_user:\n",
    "    if u in day1_user:\n",
    "        cnt+=1\n",
    "print('bad_user에 속하면서 로그 길이가 하루인 유저의 명수: ', cnt)"
   ]
  },
  {
   "cell_type": "code",
   "execution_count": 35,
   "metadata": {},
   "outputs": [
    {
     "name": "stdout",
     "output_type": "stream",
     "text": [
      "bad_user의 log sequence 길이의 평균 114.88838374466506\n"
     ]
    }
   ],
   "source": [
    "bad_user_len=list()\n",
    "for u in bad_user: # 2분 이하 소요\n",
    "    x=train_df[train_df['user']==u]\n",
    "    bad_user_len.append(len(x))\n",
    "print('bad_user의 log sequence 길이의 평균',sum(bad_user_len)/len(bad_user))"
   ]
  },
  {
   "cell_type": "code",
   "execution_count": 36,
   "metadata": {},
   "outputs": [
    {
     "name": "stdout",
     "output_type": "stream",
     "text": [
      "sequence 길이 최대 :  1571            sequence 길이 최소 :  16\n"
     ]
    }
   ],
   "source": [
    "print(\"sequence 길이 최대 : \",max(bad_user_len), '           sequence 길이 최소 : ',min(bad_user_len))"
   ]
  },
  {
   "cell_type": "code",
   "execution_count": 37,
   "metadata": {},
   "outputs": [
    {
     "data": {
      "text/plain": [
       "(array([3.000e+00, 5.180e+02, 2.462e+03, 1.718e+03, 1.255e+03, 1.035e+03,\n",
       "        7.160e+02, 5.640e+02, 4.290e+02, 3.670e+02, 2.920e+02, 2.250e+02,\n",
       "        1.840e+02, 1.710e+02, 1.420e+02, 1.070e+02, 9.600e+01, 7.500e+01,\n",
       "        6.100e+01, 3.500e+01, 3.900e+01, 3.800e+01, 2.000e+01, 3.000e+01,\n",
       "        1.800e+01, 1.600e+01, 1.900e+01, 1.400e+01, 1.300e+01, 1.300e+01,\n",
       "        1.400e+01, 7.000e+00, 1.000e+01, 6.000e+00, 8.000e+00, 4.000e+00,\n",
       "        5.000e+00, 5.000e+00, 2.000e+00, 5.000e+00, 3.000e+00, 2.000e+00,\n",
       "        2.000e+00, 3.000e+00, 1.000e+00, 0.000e+00, 0.000e+00, 1.000e+00,\n",
       "        1.000e+00, 3.000e+00, 0.000e+00, 0.000e+00, 4.000e+00, 1.000e+00,\n",
       "        0.000e+00, 1.000e+00, 1.000e+00, 1.000e+00, 0.000e+00, 0.000e+00,\n",
       "        1.000e+00, 1.000e+00, 0.000e+00, 1.000e+00, 2.000e+00, 0.000e+00,\n",
       "        1.000e+00, 2.000e+00, 0.000e+00, 0.000e+00, 1.000e+00, 0.000e+00,\n",
       "        0.000e+00, 0.000e+00, 0.000e+00, 0.000e+00, 0.000e+00, 0.000e+00,\n",
       "        0.000e+00, 0.000e+00, 0.000e+00, 1.000e+00, 0.000e+00, 1.000e+00,\n",
       "        1.000e+00, 0.000e+00, 0.000e+00, 0.000e+00, 0.000e+00, 0.000e+00,\n",
       "        0.000e+00, 0.000e+00, 0.000e+00, 0.000e+00, 0.000e+00, 0.000e+00,\n",
       "        0.000e+00, 0.000e+00, 0.000e+00, 1.000e+00]),\n",
       " array([  16.  ,   31.55,   47.1 ,   62.65,   78.2 ,   93.75,  109.3 ,\n",
       "         124.85,  140.4 ,  155.95,  171.5 ,  187.05,  202.6 ,  218.15,\n",
       "         233.7 ,  249.25,  264.8 ,  280.35,  295.9 ,  311.45,  327.  ,\n",
       "         342.55,  358.1 ,  373.65,  389.2 ,  404.75,  420.3 ,  435.85,\n",
       "         451.4 ,  466.95,  482.5 ,  498.05,  513.6 ,  529.15,  544.7 ,\n",
       "         560.25,  575.8 ,  591.35,  606.9 ,  622.45,  638.  ,  653.55,\n",
       "         669.1 ,  684.65,  700.2 ,  715.75,  731.3 ,  746.85,  762.4 ,\n",
       "         777.95,  793.5 ,  809.05,  824.6 ,  840.15,  855.7 ,  871.25,\n",
       "         886.8 ,  902.35,  917.9 ,  933.45,  949.  ,  964.55,  980.1 ,\n",
       "         995.65, 1011.2 , 1026.75, 1042.3 , 1057.85, 1073.4 , 1088.95,\n",
       "        1104.5 , 1120.05, 1135.6 , 1151.15, 1166.7 , 1182.25, 1197.8 ,\n",
       "        1213.35, 1228.9 , 1244.45, 1260.  , 1275.55, 1291.1 , 1306.65,\n",
       "        1322.2 , 1337.75, 1353.3 , 1368.85, 1384.4 , 1399.95, 1415.5 ,\n",
       "        1431.05, 1446.6 , 1462.15, 1477.7 , 1493.25, 1508.8 , 1524.35,\n",
       "        1539.9 , 1555.45, 1571.  ]),\n",
       " <BarContainer object of 100 artists>)"
      ]
     },
     "execution_count": 37,
     "metadata": {},
     "output_type": "execute_result"
    },
    {
     "data": {
      "image/png": "[encoded data removed]",
      "text/plain": [
       "<Figure size 432x288 with 1 Axes>"
      ]
     },
     "metadata": {
      "needs_background": "light"
     },
     "output_type": "display_data"
    }
   ],
   "source": [
    "plt.hist(bad_user_len, bins=100)"
   ]
  },
  {
   "cell_type": "markdown",
   "metadata": {},
   "source": [
    "### bad_user 중 이용기간이 하루 이상인 사람들"
   ]
  },
  {
   "cell_type": "code",
   "execution_count": 78,
   "metadata": {},
   "outputs": [
    {
     "name": "stdout",
     "output_type": "stream",
     "text": [
      "bad user 중 timestamp기간이 하루보다 긴 users :  6247\n"
     ]
    },
    {
     "data": {
      "text/plain": [
       "[65, 82, 121, 136, 154, 189]"
      ]
     },
     "execution_count": 78,
     "metadata": {},
     "output_type": "execute_result"
    }
   ],
   "source": [
    "bad_morethan1day=list()\n",
    "for u in bad_user:\n",
    "    if u not in day1_user:\n",
    "        bad_morethan1day.append(u)\n",
    "\n",
    "print(\"bad user 중 timestamp기간이 하루보다 긴 users : \" ,len(bad_morethan1day))\n",
    "bad_morethan1day[:6]"
   ]
  },
  {
   "cell_type": "code",
   "execution_count": 79,
   "metadata": {},
   "outputs": [
    {
     "name": "stdout",
     "output_type": "stream",
     "text": [
      "bad_user의 log sequence의 평균 134.49719865535457\n"
     ]
    }
   ],
   "source": [
    "bad_morethan1day_len=list()\n",
    "for u in bad_morethan1day:\n",
    "    x=train_df[train_df['user']==u]\n",
    "    bad_morethan1day_len.append(len(x))\n",
    "print('bad_user의 log sequence의 평균',sum(bad_morethan1day_len)/len(bad_morethan1day_len))"
   ]
  },
  {
   "cell_type": "code",
   "execution_count": 80,
   "metadata": {},
   "outputs": [
    {
     "name": "stdout",
     "output_type": "stream",
     "text": [
      "sequence 길이 최대 :  1571            sequence 길이 최소 :  28\n"
     ]
    }
   ],
   "source": [
    "print(\"sequence 길이 최대 : \",max(bad_morethan1day_len), '           sequence 길이 최소 : ',min(bad_morethan1day_len))"
   ]
  },
  {
   "cell_type": "code",
   "execution_count": 81,
   "metadata": {},
   "outputs": [
    {
     "data": {
      "text/plain": [
       "(array([ 12., 977., 909., 695., 662., 490., 414., 302., 285., 245., 189.,\n",
       "        152., 139., 135.,  91.,  83.,  71.,  50.,  36.,  38.,  31.,  29.,\n",
       "         17.,  24.,  14.,  19.,   8.,  16.,  10.,  12.,  12.,   6.,   8.,\n",
       "          8.,   4.,   5.,   5.,   3.,   3.,   5.,   0.,   3.,   1.,   3.,\n",
       "          0.,   0.,   0.,   2.,   3.,   0.,   0.,   2.,   3.,   0.,   0.,\n",
       "          2.,   0.,   1.,   0.,   1.,   0.,   1.,   0.,   2.,   1.,   0.,\n",
       "          2.,   1.,   0.,   0.,   1.,   0.,   0.,   0.,   0.,   0.,   0.,\n",
       "          0.,   0.,   0.,   0.,   1.,   0.,   1.,   1.,   0.,   0.,   0.,\n",
       "          0.,   0.,   0.,   0.,   0.,   0.,   0.,   0.,   0.,   0.,   0.,\n",
       "          1.]),\n",
       " array([  28.  ,   43.43,   58.86,   74.29,   89.72,  105.15,  120.58,\n",
       "         136.01,  151.44,  166.87,  182.3 ,  197.73,  213.16,  228.59,\n",
       "         244.02,  259.45,  274.88,  290.31,  305.74,  321.17,  336.6 ,\n",
       "         352.03,  367.46,  382.89,  398.32,  413.75,  429.18,  444.61,\n",
       "         460.04,  475.47,  490.9 ,  506.33,  521.76,  537.19,  552.62,\n",
       "         568.05,  583.48,  598.91,  614.34,  629.77,  645.2 ,  660.63,\n",
       "         676.06,  691.49,  706.92,  722.35,  737.78,  753.21,  768.64,\n",
       "         784.07,  799.5 ,  814.93,  830.36,  845.79,  861.22,  876.65,\n",
       "         892.08,  907.51,  922.94,  938.37,  953.8 ,  969.23,  984.66,\n",
       "        1000.09, 1015.52, 1030.95, 1046.38, 1061.81, 1077.24, 1092.67,\n",
       "        1108.1 , 1123.53, 1138.96, 1154.39, 1169.82, 1185.25, 1200.68,\n",
       "        1216.11, 1231.54, 1246.97, 1262.4 , 1277.83, 1293.26, 1308.69,\n",
       "        1324.12, 1339.55, 1354.98, 1370.41, 1385.84, 1401.27, 1416.7 ,\n",
       "        1432.13, 1447.56, 1462.99, 1478.42, 1493.85, 1509.28, 1524.71,\n",
       "        1540.14, 1555.57, 1571.  ]),\n",
       " <BarContainer object of 100 artists>)"
      ]
     },
     "execution_count": 81,
     "metadata": {},
     "output_type": "execute_result"
    },
    {
     "data": {
      "image/png": "[encoded data removed]",
      "text/plain": [
       "<Figure size 432x288 with 1 Axes>"
      ]
     },
     "metadata": {
      "needs_background": "light"
     },
     "output_type": "display_data"
    }
   ],
   "source": [
    "plt.hist(bad_morethan1day_len, bins=100)"
   ]
  },
  {
   "cell_type": "markdown",
   "metadata": {},
   "source": [
    "#### 하루보다 오래 사용한 유저들의 평균 사용 개월 수"
   ]
  },
  {
   "cell_type": "code",
   "execution_count": 82,
   "metadata": {},
   "outputs": [
    {
     "data": {
      "text/html": [
       "<div>\n",
       "<style scoped>\n",
       "    .dataframe tbody tr th:only-of-type {\n",
       "        vertical-align: middle;\n",
       "    }\n",
       "\n",
       "    .dataframe tbody tr th {\n",
       "        vertical-align: top;\n",
       "    }\n",
       "\n",
       "    .dataframe thead th {\n",
       "        text-align: right;\n",
       "    }\n",
       "</style>\n",
       "<table border=\"1\" class=\"dataframe\">\n",
       "  <thead>\n",
       "    <tr style=\"text-align: right;\">\n",
       "      <th></th>\n",
       "      <th>user</th>\n",
       "      <th>period_year</th>\n",
       "      <th>period_month</th>\n",
       "      <th>period_day</th>\n",
       "      <th>period</th>\n",
       "    </tr>\n",
       "  </thead>\n",
       "  <tbody>\n",
       "    <tr>\n",
       "      <th>0</th>\n",
       "      <td>11</td>\n",
       "      <td>2</td>\n",
       "      <td>0</td>\n",
       "      <td>11</td>\n",
       "      <td>24</td>\n",
       "    </tr>\n",
       "    <tr>\n",
       "      <th>1</th>\n",
       "      <td>14</td>\n",
       "      <td>0</td>\n",
       "      <td>0</td>\n",
       "      <td>0</td>\n",
       "      <td>0</td>\n",
       "    </tr>\n",
       "    <tr>\n",
       "      <th>2</th>\n",
       "      <td>18</td>\n",
       "      <td>3</td>\n",
       "      <td>10</td>\n",
       "      <td>-18</td>\n",
       "      <td>46</td>\n",
       "    </tr>\n",
       "    <tr>\n",
       "      <th>3</th>\n",
       "      <td>25</td>\n",
       "      <td>0</td>\n",
       "      <td>0</td>\n",
       "      <td>0</td>\n",
       "      <td>0</td>\n",
       "    </tr>\n",
       "    <tr>\n",
       "      <th>4</th>\n",
       "      <td>31</td>\n",
       "      <td>0</td>\n",
       "      <td>0</td>\n",
       "      <td>1</td>\n",
       "      <td>0</td>\n",
       "    </tr>\n",
       "    <tr>\n",
       "      <th>...</th>\n",
       "      <td>...</td>\n",
       "      <td>...</td>\n",
       "      <td>...</td>\n",
       "      <td>...</td>\n",
       "      <td>...</td>\n",
       "    </tr>\n",
       "    <tr>\n",
       "      <th>31355</th>\n",
       "      <td>138473</td>\n",
       "      <td>0</td>\n",
       "      <td>0</td>\n",
       "      <td>0</td>\n",
       "      <td>0</td>\n",
       "    </tr>\n",
       "    <tr>\n",
       "      <th>31356</th>\n",
       "      <td>138475</td>\n",
       "      <td>0</td>\n",
       "      <td>1</td>\n",
       "      <td>-13</td>\n",
       "      <td>1</td>\n",
       "    </tr>\n",
       "    <tr>\n",
       "      <th>31357</th>\n",
       "      <td>138486</td>\n",
       "      <td>0</td>\n",
       "      <td>0</td>\n",
       "      <td>0</td>\n",
       "      <td>0</td>\n",
       "    </tr>\n",
       "    <tr>\n",
       "      <th>31358</th>\n",
       "      <td>138492</td>\n",
       "      <td>0</td>\n",
       "      <td>0</td>\n",
       "      <td>1</td>\n",
       "      <td>0</td>\n",
       "    </tr>\n",
       "    <tr>\n",
       "      <th>31359</th>\n",
       "      <td>138493</td>\n",
       "      <td>0</td>\n",
       "      <td>2</td>\n",
       "      <td>-10</td>\n",
       "      <td>2</td>\n",
       "    </tr>\n",
       "  </tbody>\n",
       "</table>\n",
       "<p>31360 rows × 5 columns</p>\n",
       "</div>"
      ],
      "text/plain": [
       "         user  period_year  period_month  period_day  period\n",
       "0          11            2             0          11      24\n",
       "1          14            0             0           0       0\n",
       "2          18            3            10         -18      46\n",
       "3          25            0             0           0       0\n",
       "4          31            0             0           1       0\n",
       "...       ...          ...           ...         ...     ...\n",
       "31355  138473            0             0           0       0\n",
       "31356  138475            0             1         -13       1\n",
       "31357  138486            0             0           0       0\n",
       "31358  138492            0             0           1       0\n",
       "31359  138493            0             2         -10       2\n",
       "\n",
       "[31360 rows x 5 columns]"
      ]
     },
     "execution_count": 82,
     "metadata": {},
     "output_type": "execute_result"
    }
   ],
   "source": [
    "user"
   ]
  },
  {
   "cell_type": "code",
   "execution_count": 83,
   "metadata": {},
   "outputs": [
    {
     "data": {
      "text/html": [
       "<div>\n",
       "<style scoped>\n",
       "    .dataframe tbody tr th:only-of-type {\n",
       "        vertical-align: middle;\n",
       "    }\n",
       "\n",
       "    .dataframe tbody tr th {\n",
       "        vertical-align: top;\n",
       "    }\n",
       "\n",
       "    .dataframe thead th {\n",
       "        text-align: right;\n",
       "    }\n",
       "</style>\n",
       "<table border=\"1\" class=\"dataframe\">\n",
       "  <thead>\n",
       "    <tr style=\"text-align: right;\">\n",
       "      <th></th>\n",
       "      <th>user</th>\n",
       "      <th>period_year</th>\n",
       "      <th>period_month</th>\n",
       "      <th>period_day</th>\n",
       "      <th>period</th>\n",
       "    </tr>\n",
       "  </thead>\n",
       "  <tbody>\n",
       "    <tr>\n",
       "      <th>0</th>\n",
       "      <td>11</td>\n",
       "      <td>2</td>\n",
       "      <td>0</td>\n",
       "      <td>11</td>\n",
       "      <td>24</td>\n",
       "    </tr>\n",
       "    <tr>\n",
       "      <th>1</th>\n",
       "      <td>14</td>\n",
       "      <td>0</td>\n",
       "      <td>0</td>\n",
       "      <td>0</td>\n",
       "      <td>0</td>\n",
       "    </tr>\n",
       "    <tr>\n",
       "      <th>2</th>\n",
       "      <td>18</td>\n",
       "      <td>3</td>\n",
       "      <td>10</td>\n",
       "      <td>-18</td>\n",
       "      <td>46</td>\n",
       "    </tr>\n",
       "    <tr>\n",
       "      <th>3</th>\n",
       "      <td>25</td>\n",
       "      <td>0</td>\n",
       "      <td>0</td>\n",
       "      <td>0</td>\n",
       "      <td>0</td>\n",
       "    </tr>\n",
       "    <tr>\n",
       "      <th>4</th>\n",
       "      <td>31</td>\n",
       "      <td>0</td>\n",
       "      <td>0</td>\n",
       "      <td>1</td>\n",
       "      <td>0</td>\n",
       "    </tr>\n",
       "  </tbody>\n",
       "</table>\n",
       "</div>"
      ],
      "text/plain": [
       "   user  period_year  period_month  period_day  period\n",
       "0    11            2             0          11      24\n",
       "1    14            0             0           0       0\n",
       "2    18            3            10         -18      46\n",
       "3    25            0             0           0       0\n",
       "4    31            0             0           1       0"
      ]
     },
     "execution_count": 83,
     "metadata": {},
     "output_type": "execute_result"
    }
   ],
   "source": [
    "user=pd.DataFrame(user)\n",
    "user.head()"
   ]
  },
  {
   "cell_type": "code",
   "execution_count": 84,
   "metadata": {},
   "outputs": [
    {
     "name": "stdout",
     "output_type": "stream",
     "text": [
      "[11, 14, 23, 29, 32]\n"
     ]
    },
    {
     "data": {
      "text/html": [
       "<div>\n",
       "<style scoped>\n",
       "    .dataframe tbody tr th:only-of-type {\n",
       "        vertical-align: middle;\n",
       "    }\n",
       "\n",
       "    .dataframe tbody tr th {\n",
       "        vertical-align: top;\n",
       "    }\n",
       "\n",
       "    .dataframe thead th {\n",
       "        text-align: right;\n",
       "    }\n",
       "</style>\n",
       "<table border=\"1\" class=\"dataframe\">\n",
       "  <thead>\n",
       "    <tr style=\"text-align: right;\">\n",
       "      <th></th>\n",
       "      <th>user</th>\n",
       "      <th>period_year</th>\n",
       "      <th>period_month</th>\n",
       "      <th>period_day</th>\n",
       "      <th>period</th>\n",
       "    </tr>\n",
       "  </thead>\n",
       "  <tbody>\n",
       "    <tr>\n",
       "      <th>11</th>\n",
       "      <td>65</td>\n",
       "      <td>0</td>\n",
       "      <td>1</td>\n",
       "      <td>-16</td>\n",
       "      <td>1</td>\n",
       "    </tr>\n",
       "    <tr>\n",
       "      <th>14</th>\n",
       "      <td>82</td>\n",
       "      <td>4</td>\n",
       "      <td>11</td>\n",
       "      <td>-11</td>\n",
       "      <td>59</td>\n",
       "    </tr>\n",
       "    <tr>\n",
       "      <th>23</th>\n",
       "      <td>121</td>\n",
       "      <td>0</td>\n",
       "      <td>1</td>\n",
       "      <td>-21</td>\n",
       "      <td>1</td>\n",
       "    </tr>\n",
       "    <tr>\n",
       "      <th>29</th>\n",
       "      <td>136</td>\n",
       "      <td>0</td>\n",
       "      <td>1</td>\n",
       "      <td>-17</td>\n",
       "      <td>1</td>\n",
       "    </tr>\n",
       "    <tr>\n",
       "      <th>32</th>\n",
       "      <td>154</td>\n",
       "      <td>1</td>\n",
       "      <td>5</td>\n",
       "      <td>-7</td>\n",
       "      <td>17</td>\n",
       "    </tr>\n",
       "  </tbody>\n",
       "</table>\n",
       "</div>"
      ],
      "text/plain": [
       "    user  period_year  period_month  period_day  period\n",
       "11    65            0             1         -16       1\n",
       "14    82            4            11         -11      59\n",
       "23   121            0             1         -21       1\n",
       "29   136            0             1         -17       1\n",
       "32   154            1             5          -7      17"
      ]
     },
     "execution_count": 84,
     "metadata": {},
     "output_type": "execute_result"
    }
   ],
   "source": [
    "isin_1day=user['user'].isin(bad_morethan1day)\n",
    "isin_1day_index=[i for i,x in enumerate(isin_1day) if x==True]\n",
    "print(isin_1day_index[:5])\n",
    "df_period_1day=user.iloc[isin_1day_index[:5],:]\n",
    "df_period_1day\n",
    "\n",
    "# country_list = ['한국', '일본', '대만', '영국', '호주']\n",
    "# df[~df['country'].isin(country_list)]\n",
    "\n",
    "# df_period_1day=abs(df_period_1day) # -값인 기간을 양수로 바꾸어줌\n",
    "# df_period_1day.head()"
   ]
  },
  {
   "cell_type": "code",
   "execution_count": 85,
   "metadata": {},
   "outputs": [
    {
     "data": {
      "text/plain": [
       "user            111.6\n",
       "period_year       1.0\n",
       "period_month      3.8\n",
       "period_day      -14.4\n",
       "period           15.8\n",
       "dtype: float64"
      ]
     },
     "execution_count": 85,
     "metadata": {},
     "output_type": "execute_result"
    }
   ],
   "source": [
    "df_period_1day.mean(axis=0)"
   ]
  },
  {
   "cell_type": "markdown",
   "metadata": {},
   "source": [
    "평균 15개월 정도 사용기간을 가짐"
   ]
  }
 ],
 "metadata": {
  "interpreter": {
   "hash": "d4d1e4263499bec80672ea0156c357c1ee493ec2b1c70f0acce89fc37c4a6abe"
  },
  "kernelspec": {
   "display_name": "Python 3.8.5 ('base')",
   "language": "python",
   "name": "python3"
  },
  "language_info": {
   "codemirror_mode": {
    "name": "ipython",
    "version": 3
   },
   "file_extension": ".py",
   "mimetype": "text/x-python",
   "name": "python",
   "nbconvert_exporter": "python",
   "pygments_lexer": "ipython3",
   "version": "3.8.5"
  },
  "orig_nbformat": 4
 },
 "nbformat": 4,
 "nbformat_minor": 2
}
