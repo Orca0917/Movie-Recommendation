{
 "cells": [
  {
   "cell_type": "code",
   "execution_count": 8,
   "metadata": {},
   "outputs": [],
   "source": [
    "import numpy as np\n",
    "import pandas as pd\n",
    "import datetime as dt"
   ]
  },
  {
   "cell_type": "code",
   "execution_count": 4,
   "metadata": {},
   "outputs": [],
   "source": [
    "years = pd.read_csv(\"/opt/ml/input/data/train/years.tsv\", delimiter=\"\\t\")\n",
    "uim = pd.read_csv(\"/opt/ml/input/workspace/Item_Removal/new_user_movie_interaction.csv\")\n",
    "raw_data = pd.read_csv(\"/opt/ml/input/data/train/train_ratings.csv\")"
   ]
  },
  {
   "cell_type": "code",
   "execution_count": 57,
   "metadata": {},
   "outputs": [],
   "source": [
    "group = raw_data.groupby(\"user\")[\"time\"].apply(max)\n",
    "group = group.apply(dt.datetime.fromtimestamp)\n",
    "for user in group.keys() :\n",
    "    group[user] = group[user].year + 1\n",
    "group.to_csv(\"user_year.csv\")"
   ]
  },
  {
   "cell_type": "code",
   "execution_count": 62,
   "metadata": {},
   "outputs": [],
   "source": [
    "user_year = pd.read_csv(\"user_year.csv\")\n",
    "user_year_np = user_year[\"time\"].to_numpy()"
   ]
  },
  {
   "cell_type": "code",
   "execution_count": 96,
   "metadata": {},
   "outputs": [],
   "source": [
    "unique_sid = pd.read_csv(\"unique_sid.txt\", header=None)\n",
    "unique_sid_list = list()\n",
    "for sid in unique_sid[0] :\n",
    "    unique_sid_list.append(sid)\n",
    "id2show = dict((i, sid) for (i, sid) in enumerate(unique_sid_list))\n",
    "show2id = dict((sid, i) for (i, sid) in enumerate(unique_sid_list))"
   ]
  },
  {
   "cell_type": "code",
   "execution_count": 107,
   "metadata": {},
   "outputs": [],
   "source": [
    "for key in years[\"item\"].keys() :\n",
    "    years[\"item\"][key] = show2id[years[\"item\"][key]]"
   ]
  },
  {
   "cell_type": "code",
   "execution_count": 154,
   "metadata": {},
   "outputs": [],
   "source": [
    "id2year = dict()\n",
    "for i in range(len(years[\"item\"])) :\n",
    "    id2year[years[\"item\"][i]] = years[\"year\"][i]\n",
    "missing_years = list()\n",
    "\n",
    "for i in range(6707) :\n",
    "    if i not in id2year.keys() :\n",
    "        missing_years.append(i)"
   ]
  },
  {
   "cell_type": "code",
   "execution_count": 123,
   "metadata": {},
   "outputs": [],
   "source": [
    "uim_np = uim.iloc[:,1:].to_numpy()"
   ]
  },
  {
   "cell_type": "code",
   "execution_count": 156,
   "metadata": {},
   "outputs": [
    {
     "name": "stdout",
     "output_type": "stream",
     "text": [
      "0/31360 users completed\n",
      "5000/31360 users completed\n",
      "10000/31360 users completed\n",
      "15000/31360 users completed\n",
      "20000/31360 users completed\n",
      "25000/31360 users completed\n",
      "30000/31360 users completed\n"
     ]
    }
   ],
   "source": [
    "# 3분 정도 소요\n",
    "for user in range(len(uim_np)) :\n",
    "    for item in range(len(uim_np[user])) :\n",
    "        \n",
    "        if item in missing_years :\n",
    "            continue\n",
    "\n",
    "        item_year = id2year[item]\n",
    "        if id2year[item] >= user_year_np[user] :\n",
    "            uim_np[user][item] = 2\n",
    "\n",
    "    if user%5000 == 0 :\n",
    "        print(f\"{user}/31360 users completed\")"
   ]
  },
  {
   "cell_type": "code",
   "execution_count": 159,
   "metadata": {},
   "outputs": [],
   "source": [
    "new_uim_df = pd.DataFrame(uim_np)\n",
    "#3분 정도 소요\n",
    "new_uim_df.to_csv(\"future_removed_uim.csv\")"
   ]
  }
 ],
 "metadata": {
  "interpreter": {
   "hash": "d4d1e4263499bec80672ea0156c357c1ee493ec2b1c70f0acce89fc37c4a6abe"
  },
  "kernelspec": {
   "display_name": "Python 3.8.5 ('base')",
   "language": "python",
   "name": "python3"
  },
  "language_info": {
   "codemirror_mode": {
    "name": "ipython",
    "version": 3
   },
   "file_extension": ".py",
   "mimetype": "text/x-python",
   "name": "python",
   "nbconvert_exporter": "python",
   "pygments_lexer": "ipython3",
   "version": "3.8.5"
  },
  "orig_nbformat": 4
 },
 "nbformat": 4,
 "nbformat_minor": 2
}
