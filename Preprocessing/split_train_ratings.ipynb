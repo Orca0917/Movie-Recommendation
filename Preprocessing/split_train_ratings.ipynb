{
 "cells": [
  {
   "cell_type": "markdown",
   "metadata": {},
   "source": [
    "# Train Data Split (50 : 50)"
   ]
  },
  {
   "cell_type": "code",
   "execution_count": 1,
   "metadata": {},
   "outputs": [],
   "source": [
    "import numpy as np\n",
    "import pandas as pd\n",
    "import json\n",
    "import os\n",
    "from tqdm import tqdm"
   ]
  },
  {
   "cell_type": "code",
   "execution_count": 2,
   "metadata": {},
   "outputs": [],
   "source": [
    "RATING_FILENAME = \"train_ratings.csv\"\n",
    "TRAIN_DATA_PATH = \"/opt/ml/input/data/train/\"\n",
    "SPLIT_DATA_TARGET_PATH = \"/opt/ml/input/data/train/\""
   ]
  },
  {
   "cell_type": "code",
   "execution_count": 3,
   "metadata": {},
   "outputs": [
    {
     "data": {
      "text/html": [
       "<div>\n",
       "<style scoped>\n",
       "    .dataframe tbody tr th:only-of-type {\n",
       "        vertical-align: middle;\n",
       "    }\n",
       "\n",
       "    .dataframe tbody tr th {\n",
       "        vertical-align: top;\n",
       "    }\n",
       "\n",
       "    .dataframe thead th {\n",
       "        text-align: right;\n",
       "    }\n",
       "</style>\n",
       "<table border=\"1\" class=\"dataframe\">\n",
       "  <thead>\n",
       "    <tr style=\"text-align: right;\">\n",
       "      <th></th>\n",
       "      <th>user</th>\n",
       "      <th>item</th>\n",
       "      <th>time</th>\n",
       "    </tr>\n",
       "  </thead>\n",
       "  <tbody>\n",
       "    <tr>\n",
       "      <th>0</th>\n",
       "      <td>11</td>\n",
       "      <td>4643</td>\n",
       "      <td>1230782529</td>\n",
       "    </tr>\n",
       "    <tr>\n",
       "      <th>1</th>\n",
       "      <td>11</td>\n",
       "      <td>170</td>\n",
       "      <td>1230782534</td>\n",
       "    </tr>\n",
       "    <tr>\n",
       "      <th>2</th>\n",
       "      <td>11</td>\n",
       "      <td>531</td>\n",
       "      <td>1230782539</td>\n",
       "    </tr>\n",
       "    <tr>\n",
       "      <th>3</th>\n",
       "      <td>11</td>\n",
       "      <td>616</td>\n",
       "      <td>1230782542</td>\n",
       "    </tr>\n",
       "    <tr>\n",
       "      <th>4</th>\n",
       "      <td>11</td>\n",
       "      <td>2140</td>\n",
       "      <td>1230782563</td>\n",
       "    </tr>\n",
       "  </tbody>\n",
       "</table>\n",
       "</div>"
      ],
      "text/plain": [
       "   user  item        time\n",
       "0    11  4643  1230782529\n",
       "1    11   170  1230782534\n",
       "2    11   531  1230782539\n",
       "3    11   616  1230782542\n",
       "4    11  2140  1230782563"
      ]
     },
     "execution_count": 3,
     "metadata": {},
     "output_type": "execute_result"
    }
   ],
   "source": [
    "# -- load train_ratings.csv\n",
    "train_data_df = pd.read_csv(os.path.join(TRAIN_DATA_PATH, RATING_FILENAME))\n",
    "train_data_df.head(5)"
   ]
  },
  {
   "cell_type": "code",
   "execution_count": 4,
   "metadata": {},
   "outputs": [
    {
     "name": "stdout",
     "output_type": "stream",
     "text": [
      "Number of User : 31360\n"
     ]
    }
   ],
   "source": [
    "uniq_user = train_data_df['user'].unique()\n",
    "num_user = len(uniq_user)\n",
    "\n",
    "print (f\"Number of User : {num_user}\")"
   ]
  },
  {
   "cell_type": "code",
   "execution_count": 57,
   "metadata": {},
   "outputs": [
    {
     "name": "stderr",
     "output_type": "stream",
     "text": [
      "100%|██████████| 31360/31360 [03:43<00:00, 140.49it/s]\n"
     ]
    }
   ],
   "source": [
    "half_1 = []\n",
    "half_2 = []\n",
    "\n",
    "for user in tqdm(uniq_user):\n",
    "    #-- user item list\n",
    "    user_df = train_data_df[train_data_df['user'] == user]\n",
    "    item_len = len(user_df['item'])\n",
    "    \n",
    "    #-- [1/2] first half of user item list\n",
    "    first_item_list = user_df[:item_len // 2]\n",
    "    first_item_list = first_item_list.values.tolist()\n",
    "    half_1.extend(first_item_list)\n",
    "    \n",
    "    #-- [2/2] second half of user item list\n",
    "    second_item_list = user_df[item_len // 2:]\n",
    "    second_item_list = second_item_list.values.tolist()\n",
    "    half_2.extend(second_item_list)\n",
    "    \n",
    "#-- Make dataframe with list (to save with csv)\n",
    "first_half = pd.DataFrame(half_1, columns=[\"user\", \"item\", \"time\"])\n",
    "second_half = pd.DataFrame(half_2, columns=[\"user\", \"item\", \"time\"])"
   ]
  },
  {
   "cell_type": "code",
   "execution_count": 60,
   "metadata": {},
   "outputs": [],
   "source": [
    "# Save generated half-data\n",
    "first_half.to_csv(os.path.join(TRAIN_DATA_PATH, \"half_1.csv\"), index=False)\n",
    "second_half.to_csv(os.path.join(TRAIN_DATA_PATH, \"half_2.csv\"), index=False)"
   ]
  }
 ],
 "metadata": {
  "interpreter": {
   "hash": "d4d1e4263499bec80672ea0156c357c1ee493ec2b1c70f0acce89fc37c4a6abe"
  },
  "kernelspec": {
   "display_name": "Python 3.8.5 ('base')",
   "language": "python",
   "name": "python3"
  },
  "language_info": {
   "codemirror_mode": {
    "name": "ipython",
    "version": 3
   },
   "file_extension": ".py",
   "mimetype": "text/x-python",
   "name": "python",
   "nbconvert_exporter": "python",
   "pygments_lexer": "ipython3",
   "version": "3.8.5"
  },
  "orig_nbformat": 4
 },
 "nbformat": 4,
 "nbformat_minor": 2
}
