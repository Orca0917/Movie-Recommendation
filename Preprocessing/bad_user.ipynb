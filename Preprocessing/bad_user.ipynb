{
 "cells": [
  {
   "cell_type": "markdown",
   "metadata": {},
   "source": [
    "# MovieLens-20m 기준 Recall@10 계산\n",
    "대회에서 사용되는 원본 데이터 : MovieLens-20m"
   ]
  },
  {
   "cell_type": "code",
   "execution_count": 2,
   "metadata": {},
   "outputs": [],
   "source": [
    "import numpy as np\n",
    "import pandas as pd\n",
    "import json\n",
    "from tqdm import tqdm"
   ]
  },
  {
   "cell_type": "code",
   "execution_count": 3,
   "metadata": {},
   "outputs": [
    {
     "name": "stdout",
     "output_type": "stream",
     "text": [
      "Number of users : 31360\n"
     ]
    }
   ],
   "source": [
    "# 학습에 사용된 user만 uniq_user에 저장\n",
    "train_ratings_df = pd.read_csv('/opt/ml/input/data/train/train_ratings.csv')\n",
    "uniq_user = train_ratings_df['user'].unique()\n",
    "print (f\"Number of users : {len(uniq_user)}\")"
   ]
  },
  {
   "cell_type": "code",
   "execution_count": 4,
   "metadata": {},
   "outputs": [],
   "source": [
    "uim = pd.read_csv(\"/opt/ml/input/workspace/CF/Non-DL/FISM_ver2/user_movie_interaction.csv\")"
   ]
  },
  {
   "cell_type": "code",
   "execution_count": 5,
   "metadata": {},
   "outputs": [],
   "source": [
    "uim_np = uim.to_numpy()[:, 1:]"
   ]
  },
  {
   "cell_type": "code",
   "execution_count": 6,
   "metadata": {},
   "outputs": [
    {
     "data": {
      "text/plain": [
       "array([[1, 0, 0, ..., 0, 0, 0],\n",
       "       [1, 0, 0, ..., 0, 0, 0],\n",
       "       [0, 0, 0, ..., 0, 0, 0],\n",
       "       ...,\n",
       "       [1, 0, 0, ..., 0, 0, 0],\n",
       "       [0, 0, 0, ..., 0, 0, 0],\n",
       "       [1, 1, 0, ..., 0, 0, 0]])"
      ]
     },
     "execution_count": 6,
     "metadata": {},
     "output_type": "execute_result"
    }
   ],
   "source": [
    "uim_np"
   ]
  },
  {
   "cell_type": "code",
   "execution_count": 7,
   "metadata": {},
   "outputs": [
    {
     "data": {
      "text/plain": [
       "376"
      ]
     },
     "execution_count": 7,
     "metadata": {},
     "output_type": "execute_result"
    }
   ],
   "source": [
    "len(uim_np[0].nonzero()[0])"
   ]
  },
  {
   "cell_type": "code",
   "execution_count": 8,
   "metadata": {},
   "outputs": [],
   "source": [
    "# json 으로 부터 정답 파일 불러오기\n",
    "with open(\"answers.json\", \"r\") as json_file:\n",
    "    answer = json.load(json_file)\n",
    "    \n",
    "# answer example\n",
    "# \"11\" : [1093, 1077, 3396, 671, 1982, 3991, 43936, ...]\n",
    "# \"14\" : [...]\n",
    "# movielens 원본 데이터에는 시청했지만, 학습데이터에 없는 영화들을 Dict로 저장"
   ]
  },
  {
   "cell_type": "markdown",
   "metadata": {},
   "source": [
    "### submission 경로 수정해서 실행\n",
    "default : `./submission.csv`"
   ]
  },
  {
   "cell_type": "code",
   "execution_count": 20,
   "metadata": {},
   "outputs": [
    {
     "name": "stderr",
     "output_type": "stream",
     "text": [
      "100%|██████████| 31360/31360 [01:39<00:00, 314.89it/s]"
     ]
    },
    {
     "name": "stdout",
     "output_type": "stream",
     "text": [
      "Predicted submission result of Recall@10 = 0.32253507653061225\n"
     ]
    },
    {
     "name": "stderr",
     "output_type": "stream",
     "text": [
      "\n"
     ]
    }
   ],
   "source": [
    "# movielens-20m과 submission을 비교하여 Recall@10 값 계산\n",
    "submission_ub = pd.read_csv('/opt/ml/input/workspace/TestRecall/output/UB_submission.csv') # TODO: submission_file path에 맞게 수정!\n",
    "submission_mvae = pd.read_csv('/opt/ml/input/workspace/CF/DL CF/Mult-VAE/submission_MVAE_200_rm.csv')\n",
    "submission_dae = pd.read_csv('/opt/ml/input/workspace/CF/DL CF/Mult-VAE/submission_DAE_150.csv')\n",
    "submission_b4r = pd.read_csv('/opt/ml/input/workspace/BERT4Rec/output/submission_B4R_9_T10PF.csv')\n",
    "recall_result = []\n",
    "cnt = 0\n",
    "hit_length = list()\n",
    "bad_users = list()\n",
    "good_users = list()\n",
    "bad_num = 0.3\n",
    "good_num = 0.5\n",
    "# 각 유저마다 recall@10 계산하여 list에 저장\n",
    "for user in tqdm(uniq_user):\n",
    "    submission_by_user_ub = submission_ub[submission_ub['user'] == user]['item']\n",
    "    submission_by_user_mvae = submission_mvae[submission_mvae['user'] == user]['item']\n",
    "    submission_by_user_b4r = submission_b4r[submission_b4r['user'] == user]['item']\n",
    "    submission_by_user_dae = submission_dae[submission_dae['user'] == user]['item']\n",
    "\n",
    "    hit_ub = 0\n",
    "    hit_mvae = 0\n",
    "    hit_dae = 0\n",
    "    hit_b4r = 0\n",
    "\n",
    "    for item in submission_by_user_ub:\n",
    "        if item in answer[str(user)]:\n",
    "            hit_ub += 1\n",
    "    \n",
    "    for item in submission_by_user_mvae:\n",
    "        if item in answer[str(user)]:\n",
    "            hit_mvae += 1\n",
    "    \n",
    "    for item in submission_by_user_dae:\n",
    "        if item in answer[str(user)]:\n",
    "            hit_dae += 1\n",
    "    \n",
    "    for item in submission_by_user_b4r:\n",
    "        if item in answer[str(user)]:\n",
    "            hit_b4r += 1\n",
    "    \n",
    "    if hit_b4r/10 < bad_num and hit_dae/10 < bad_num and hit_mvae/10 < bad_num and hit_ub/10 < bad_num :\n",
    "        bad_users.append((user, cnt, len(uim_np[cnt].nonzero()[0])))\n",
    "    \n",
    "    if hit_ub/10 > good_num and hit_b4r/10 > good_num and hit_dae/10 > good_num and hit_mvae/10 > good_num :\n",
    "        good_users.append((user, cnt, len(uim_np[cnt].nonzero()[0])))\n",
    "\n",
    "    recall_result.append(hit_ub / 10)\n",
    "    #print(hit/10, len(uim_np[cnt].nonzero()[0]))\n",
    "    \n",
    "    #hit_length.append((hit/10, len(uim_np[cnt].nonzero()[0])))\n",
    "    hit_length.append((hit_ub/10, hit_mvae/10, hit_dae/10, hit_b4r/10))\n",
    "\n",
    "    cnt +=1\n",
    "# 전체 유저의 Recall@10의 평균 출력\n",
    "print (f\"Predicted submission result of Recall@10 = {np.average(recall_result)}\")\n"
   ]
  },
  {
   "cell_type": "code",
   "execution_count": 21,
   "metadata": {},
   "outputs": [
    {
     "name": "stdout",
     "output_type": "stream",
     "text": [
      "10779\n",
      "1777\n"
     ]
    }
   ],
   "source": [
    "print(len(bad_users)) # bad_num = 0.2 -> 5741명\n",
    "print(len(good_users)) # good_num = 0.5 -> 1777명"
   ]
  },
  {
   "cell_type": "code",
   "execution_count": 22,
   "metadata": {},
   "outputs": [],
   "source": [
    "bad_users_np = np.array(bad_users)\n",
    "good_users_np = np.array(good_users)"
   ]
  },
  {
   "cell_type": "code",
   "execution_count": 23,
   "metadata": {},
   "outputs": [
    {
     "name": "stdout",
     "output_type": "stream",
     "text": [
      "[68840.77270619 15673.114018     114.88579646]\n",
      "[68093.92628025 15503.88688801   168.92290377]\n"
     ]
    }
   ],
   "source": [
    "print(bad_users_np.mean(axis=0)) # 평균 시청 개수 108개\n",
    "print(good_users_np.mean(axis=0)) # 평균 시청 개수 168개"
   ]
  },
  {
   "cell_type": "code",
   "execution_count": 90,
   "metadata": {},
   "outputs": [],
   "source": [
    "# 예측 못하는 유저들은 어떤 특성을 갖고 있을까?\n",
    "# 1. 총 영화 시청 수\n",
    "# 2. 시청한 영화의 시점, 시청한 기간\n",
    "# 3. 시청한 영화의 장르 -> 편차가 심한가? = 데이터에 Noise가 많은가?\n",
    "# 4. \n"
   ]
  },
  {
   "cell_type": "code",
   "execution_count": 24,
   "metadata": {},
   "outputs": [],
   "source": [
    "bad_user_id = bad_users_np[:,0]\n",
    "bad_user_index = bad_users_np[:,1]"
   ]
  },
  {
   "cell_type": "code",
   "execution_count": 25,
   "metadata": {},
   "outputs": [],
   "source": [
    "pd.DataFrame(bad_user_id).to_csv(\"bad_user_id03.csv\", index=False, header=False)\n",
    "pd.DataFrame(bad_user_index).to_csv(\"bad_user_index03.csv\", index=False, header=False)"
   ]
  },
  {
   "cell_type": "code",
   "execution_count": null,
   "metadata": {},
   "outputs": [],
   "source": []
  },
  {
   "cell_type": "code",
   "execution_count": 26,
   "metadata": {},
   "outputs": [],
   "source": [
    "bad1 = pd.read_csv(\"bad_user_id03.csv\", header=None).to_numpy().reshape(-1)"
   ]
  },
  {
   "cell_type": "code",
   "execution_count": 27,
   "metadata": {},
   "outputs": [],
   "source": [
    "bad2 = pd.read_csv(\"eda_bad_user.csv\", header=None).to_numpy().reshape(-1)"
   ]
  },
  {
   "cell_type": "code",
   "execution_count": 28,
   "metadata": {},
   "outputs": [],
   "source": [
    "counter = 0\n",
    "for user in bad1 :\n",
    "    if user in bad2 :\n",
    "        counter +=1"
   ]
  },
  {
   "cell_type": "code",
   "execution_count": 29,
   "metadata": {},
   "outputs": [
    {
     "data": {
      "text/plain": [
       "4531"
      ]
     },
     "execution_count": 29,
     "metadata": {},
     "output_type": "execute_result"
    }
   ],
   "source": [
    "counter"
   ]
  },
  {
   "cell_type": "code",
   "execution_count": null,
   "metadata": {},
   "outputs": [],
   "source": []
  }
 ],
 "metadata": {
  "interpreter": {
   "hash": "d4d1e4263499bec80672ea0156c357c1ee493ec2b1c70f0acce89fc37c4a6abe"
  },
  "kernelspec": {
   "display_name": "Python 3.8.5 ('base')",
   "language": "python",
   "name": "python3"
  },
  "language_info": {
   "codemirror_mode": {
    "name": "ipython",
    "version": 3
   },
   "file_extension": ".py",
   "mimetype": "text/x-python",
   "name": "python",
   "nbconvert_exporter": "python",
   "pygments_lexer": "ipython3",
   "version": "3.8.5"
  },
  "orig_nbformat": 4
 },
 "nbformat": 4,
 "nbformat_minor": 2
}
