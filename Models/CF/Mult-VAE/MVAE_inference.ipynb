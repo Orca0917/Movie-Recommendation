{
 "cells": [
  {
   "cell_type": "code",
   "execution_count": 74,
   "metadata": {},
   "outputs": [],
   "source": [
    "import argparse\n",
    "import time\n",
    "import torch\n",
    "import torch.nn as nn\n",
    "import torch.optim as optim\n",
    "import numpy as np\n",
    "from scipy import sparse\n",
    "from dataset import *\n",
    "from dataloader import *\n",
    "from loss import *\n",
    "from model import *\n",
    "from torch.nn import Softmax\n",
    "import os\n",
    "import bottleneck as bn\n",
    "os.environ['CUDA_LAUNCH_BLOCKING'] = \"1\"\n",
    "os.environ[\"CUDA_VISIBLE_DEVICES\"] = \"0\""
   ]
  },
  {
   "cell_type": "code",
   "execution_count": 75,
   "metadata": {},
   "outputs": [
    {
     "name": "stdout",
     "output_type": "stream",
     "text": [
      "Now using device :  cuda\n",
      "Load and Preprocess Movielens dataset\n",
      "Done!\n"
     ]
    }
   ],
   "source": [
    "if torch.cuda.is_available():\n",
    "        cuda_aval = True\n",
    "\n",
    "device = torch.device(\"cuda\" if cuda_aval else \"cpu\")\n",
    "print(\"Now using device : \", device)\n",
    "###################\n",
    "print(\"Load and Preprocess Movielens dataset\")\n",
    "# Load Data\n",
    "uim = pd.read_csv(\"new_user_movie_interaction.csv\")\n",
    "# uim = pd.read_csv(\"/opt/ml/input/workspace/CF/DL CF/Mult-VAE/new_user_movie_interaction.csv\")\n",
    "user_id = uim[\"user\"].to_numpy()\n",
    "uim_np = uim.to_numpy()[:, 1:]\n",
    "print(\"Done!\")"
   ]
  },
  {
   "cell_type": "code",
   "execution_count": 76,
   "metadata": {},
   "outputs": [],
   "source": [
    "DATA_DIR='/opt/ml/input/data/train/'\n",
    "pro_dir = os.path.join(DATA_DIR, 'pro_sg')\n",
    "\n",
    "unique_sid = list()\n",
    "with open(os.path.join(pro_dir, 'unique_sid.txt'), 'r') as f:\n",
    "    for line in f:\n",
    "        unique_sid.append(line.strip())\n",
    "\n",
    "show2id = dict([(int(sid), i) for (i, sid) in enumerate(unique_sid)]) # {4643: 0,170: 1,531: 2,616: 3,2140: 4,\n",
    "item_id = np.array(unique_sid, dtype=int).reshape(len(unique_sid)) #  4643,    170,    531"
   ]
  },
  {
   "cell_type": "code",
   "execution_count": 77,
   "metadata": {},
   "outputs": [],
   "source": [
    "#load model\n",
    "f = open(\"model.pt\", 'rb')\n",
    "model  = torch.load(f).to(device)"
   ]
  },
  {
   "cell_type": "code",
   "execution_count": 78,
   "metadata": {},
   "outputs": [
    {
     "name": "stdout",
     "output_type": "stream",
     "text": [
      "0/31360 complete\n"
     ]
    },
    {
     "name": "stderr",
     "output_type": "stream",
     "text": [
      "/opt/conda/lib/python3.8/site-packages/torch/nn/functional.py:1795: UserWarning: nn.functional.tanh is deprecated. Use torch.tanh instead.\n",
      "  warnings.warn(\"nn.functional.tanh is deprecated. Use torch.tanh instead.\")\n"
     ]
    },
    {
     "name": "stdout",
     "output_type": "stream",
     "text": [
      "5000/31360 complete\n",
      "10000/31360 complete\n",
      "15000/31360 complete\n",
      "20000/31360 complete\n",
      "25000/31360 complete\n",
      "30000/31360 complete\n"
     ]
    }
   ],
   "source": [
    "model.eval()\n",
    "result = list()\n",
    "for i in range(len(user_id)) : \n",
    "    user = user_id[i]\n",
    "\n",
    "    data_np = uim_np[i]\n",
    "    data = torch.FloatTensor(data_np)\n",
    "    data = data.reshape(1,-1).to(device)\n",
    "\n",
    "    probability, _, _ = model(data)\n",
    "    probability_np = np.array(probability.cpu().detach())[0]\n",
    "    probability_np[data_np.nonzero()] = -np.inf\n",
    "    idx = np.argpartition(probability_np, -10)[-10:] # 상위 10개 뽑음 (정렬 x)\n",
    "    \n",
    "    candidates = [[index, probability_np[index]] for index in idx]\n",
    "    candidates.sort(key=lambda x:x[1], reverse = True) # 상위 10개 정렬\n",
    "    items = item_id[idx]\n",
    "    for candidate in candidates :\n",
    "        result.append((user, item_id[candidate[0]]))\n",
    "    if i%5000 == 0 :\n",
    "        print(f\"{i}/31360 complete\")"
   ]
  },
  {
   "cell_type": "code",
   "execution_count": 79,
   "metadata": {},
   "outputs": [
    {
     "name": "stdout",
     "output_type": "stream",
     "text": [
      "Inference Done!\n"
     ]
    }
   ],
   "source": [
    "info = pd.DataFrame(result, columns=['user','item'])\n",
    "info.to_csv(\"submission_earlystop.csv\",index=False)\n",
    "print(\"Inference Done!\")"
   ]
  },
  {
   "cell_type": "code",
   "execution_count": null,
   "metadata": {},
   "outputs": [],
   "source": []
  }
 ],
 "metadata": {
  "interpreter": {
   "hash": "d4d1e4263499bec80672ea0156c357c1ee493ec2b1c70f0acce89fc37c4a6abe"
  },
  "kernelspec": {
   "display_name": "Python 3.8.5 ('base')",
   "language": "python",
   "name": "python3"
  },
  "language_info": {
   "codemirror_mode": {
    "name": "ipython",
    "version": 3
   },
   "file_extension": ".py",
   "mimetype": "text/x-python",
   "name": "python",
   "nbconvert_exporter": "python",
   "pygments_lexer": "ipython3",
   "version": "3.8.5"
  },
  "orig_nbformat": 4
 },
 "nbformat": 4,
 "nbformat_minor": 2
}
