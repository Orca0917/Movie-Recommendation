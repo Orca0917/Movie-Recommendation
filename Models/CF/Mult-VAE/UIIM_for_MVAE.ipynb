{
 "cells": [
  {
   "cell_type": "code",
   "execution_count": 1,
   "metadata": {},
   "outputs": [],
   "source": [
    "import pandas as pd\n",
    "import numpy as np\n"
   ]
  },
  {
   "cell_type": "code",
   "execution_count": 12,
   "metadata": {},
   "outputs": [],
   "source": [
    "raw_data = pd.read_csv(\"/opt/ml/input/data/train/train_ratings.csv\", header = 0)\n",
    "raw_data[\"time\"] = 1\n",
    "unique_sid = pd.unique(raw_data['item'])\n",
    "show2id = dict((sid, i) for (i, sid) in enumerate(unique_sid))"
   ]
  },
  {
   "cell_type": "code",
   "execution_count": 13,
   "metadata": {},
   "outputs": [
    {
     "name": "stdout",
     "output_type": "stream",
     "text": [
      "0 complete\n",
      "50000 complete\n",
      "100000 complete\n",
      "150000 complete\n",
      "200000 complete\n",
      "250000 complete\n",
      "300000 complete\n",
      "350000 complete\n",
      "400000 complete\n",
      "450000 complete\n",
      "500000 complete\n",
      "550000 complete\n",
      "600000 complete\n",
      "650000 complete\n",
      "700000 complete\n",
      "750000 complete\n",
      "800000 complete\n",
      "850000 complete\n",
      "900000 complete\n",
      "950000 complete\n",
      "1000000 complete\n",
      "1050000 complete\n",
      "1100000 complete\n",
      "1150000 complete\n",
      "1200000 complete\n",
      "1250000 complete\n",
      "1300000 complete\n",
      "1350000 complete\n",
      "1400000 complete\n",
      "1450000 complete\n",
      "1500000 complete\n",
      "1550000 complete\n",
      "1600000 complete\n",
      "1650000 complete\n",
      "1700000 complete\n",
      "1750000 complete\n",
      "1800000 complete\n",
      "1850000 complete\n",
      "1900000 complete\n",
      "1950000 complete\n",
      "2000000 complete\n",
      "2050000 complete\n",
      "2100000 complete\n",
      "2150000 complete\n",
      "2200000 complete\n",
      "2250000 complete\n",
      "2300000 complete\n",
      "2350000 complete\n",
      "2400000 complete\n",
      "2450000 complete\n",
      "2500000 complete\n",
      "2550000 complete\n",
      "2600000 complete\n",
      "2650000 complete\n",
      "2700000 complete\n",
      "2750000 complete\n",
      "2800000 complete\n",
      "2850000 complete\n",
      "2900000 complete\n",
      "2950000 complete\n",
      "3000000 complete\n",
      "3050000 complete\n",
      "3100000 complete\n",
      "3150000 complete\n",
      "3200000 complete\n",
      "3250000 complete\n",
      "3300000 complete\n",
      "3350000 complete\n",
      "3400000 complete\n",
      "3450000 complete\n",
      "3500000 complete\n",
      "3550000 complete\n",
      "3600000 complete\n",
      "3650000 complete\n",
      "3700000 complete\n",
      "3750000 complete\n",
      "3800000 complete\n",
      "3850000 complete\n",
      "3900000 complete\n",
      "3950000 complete\n",
      "4000000 complete\n",
      "4050000 complete\n",
      "4100000 complete\n",
      "4150000 complete\n",
      "4200000 complete\n",
      "4250000 complete\n",
      "4300000 complete\n",
      "4350000 complete\n",
      "4400000 complete\n",
      "4450000 complete\n",
      "4500000 complete\n",
      "4550000 complete\n",
      "4600000 complete\n",
      "4650000 complete\n",
      "4700000 complete\n",
      "4750000 complete\n",
      "4800000 complete\n",
      "4850000 complete\n",
      "4900000 complete\n",
      "4950000 complete\n",
      "5000000 complete\n",
      "5050000 complete\n",
      "5100000 complete\n",
      "5150000 complete\n"
     ]
    }
   ],
   "source": [
    "for i in range(len(raw_data[\"item\"])) :\n",
    "    raw_data[\"item\"].iloc[i] = show2id[raw_data[\"item\"].iloc[i]]\n",
    "    if i%50000 == 0 :\n",
    "        print(f\"{i} complete\")"
   ]
  },
  {
   "cell_type": "code",
   "execution_count": 14,
   "metadata": {},
   "outputs": [],
   "source": [
    "user_movie_df = raw_data.pivot_table(\"time\",\"user\",\"item\").fillna(0)"
   ]
  },
  {
   "cell_type": "code",
   "execution_count": 16,
   "metadata": {},
   "outputs": [],
   "source": [
    "user_movie_df.to_csv(\"new_user_movie_interaction.csv\")"
   ]
  }
 ],
 "metadata": {
  "interpreter": {
   "hash": "d4d1e4263499bec80672ea0156c357c1ee493ec2b1c70f0acce89fc37c4a6abe"
  },
  "kernelspec": {
   "display_name": "Python 3.8.5 ('base')",
   "language": "python",
   "name": "python3"
  },
  "language_info": {
   "codemirror_mode": {
    "name": "ipython",
    "version": 3
   },
   "file_extension": ".py",
   "mimetype": "text/x-python",
   "name": "python",
   "nbconvert_exporter": "python",
   "pygments_lexer": "ipython3",
   "version": "3.8.5"
  },
  "orig_nbformat": 4
 },
 "nbformat": 4,
 "nbformat_minor": 2
}
