{
 "cells": [
  {
   "cell_type": "code",
   "execution_count": 9,
   "metadata": {},
   "outputs": [],
   "source": [
    "import json\n",
    "import pandas as pd\n",
    "import numpy as np"
   ]
  },
  {
   "cell_type": "code",
   "execution_count": 10,
   "metadata": {},
   "outputs": [],
   "source": [
    "FISM = pd.read_csv(\"/opt/ml/input/workspace/Ensemble/submission_files/FISM_submission.csv\")\n",
    "SEQ250 = pd.read_csv(\"/opt/ml/input/workspace/Ensemble/submission_files/SEQ250_submission.csv\")"
   ]
  },
  {
   "cell_type": "code",
   "execution_count": 11,
   "metadata": {},
   "outputs": [],
   "source": [
    "FISM = FISM.groupby(\"user\")[\"item\"].apply(list)\n",
    "SEQ250 = SEQ250.groupby(\"user\")[\"item\"].apply(list)"
   ]
  },
  {
   "cell_type": "code",
   "execution_count": 12,
   "metadata": {},
   "outputs": [],
   "source": [
    "result = dict()\n",
    "for key in FISM.keys() :\n",
    "    fism = FISM[key]\n",
    "    relu = SEQ250[key]\n",
    "    new_rec = fism[:5]\n",
    "    for item in relu :\n",
    "        if item not in new_rec :\n",
    "            new_rec.append(item)\n",
    "    new_rec = new_rec[:10]\n",
    "    result[key] = new_rec"
   ]
  },
  {
   "cell_type": "code",
   "execution_count": 13,
   "metadata": {},
   "outputs": [],
   "source": [
    "result_list = list()\n",
    "for key in result.keys() :\n",
    "    for item in result[key] :\n",
    "        result_list.append((key, item))"
   ]
  },
  {
   "cell_type": "code",
   "execution_count": 14,
   "metadata": {},
   "outputs": [],
   "source": [
    "for key in result.keys() :\n",
    "    if len(result[key]) != 10 :\n",
    "        print(key)"
   ]
  },
  {
   "cell_type": "code",
   "execution_count": null,
   "metadata": {},
   "outputs": [],
   "source": [
    "pd.DataFrame(result_list, columns=[\"user\", \"item\"]).to_csv(\"FISM&250_submission.csv\", index=False)"
   ]
  },
  {
   "cell_type": "code",
   "execution_count": null,
   "metadata": {},
   "outputs": [],
   "source": []
  }
 ],
 "metadata": {
  "interpreter": {
   "hash": "d4d1e4263499bec80672ea0156c357c1ee493ec2b1c70f0acce89fc37c4a6abe"
  },
  "kernelspec": {
   "display_name": "Python 3.8.5 ('base')",
   "language": "python",
   "name": "python3"
  },
  "language_info": {
   "codemirror_mode": {
    "name": "ipython",
    "version": 3
   },
   "file_extension": ".py",
   "mimetype": "text/x-python",
   "name": "python",
   "nbconvert_exporter": "python",
   "pygments_lexer": "ipython3",
   "version": "3.8.5"
  },
  "orig_nbformat": 4
 },
 "nbformat": 4,
 "nbformat_minor": 2
}
