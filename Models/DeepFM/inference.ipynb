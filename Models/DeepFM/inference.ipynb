{
 "cells": [
  {
   "cell_type": "code",
   "execution_count": 1,
   "metadata": {},
   "outputs": [],
   "source": [
    "import torch\n",
    "\n",
    "import os\n",
    "from torch.utils.data import Dataset\n",
    "from utils import neg_sample, join_attribute, feature_matrix\n",
    "\n",
    "import pandas as pd\n",
    "from pathlib import Path"
   ]
  },
  {
   "cell_type": "code",
   "execution_count": 2,
   "metadata": {},
   "outputs": [
    {
     "data": {
      "text/plain": [
       "6807"
      ]
     },
     "execution_count": 2,
     "metadata": {},
     "output_type": "execute_result"
    }
   ],
   "source": [
    "rating_df = pd.read_csv('/opt/ml/input/data/train/'+ 'rating.csv')\n",
    "attr_path = os.path.join('/opt/ml/input/data/train/','genre.csv')\n",
    "attr_df = pd.read_csv(attr_path)\n",
    "\n",
    "len(rating_df['item'].unique())"
   ]
  },
  {
   "cell_type": "code",
   "execution_count": 3,
   "metadata": {},
   "outputs": [
    {
     "data": {
      "text/plain": [
       "31360"
      ]
     },
     "execution_count": 3,
     "metadata": {},
     "output_type": "execute_result"
    }
   ],
   "source": [
    "len(rating_df['user'].unique())"
   ]
  },
  {
   "cell_type": "code",
   "execution_count": 4,
   "metadata": {},
   "outputs": [],
   "source": [
    "user_watch = rating_df.groupby('user')['item'].apply(list)"
   ]
  },
  {
   "cell_type": "code",
   "execution_count": 5,
   "metadata": {},
   "outputs": [],
   "source": [
    "attr_df.items\n",
    "items = set(rating_df['item'])"
   ]
  },
  {
   "cell_type": "code",
   "execution_count": 6,
   "metadata": {},
   "outputs": [
    {
     "data": {
      "text/html": [
       "<div>\n",
       "<style scoped>\n",
       "    .dataframe tbody tr th:only-of-type {\n",
       "        vertical-align: middle;\n",
       "    }\n",
       "\n",
       "    .dataframe tbody tr th {\n",
       "        vertical-align: top;\n",
       "    }\n",
       "\n",
       "    .dataframe thead th {\n",
       "        text-align: right;\n",
       "    }\n",
       "</style>\n",
       "<table border=\"1\" class=\"dataframe\">\n",
       "  <thead>\n",
       "    <tr style=\"text-align: right;\">\n",
       "      <th></th>\n",
       "      <th>user</th>\n",
       "      <th>item</th>\n",
       "    </tr>\n",
       "  </thead>\n",
       "  <tbody>\n",
       "    <tr>\n",
       "      <th>0</th>\n",
       "      <td>11</td>\n",
       "      <td>2</td>\n",
       "    </tr>\n",
       "    <tr>\n",
       "      <th>1</th>\n",
       "      <td>11</td>\n",
       "      <td>3</td>\n",
       "    </tr>\n",
       "    <tr>\n",
       "      <th>2</th>\n",
       "      <td>11</td>\n",
       "      <td>32770</td>\n",
       "    </tr>\n",
       "    <tr>\n",
       "      <th>3</th>\n",
       "      <td>11</td>\n",
       "      <td>5</td>\n",
       "    </tr>\n",
       "    <tr>\n",
       "      <th>4</th>\n",
       "      <td>11</td>\n",
       "      <td>6</td>\n",
       "    </tr>\n",
       "    <tr>\n",
       "      <th>...</th>\n",
       "      <td>...</td>\n",
       "      <td>...</td>\n",
       "    </tr>\n",
       "    <tr>\n",
       "      <th>208313044</th>\n",
       "      <td>138493</td>\n",
       "      <td>98243</td>\n",
       "    </tr>\n",
       "    <tr>\n",
       "      <th>208313045</th>\n",
       "      <td>138493</td>\n",
       "      <td>32721</td>\n",
       "    </tr>\n",
       "    <tr>\n",
       "      <th>208313046</th>\n",
       "      <td>138493</td>\n",
       "      <td>32728</td>\n",
       "    </tr>\n",
       "    <tr>\n",
       "      <th>208313047</th>\n",
       "      <td>138493</td>\n",
       "      <td>32743</td>\n",
       "    </tr>\n",
       "    <tr>\n",
       "      <th>208313048</th>\n",
       "      <td>138493</td>\n",
       "      <td>65514</td>\n",
       "    </tr>\n",
       "  </tbody>\n",
       "</table>\n",
       "<p>208313049 rows × 2 columns</p>\n",
       "</div>"
      ],
      "text/plain": [
       "             user   item\n",
       "0              11      2\n",
       "1              11      3\n",
       "2              11  32770\n",
       "3              11      5\n",
       "4              11      6\n",
       "...           ...    ...\n",
       "208313044  138493  98243\n",
       "208313045  138493  32721\n",
       "208313046  138493  32728\n",
       "208313047  138493  32743\n",
       "208313048  138493  65514\n",
       "\n",
       "[208313049 rows x 2 columns]"
      ]
     },
     "execution_count": 6,
     "metadata": {},
     "output_type": "execute_result"
    }
   ],
   "source": [
    "data = []\n",
    "for user, item in user_watch.iteritems():\n",
    "    un_watched = [i for i in items if i not in item]\n",
    "    data += [[user,i] for i in un_watched]\n",
    "new_df = pd.DataFrame(data, columns=[\"user\",\"item\"])\n",
    "\n",
    "len(new_df)\n",
    "new_df"
   ]
  },
  {
   "cell_type": "code",
   "execution_count": 7,
   "metadata": {},
   "outputs": [
    {
     "data": {
      "text/html": [
       "<div>\n",
       "<style scoped>\n",
       "    .dataframe tbody tr th:only-of-type {\n",
       "        vertical-align: middle;\n",
       "    }\n",
       "\n",
       "    .dataframe tbody tr th {\n",
       "        vertical-align: top;\n",
       "    }\n",
       "\n",
       "    .dataframe thead th {\n",
       "        text-align: right;\n",
       "    }\n",
       "</style>\n",
       "<table border=\"1\" class=\"dataframe\">\n",
       "  <thead>\n",
       "    <tr style=\"text-align: right;\">\n",
       "      <th></th>\n",
       "      <th>user</th>\n",
       "      <th>genre</th>\n",
       "    </tr>\n",
       "    <tr>\n",
       "      <th>item</th>\n",
       "      <th></th>\n",
       "      <th></th>\n",
       "    </tr>\n",
       "  </thead>\n",
       "  <tbody>\n",
       "    <tr>\n",
       "      <th>2</th>\n",
       "      <td>11</td>\n",
       "      <td>15</td>\n",
       "    </tr>\n",
       "    <tr>\n",
       "      <th>3</th>\n",
       "      <td>11</td>\n",
       "      <td>5</td>\n",
       "    </tr>\n",
       "    <tr>\n",
       "      <th>4</th>\n",
       "      <td>11</td>\n",
       "      <td>5</td>\n",
       "    </tr>\n",
       "    <tr>\n",
       "      <th>5</th>\n",
       "      <td>11</td>\n",
       "      <td>5</td>\n",
       "    </tr>\n",
       "    <tr>\n",
       "      <th>6</th>\n",
       "      <td>11</td>\n",
       "      <td>17</td>\n",
       "    </tr>\n",
       "    <tr>\n",
       "      <th>...</th>\n",
       "      <td>...</td>\n",
       "      <td>...</td>\n",
       "    </tr>\n",
       "    <tr>\n",
       "      <th>118700</th>\n",
       "      <td>138493</td>\n",
       "      <td>4</td>\n",
       "    </tr>\n",
       "    <tr>\n",
       "      <th>118900</th>\n",
       "      <td>138493</td>\n",
       "      <td>4</td>\n",
       "    </tr>\n",
       "    <tr>\n",
       "      <th>118997</th>\n",
       "      <td>138493</td>\n",
       "      <td>1</td>\n",
       "    </tr>\n",
       "    <tr>\n",
       "      <th>119141</th>\n",
       "      <td>138493</td>\n",
       "      <td>17</td>\n",
       "    </tr>\n",
       "    <tr>\n",
       "      <th>119145</th>\n",
       "      <td>138493</td>\n",
       "      <td>17</td>\n",
       "    </tr>\n",
       "  </tbody>\n",
       "</table>\n",
       "<p>208313049 rows × 2 columns</p>\n",
       "</div>"
      ],
      "text/plain": [
       "          user  genre\n",
       "item                 \n",
       "2           11     15\n",
       "3           11      5\n",
       "4           11      5\n",
       "5           11      5\n",
       "6           11     17\n",
       "...        ...    ...\n",
       "118700  138493      4\n",
       "118900  138493      4\n",
       "118997  138493      1\n",
       "119141  138493     17\n",
       "119145  138493     17\n",
       "\n",
       "[208313049 rows x 2 columns]"
      ]
     },
     "execution_count": 7,
     "metadata": {},
     "output_type": "execute_result"
    }
   ],
   "source": [
    "attr_df = pd.read_csv(attr_path, index_col=0)\n",
    "attr_df\n",
    "\n",
    "#joined_rating_df = pd.merge(new_df, attr_df, left_on='item', right_on='item', how='inner')\n",
    "\n",
    "joined_rating_df = new_df.set_index('item').join(attr_df.set_index('item'), how='left')\n",
    "\n",
    "joined_rating_df = joined_rating_df.sort_values(by=['user','item'])\n",
    "joined_rating_df"
   ]
  },
  {
   "cell_type": "code",
   "execution_count": 32,
   "metadata": {},
   "outputs": [
    {
     "name": "stdout",
     "output_type": "stream",
     "text": [
      "# of users : 20\n",
      "# of items : 6807\n",
      "# of genres : 18\n"
     ]
    }
   ],
   "source": [
    "# user, item을 zero-based index로 mapping\n",
    "users = list(set(joined_rating_df.loc[:,'user']))\n",
    "users.sort()\n",
    "items =  list(set((joined_rating_df.loc[:, 'item'])))\n",
    "items.sort()\n",
    "attrs =  list(set((joined_rating_df.loc[:, \"genre\"])))\n",
    "attrs.sort()\n",
    "\n",
    "if len(users)-1 != max(users):\n",
    "    users_dict = {users[i]: i for i in range(len(users))}\n",
    "    joined_rating_df['user']  = joined_rating_df['user'].map(lambda x : users_dict[x])\n",
    "    users = list(set(joined_rating_df.loc[:,'user']))\n",
    "        \n",
    "if len(items)-1 != max(items):\n",
    "    items_dict = {items[i]: i for i in range(len(items))}\n",
    "    joined_rating_df['item']  = joined_rating_df['item'].map(lambda x : items_dict[x])\n",
    "    items =  list(set((joined_rating_df.loc[:, 'item'])))\n",
    "\n",
    "joined_rating_df = joined_rating_df.sort_values(by=['user'])\n",
    "joined_rating_df.reset_index(drop=True, inplace=True)\n",
    "\n",
    "print(\"# of users : {}\\n# of items : {}\\n# of genres : {}\".format(len(users), len(items), len(attrs)))"
   ]
  },
  {
   "cell_type": "code",
   "execution_count": 33,
   "metadata": {},
   "outputs": [],
   "source": [
    "n_user = len(users)\n",
    "n_item = len(items)"
   ]
  },
  {
   "cell_type": "code",
   "execution_count": 34,
   "metadata": {},
   "outputs": [],
   "source": [
    "data = joined_rating_df"
   ]
  },
  {
   "cell_type": "code",
   "execution_count": 45,
   "metadata": {},
   "outputs": [
    {
     "name": "stdout",
     "output_type": "stream",
     "text": [
      "tensor([ 0,  0,  0,  ..., 19, 19, 19])\n",
      "tensor([   1,   23, 3458,  ..., 6804, 6754, 6806])\n",
      "tensor([15,  4, 17,  ...,  1, 17, 17])\n"
     ]
    }
   ],
   "source": [
    "user_col = torch.tensor(data.loc[:,'user'])\n",
    "item_col = torch.tensor(data.loc[:,'item'])\n",
    "genre_col = torch.tensor(data.loc[:,'genre'])\n",
    "print(user_col)\n",
    "print(item_col)\n",
    "print(genre_col)"
   ]
  },
  {
   "cell_type": "code",
   "execution_count": 47,
   "metadata": {},
   "outputs": [],
   "source": [
    "offsets = [0, n_user, n_user+n_item]\n",
    "for col, offset in zip([user_col, item_col, genre_col], offsets):\n",
    "    col += offset\n",
    "\n",
    "X = torch.cat([user_col.unsqueeze(1), item_col.unsqueeze(1), genre_col.unsqueeze(1)], dim=1)"
   ]
  },
  {
   "cell_type": "code",
   "execution_count": 48,
   "metadata": {},
   "outputs": [
    {
     "name": "stdout",
     "output_type": "stream",
     "text": [
      "tensor([ 0,  0,  0,  ..., 19, 19, 19])\n",
      "tensor([  41,   63, 3498,  ..., 6844, 6794, 6846])\n",
      "tensor([13669, 13658, 13671,  ..., 13655, 13671, 13671])\n",
      "tensor([[    0,    41, 13669],\n",
      "        [    0,    63, 13658],\n",
      "        [    0,  3498, 13671],\n",
      "        ...,\n",
      "        [   19,  6844, 13655],\n",
      "        [   19,  6794, 13671],\n",
      "        [   19,  6846, 13671]])\n"
     ]
    }
   ],
   "source": [
    "print(user_col)\n",
    "print(item_col)\n",
    "print(genre_col)\n",
    "print(X)"
   ]
  },
  {
   "cell_type": "code",
   "execution_count": 44,
   "metadata": {},
   "outputs": [
    {
     "name": "stdout",
     "output_type": "stream",
     "text": [
      "tensor([ 0,  0,  0,  ..., 19, 19, 19])\n",
      "tensor([   1,   23, 3458,  ..., 6804, 6754, 6806])\n",
      "tensor([15,  4, 17,  ...,  1, 17, 17])\n"
     ]
    }
   ],
   "source": [
    "for col, offset in zip([user_col, item_col, genre_col], offsets):\n",
    "    col -= offset\n",
    "\n",
    "\n",
    "print(user_col)\n",
    "print(item_col)\n",
    "print(genre_col)"
   ]
  },
  {
   "cell_type": "code",
   "execution_count": 50,
   "metadata": {},
   "outputs": [
    {
     "ename": "TypeError",
     "evalue": "unsupported operand type(s) for -=: 'list' and 'list'",
     "output_type": "error",
     "traceback": [
      "\u001b[0;31m---------------------------------------------------------------------------\u001b[0m",
      "\u001b[0;31mTypeError\u001b[0m                                 Traceback (most recent call last)",
      "\u001b[1;32m/opt/ml/input/level2-movie-recommendation-level2-recsys-07/MODELS/DeepFM/inference.ipynb Cell 17'\u001b[0m in \u001b[0;36m<cell line: 2>\u001b[0;34m()\u001b[0m\n\u001b[1;32m      <a href='vscode-notebook-cell://ssh-remote%2B27.96.135.202/opt/ml/input/level2-movie-recommendation-level2-recsys-07/MODELS/DeepFM/inference.ipynb#ch0000020vscode-remote?line=0'>1</a>\u001b[0m a \u001b[39m=\u001b[39m [\u001b[39m1\u001b[39m,\u001b[39m1\u001b[39m,\u001b[39m1\u001b[39m] \n\u001b[0;32m----> <a href='vscode-notebook-cell://ssh-remote%2B27.96.135.202/opt/ml/input/level2-movie-recommendation-level2-recsys-07/MODELS/DeepFM/inference.ipynb#ch0000020vscode-remote?line=1'>2</a>\u001b[0m a \u001b[39m-\u001b[39m\u001b[39m=\u001b[39m [\u001b[39m2\u001b[39m,\u001b[39m2\u001b[39m,\u001b[39m2\u001b[39m]\n\u001b[1;32m      <a href='vscode-notebook-cell://ssh-remote%2B27.96.135.202/opt/ml/input/level2-movie-recommendation-level2-recsys-07/MODELS/DeepFM/inference.ipynb#ch0000020vscode-remote?line=2'>3</a>\u001b[0m a\n",
      "\u001b[0;31mTypeError\u001b[0m: unsupported operand type(s) for -=: 'list' and 'list'"
     ]
    }
   ],
   "source": [
    "a = 1,1,1] \n",
    "a -= [2,2,2]\n",
    "a"
   ]
  },
  {
   "cell_type": "code",
   "execution_count": 5,
   "metadata": {},
   "outputs": [
    {
     "name": "stdout",
     "output_type": "stream",
     "text": [
      "Create inference samples\n",
      "Join attribute dataframe\n"
     ]
    },
    {
     "data": {
      "text/plain": [
       "(11, 2)"
      ]
     },
     "execution_count": 5,
     "metadata": {},
     "output_type": "execute_result"
    }
   ],
   "source": [
    "class InferenceDataset(Dataset):\n",
    "    def __init__(self, rating_dir, attr_dir):\n",
    "        self.rating_dir = rating_dir\n",
    "        self.attr_dir = attr_dir\n",
    "        self.data = None\n",
    "        self.user_dict = None\n",
    "        self.item_dict = None\n",
    "        self.offsets = None\n",
    "        self.X = None\n",
    "        \n",
    "        self.setup()\n",
    "        \n",
    "    def setup(self):\n",
    "        rating_df = pd.read_csv(self.rating_dir)\n",
    "        attr_df = pd.read_csv(self.attr_dir, index_col = 0)\n",
    "        \n",
    "        print(\"Create inference samples\")\n",
    "        data = self._inference_sample(rating_df)\n",
    "        data = pd.DataFrame(data, columns=[\"user\",\"item\"])\n",
    "\n",
    "        print('Join attribute dataframe')\n",
    "        joined_rating_df = pd.merge(data, attr_df, left_on='item', right_on='item', how='inner')\n",
    "\n",
    "        users = list(set(joined_rating_df.loc[:,'user']))\n",
    "        users.sort()\n",
    "        items =  list(set((joined_rating_df.loc[:, 'item'])))\n",
    "        items.sort()\n",
    "        attrs =  list(set((joined_rating_df.loc[:, \"genre\"])))\n",
    "        attrs.sort()\n",
    "\n",
    "        if len(users)-1 != max(users):\n",
    "            users_dict = {users[i]: i for i in range(len(users))}\n",
    "\n",
    "            self.user_dict = {v:k for k,v in users_dict.items()}\n",
    "\n",
    "            joined_rating_df['user']  = joined_rating_df['user'].map(lambda x : users_dict[x])\n",
    "            users = list(set(joined_rating_df.loc[:,'user']))\n",
    "                \n",
    "        if len(items)-1 != max(items):\n",
    "            items_dict = {items[i]: i for i in range(len(items))}\n",
    "            \n",
    "            self.item_dict = {v:k for k,v in items_dict.items()}\n",
    "\n",
    "            joined_rating_df['item']  = joined_rating_df['item'].map(lambda x : items_dict[x])\n",
    "            items =  list(set((joined_rating_df.loc[:, 'item'])))\n",
    "\n",
    "        joined_rating_df = joined_rating_df.sort_values(by=['user'])\n",
    "        joined_rating_df.reset_index(drop=True, inplace=True)\n",
    "        self.data = joined_rating_df\n",
    "        \n",
    "        self.X = self._feature_matrix()\n",
    "\n",
    "    def _inference_sample(self,rating_df):\n",
    "        items = set(rating_df['item'])\n",
    "        user_rating = rating_df.groupby('user')['item'].apply(list)\n",
    "\n",
    "        data = []\n",
    "\n",
    "        cnt = 10\n",
    "        for user, u_items in user_rating.iteritems():\n",
    "            un_watched = [i for i in items if i not in u_items]\n",
    "            data += [[user,i] for i in un_watched]\n",
    "            cnt -= 1\n",
    "            if cnt == 0:\n",
    "                break\n",
    "        \n",
    "        return data\n",
    "\n",
    "    def _feature_matrix(self, attr='genre'):\n",
    "        #feature matrix X, label tensor y 생성\n",
    "        user_col = torch.tensor(self.data.loc[:,'user'])\n",
    "        item_col = torch.tensor(self.data.loc[:,'item'])\n",
    "        attr_col = torch.tensor(self.data.loc[:,attr])\n",
    "\n",
    "        n_user = len(set(self.data.loc[:,'user']))\n",
    "        n_item = len(set(self.data.loc[:,'item']))\n",
    "\n",
    "        self.offsets = [0, n_user, n_user+n_item]\n",
    "        for col, offset in zip([user_col, item_col, attr_col], self.offsets):\n",
    "            col += offset\n",
    "\n",
    "        X = torch.cat([user_col.unsqueeze(1), item_col.unsqueeze(1), attr_col.unsqueeze(1)], dim=1)\n",
    "\n",
    "        return X.long()\n",
    "\n",
    "    def decode_offset(self, X):\n",
    "        user_idx = X[0].item() - self.offsets[0]\n",
    "        item_idx = X[1].item() - self.offsets[1]\n",
    "        #attr_idx = X[2] - self.offset[2]\n",
    "\n",
    "        user = self.user_dict[user_idx]\n",
    "        item = self.item_dict[item_idx]\n",
    "        return user, item\n",
    "\n",
    "    def __getitem__(self, index):\n",
    "        return self.X[index]\n",
    "\n",
    "    def get_users(self):\n",
    "        return len(set(self.data.loc[:, 'user']))\n",
    "\n",
    "    def get_items(self):\n",
    "        return len(set(self.data.loc[:, 'item']))\n",
    "\n",
    "    def get_attributes(self):\n",
    "        return len(set(self.data.loc[:, 'genre']))\n",
    "\n",
    "    def __len__(self):\n",
    "        return len(self.data)\n",
    "\n",
    "dataset = InferenceDataset('/opt/ml/input/data/train/rating.csv', '/opt/ml/input/data/train/genre.csv')\n",
    "X = dataset[0]\n",
    "dataset.decode_offset(X)"
   ]
  },
  {
   "cell_type": "code",
   "execution_count": 4,
   "metadata": {},
   "outputs": [
    {
     "data": {
      "text/plain": [
       "6807"
      ]
     },
     "execution_count": 4,
     "metadata": {},
     "output_type": "execute_result"
    }
   ],
   "source": [
    "class InferenceDataset(Dataset):\n",
    "    def __init__(self, args, rating_dir, attr_dir):\n",
    "        self.args = args\n",
    "        self.rating_dir = rating_dir\n",
    "        self.attr_dir = attr_dir\n",
    "        self.data = None\n",
    "        self.user_dict = None\n",
    "        self.item_dict = None\n",
    "        self.offsets = None\n",
    "        self.X = None\n",
    "        \n",
    "        self.setup()\n",
    "        \n",
    "    def setup(self):\n",
    "        rating_df = pd.read_csv(self.rating_dir)\n",
    "        attr_df = pd.read_csv(self.attr_dir, index_col = 0)\n",
    "        \n",
    "        print(\"Create inference samples\")\n",
    "        data = self._inference_sample(rating_df)\n",
    "        data = pd.DataFrame(data, columns=[\"user\",\"item\"])\n",
    "\n",
    "        print('Join attribute dataframe')\n",
    "        joined_rating_df = pd.merge(data, attr_df, left_on='item', right_on='item', how='inner')\n",
    "\n",
    "        users = list(set(joined_rating_df.loc[:,'user']))\n",
    "        users.sort()\n",
    "        items =  list(set((joined_rating_df.loc[:, 'item'])))\n",
    "        items.sort()\n",
    "        attrs =  list(set((joined_rating_df.loc[:, \"genre\"])))\n",
    "        attrs.sort()\n",
    "\n",
    "        if len(users)-1 != max(users):\n",
    "            users_dict = {users[i]: i for i in range(len(users))}\n",
    "\n",
    "            self.user_dict = {v:k for k,v in users_dict.items()}\n",
    "\n",
    "            joined_rating_df['user']  = joined_rating_df['user'].map(lambda x : users_dict[x])\n",
    "            users = list(set(joined_rating_df.loc[:,'user']))\n",
    "                \n",
    "        if len(items)-1 != max(items):\n",
    "            items_dict = {items[i]: i for i in range(len(items))}\n",
    "            \n",
    "            self.item_dict = {v:k for k,v in items_dict.items()}\n",
    "\n",
    "            joined_rating_df['item']  = joined_rating_df['item'].map(lambda x : items_dict[x])\n",
    "            items =  list(set((joined_rating_df.loc[:, 'item'])))\n",
    "\n",
    "        joined_rating_df = joined_rating_df.sort_values(by=['user'])\n",
    "        joined_rating_df.reset_index(drop=True, inplace=True)\n",
    "        self.data = joined_rating_df\n",
    "        \n",
    "        self.X = self._feature_matrix(self.args.attr)\n",
    "\n",
    "    def _inference_sample(self,rating_df, attr_df):\n",
    "        items = set(rating_df['item'])\n",
    "        user_rating = rating_df.groupby('user')['item'].apply(list)\n",
    "\n",
    "        data = []\n",
    "\n",
    "        cnt = 10\n",
    "        for user, u_items in user_rating.iteritems():\n",
    "            un_watched = [i for i in items if i not in u_items]\n",
    "            data += [[user,i] for i in un_watched]\n",
    "            cnt -= 1\n",
    "            if cnt == 0:\n",
    "                break\n",
    "        \n",
    "        return data\n",
    "\n",
    "    def _feature_matrix(self, attr='genre'):\n",
    "        #feature matrix X, label tensor y 생성\n",
    "        user_col = torch.tensor(self.data.loc[:,'user'])\n",
    "        item_col = torch.tensor(self.data.loc[:,'item'])\n",
    "        attr_col = torch.tensor(self.data.loc[:,attr])\n",
    "\n",
    "        n_user = len(set(self.data.loc[:,'user']))\n",
    "        n_item = len(set(self.data.loc[:,'item']))\n",
    "\n",
    "        self.offsets = [0, n_user, n_user+n_item]\n",
    "        for col, offset in zip([user_col, item_col, attr_col], self.offsets):\n",
    "            col += offset\n",
    "\n",
    "        X = torch.cat([user_col.unsqueeze(1), item_col.unsqueeze(1), attr_col.unsqueeze(1)], dim=1)\n",
    "\n",
    "        return X.long()\n",
    "\n",
    "    def decode_offset(self, X):\n",
    "        user_idx = X[0].item() - self.offsets[0]\n",
    "        item_idx = X[1].item() - self.offsets[1]\n",
    "        #attr_idx = X[2] - self.offset[2]\n",
    "\n",
    "        user = self.user_dict[user_idx]\n",
    "        item = self.item_dict[item_idx]\n",
    "        return user, item\n",
    "\n",
    "    def __getitem__(self, index):\n",
    "        return self.X[index]\n",
    "\n",
    "    def get_users(self):\n",
    "        return len(set(self.data.loc[:, 'user']))\n",
    "\n",
    "    def get_items(self):\n",
    "        return len(set(self.data.loc[:, 'item']))\n",
    "\n",
    "    def get_attributes(self):\n",
    "        return len(set(self.data.loc[:, self.args.attr]))\n",
    "\n",
    "    def __len__(self):\n",
    "        return len(self.data)"
   ]
  },
  {
   "cell_type": "code",
   "execution_count": 80,
   "metadata": {},
   "outputs": [
    {
     "ename": "AttributeError",
     "evalue": "",
     "output_type": "error",
     "traceback": [
      "\u001b[0;31m---------------------------------------------------------------------------\u001b[0m",
      "\u001b[0;31mAttributeError\u001b[0m                            Traceback (most recent call last)",
      "\u001b[1;32m/opt/ml/input/level2-movie-recommendation-level2-recsys-07/MODELS/DeepFM/inference.ipynb Cell 19'\u001b[0m in \u001b[0;36m<cell line: 1>\u001b[0;34m()\u001b[0m\n\u001b[0;32m----> <a href='vscode-notebook-cell://ssh-remote%2B27.96.135.202/opt/ml/input/level2-movie-recommendation-level2-recsys-07/MODELS/DeepFM/inference.ipynb#ch0000023vscode-remote?line=0'>1</a>\u001b[0m dataset\u001b[39m.\u001b[39;49mdecode_offset(X)\n",
      "\u001b[1;32m/opt/ml/input/level2-movie-recommendation-level2-recsys-07/MODELS/DeepFM/inference.ipynb Cell 17'\u001b[0m in \u001b[0;36mInferenceDataset.decode_offset\u001b[0;34m(self, X)\u001b[0m\n\u001b[1;32m     <a href='vscode-notebook-cell://ssh-remote%2B27.96.135.202/opt/ml/input/level2-movie-recommendation-level2-recsys-07/MODELS/DeepFM/inference.ipynb#ch0000004vscode-remote?line=85'>86</a>\u001b[0m \u001b[39mdef\u001b[39;00m \u001b[39mdecode_offset\u001b[39m(\u001b[39mself\u001b[39m, X):\n\u001b[0;32m---> <a href='vscode-notebook-cell://ssh-remote%2B27.96.135.202/opt/ml/input/level2-movie-recommendation-level2-recsys-07/MODELS/DeepFM/inference.ipynb#ch0000004vscode-remote?line=86'>87</a>\u001b[0m     user_idx \u001b[39m=\u001b[39m X[\u001b[39m0\u001b[39m]\u001b[39m.\u001b[39mitem() \u001b[39m-\u001b[39m \u001b[39mself\u001b[39;49m\u001b[39m.\u001b[39;49moffset[\u001b[39m0\u001b[39m]\n\u001b[1;32m     <a href='vscode-notebook-cell://ssh-remote%2B27.96.135.202/opt/ml/input/level2-movie-recommendation-level2-recsys-07/MODELS/DeepFM/inference.ipynb#ch0000004vscode-remote?line=87'>88</a>\u001b[0m     item_idx \u001b[39m=\u001b[39m X[\u001b[39m1\u001b[39m]\u001b[39m.\u001b[39mitem() \u001b[39m-\u001b[39m \u001b[39mself\u001b[39m\u001b[39m.\u001b[39moffset[\u001b[39m1\u001b[39m]\n\u001b[1;32m     <a href='vscode-notebook-cell://ssh-remote%2B27.96.135.202/opt/ml/input/level2-movie-recommendation-level2-recsys-07/MODELS/DeepFM/inference.ipynb#ch0000004vscode-remote?line=88'>89</a>\u001b[0m     \u001b[39m#attr_idx = X[2] - self.offset[2]\u001b[39;00m\n",
      "File \u001b[0;32m/opt/conda/lib/python3.8/site-packages/torch/utils/data/dataset.py:83\u001b[0m, in \u001b[0;36mDataset.__getattr__\u001b[0;34m(self, attribute_name)\u001b[0m\n\u001b[1;32m     <a href='file:///opt/conda/lib/python3.8/site-packages/torch/utils/data/dataset.py?line=80'>81</a>\u001b[0m     \u001b[39mreturn\u001b[39;00m function\n\u001b[1;32m     <a href='file:///opt/conda/lib/python3.8/site-packages/torch/utils/data/dataset.py?line=81'>82</a>\u001b[0m \u001b[39melse\u001b[39;00m:\n\u001b[0;32m---> <a href='file:///opt/conda/lib/python3.8/site-packages/torch/utils/data/dataset.py?line=82'>83</a>\u001b[0m     \u001b[39mraise\u001b[39;00m \u001b[39mAttributeError\u001b[39;00m\n",
      "\u001b[0;31mAttributeError\u001b[0m: "
     ]
    }
   ],
   "source": []
  },
  {
   "cell_type": "code",
   "execution_count": 8,
   "metadata": {},
   "outputs": [
    {
     "data": {
      "text/plain": [
       "[[11, 0.7, 247],\n",
       " [11, 0.9, 1234],\n",
       " [11, 0.8, 879],\n",
       " [13, 0.7, 247],\n",
       " [13, 0.9, 1234],\n",
       " [13, 0.8, 879]]"
      ]
     },
     "execution_count": 8,
     "metadata": {},
     "output_type": "execute_result"
    }
   ],
   "source": [
    "rating = []\n",
    "\n",
    "rating.append([11, 0.7, 247])\n",
    "rating.append([11, 0.9, 1234])\n",
    "rating.append([11, 0.8, 879])\n",
    "\n",
    "rating.append([13, 0.7,247])\n",
    "rating.append([13 ,0.9,1234])\n",
    "rating.append([13 ,0.8,879])\n",
    "\n",
    "rating.append([10, 0.7, 247])\n",
    "rating.append([10, 0.9, 1234])\n",
    "rating.append([10, 0.8, 879])\n",
    "\n",
    "rating\n"
   ]
  },
  {
   "cell_type": "code",
   "execution_count": 24,
   "metadata": {},
   "outputs": [
    {
     "data": {
      "text/plain": [
       "[[0.1, 2], [0.2, 3], [0.3, 5], [0.4, 6], [0.7, 1], [0.8, 7], [0.9, 4]]"
      ]
     },
     "execution_count": 24,
     "metadata": {},
     "output_type": "execute_result"
    }
   ],
   "source": [
    "ratings = []\n",
    "ratings.append([0.7,1])\n",
    "ratings.append([0.1,2])\n",
    "ratings.append([0.2,3])\n",
    "ratings.append([0.3,5])\n",
    "ratings.append([0.9,4])\n",
    "ratings.append([0.4,6])\n",
    "ratings.append([0.8,7])\n",
    "\n",
    "ratings.sort(key=lambda x:x[0])\n",
    "ratings"
   ]
  },
  {
   "cell_type": "code",
   "execution_count": 31,
   "metadata": {},
   "outputs": [],
   "source": [
    "info = []\n",
    "\n",
    "for item in ratings[-3:]:\n",
    "    info.append([11,item[1]])\n",
    "\n",
    "info = pd.DataFrame(info, columns=['user','item'])\n",
    "info.to_csv(out_dir,f\"submission.csv\",index=False)"
   ]
  },
  {
   "cell_type": "code",
   "execution_count": 33,
   "metadata": {},
   "outputs": [],
   "source": [
    "df.to_csv(\"test.csv\", index=False)"
   ]
  },
  {
   "cell_type": "code",
   "execution_count": null,
   "metadata": {},
   "outputs": [],
   "source": []
  }
 ],
 "metadata": {
  "interpreter": {
   "hash": "d4d1e4263499bec80672ea0156c357c1ee493ec2b1c70f0acce89fc37c4a6abe"
  },
  "kernelspec": {
   "display_name": "Python 3.8.5 ('base')",
   "language": "python",
   "name": "python3"
  },
  "language_info": {
   "codemirror_mode": {
    "name": "ipython",
    "version": 3
   },
   "file_extension": ".py",
   "mimetype": "text/x-python",
   "name": "python",
   "nbconvert_exporter": "python",
   "pygments_lexer": "ipython3",
   "version": "3.8.5"
  },
  "orig_nbformat": 4
 },
 "nbformat": 4,
 "nbformat_minor": 2
}
