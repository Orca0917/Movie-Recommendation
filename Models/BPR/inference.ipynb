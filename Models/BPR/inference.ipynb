{
 "cells": [
  {
   "cell_type": "code",
   "execution_count": 51,
   "metadata": {},
   "outputs": [],
   "source": [
    "import numpy as np\n",
    "import pandas as pd\n",
    "import torch\n",
    "import tqdm"
   ]
  },
  {
   "cell_type": "code",
   "execution_count": 4,
   "metadata": {},
   "outputs": [],
   "source": [
    "raw_data = pd.read_csv(\"/opt/ml/input/workspace/CF/Non-DL/FISM/user_movie_interaction.csv\")\n",
    "raw_data_np = raw_data.to_numpy()[:,1:]"
   ]
  },
  {
   "cell_type": "code",
   "execution_count": 40,
   "metadata": {},
   "outputs": [],
   "source": [
    "unique_sid = pd.read_csv(\"/opt/ml/input/data/train/pro_sg/unique_sid.txt\", header=None)\n",
    "item_id = sorted(unique_sid.to_numpy().reshape(6807))\n",
    "user_id = sorted(raw_data[\"user\"])\n"
   ]
  },
  {
   "cell_type": "code",
   "execution_count": 73,
   "metadata": {},
   "outputs": [],
   "source": [
    "#load model\n",
    "f = open(\"/opt/ml/input/workspace/BPR/models/BPR.pt\", 'rb')\n",
    "model  = torch.load(f).to(\"cuda\")"
   ]
  },
  {
   "cell_type": "code",
   "execution_count": 74,
   "metadata": {},
   "outputs": [
    {
     "name": "stderr",
     "output_type": "stream",
     "text": [
      "100%|██████████| 31360/31360 [00:42<00:00, 731.85it/s]\n"
     ]
    }
   ],
   "source": [
    "result = list()\n",
    "for i in tqdm.tqdm(range(len(raw_data_np))) :\n",
    "    interaction = raw_data_np[i]\n",
    "    preds = list()\n",
    "    user = [i]*6807\n",
    "    user = torch.tensor(user).to(\"cuda\")\n",
    "    items = list(range(6807))\n",
    "    items = torch.tensor(items).to(\"cuda\")\n",
    "    pred, _ = model(user, items, items)\n",
    "    pred = np.array(pred.detach().cpu())\n",
    "    result.append(pred)\n",
    "\n",
    "result = np.array(result)"
   ]
  },
  {
   "cell_type": "code",
   "execution_count": 75,
   "metadata": {},
   "outputs": [],
   "source": [
    "info = list()\n",
    "cnt = 0\n",
    "for user in result : \n",
    "    index = np.argpartition(user, -10)[-10:]\n",
    "    candidates = list()\n",
    "    for i in index :\n",
    "        candidates.append((i,user[i]))\n",
    "    candidates.sort(key=lambda x:x[1], reverse=True)\n",
    "    for candidate in candidates :\n",
    "        info.append((user_id[cnt], item_id[candidate[0]]))\n",
    "    cnt += 1"
   ]
  },
  {
   "cell_type": "code",
   "execution_count": 76,
   "metadata": {},
   "outputs": [
    {
     "name": "stdout",
     "output_type": "stream",
     "text": [
      "Inference Done!\n"
     ]
    }
   ],
   "source": [
    "info = pd.DataFrame(info, columns=['user','item'])\n",
    "info.to_csv(\"./submission/BPR.csv\",index=False)\n",
    "print(\"Inference Done!\")"
   ]
  },
  {
   "cell_type": "code",
   "execution_count": null,
   "metadata": {},
   "outputs": [],
   "source": []
  }
 ],
 "metadata": {
  "interpreter": {
   "hash": "d4d1e4263499bec80672ea0156c357c1ee493ec2b1c70f0acce89fc37c4a6abe"
  },
  "kernelspec": {
   "display_name": "Python 3.8.5 ('base')",
   "language": "python",
   "name": "python3"
  },
  "language_info": {
   "codemirror_mode": {
    "name": "ipython",
    "version": 3
   },
   "file_extension": ".py",
   "mimetype": "text/x-python",
   "name": "python",
   "nbconvert_exporter": "python",
   "pygments_lexer": "ipython3",
   "version": "3.8.5"
  },
  "orig_nbformat": 4
 },
 "nbformat": 4,
 "nbformat_minor": 2
}
