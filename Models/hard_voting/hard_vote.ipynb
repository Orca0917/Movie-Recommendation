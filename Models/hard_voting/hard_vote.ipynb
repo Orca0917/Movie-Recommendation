{
 "cells": [
  {
   "cell_type": "markdown",
   "metadata": {},
   "source": [
    "# Submission file hard voting\n",
    "\n",
    "- `./hard_voting` 폴더 내에 voting 하고자 하는 csv 파일 삽입 (개수 제한 X)\n",
    "- hard_voting 된 결과는 동일 폴더내에 `submission_voted.csv` 로 저장"
   ]
  },
  {
   "cell_type": "code",
   "execution_count": 81,
   "metadata": {},
   "outputs": [],
   "source": [
    "import pandas as pd\n",
    "import numpy as np\n",
    "from glob import glob\n",
    "from tqdm import tqdm"
   ]
  },
  {
   "cell_type": "code",
   "execution_count": 82,
   "metadata": {},
   "outputs": [
    {
     "data": {
      "text/plain": [
       "['./output (2).csv',\n",
       " './output (10).csv',\n",
       " './output (7).csv',\n",
       " './output (8).csv',\n",
       " './output (1).csv',\n",
       " './output (5).csv',\n",
       " './output (9).csv',\n",
       " './output (6).csv',\n",
       " './output (3).csv',\n",
       " './output (4).csv']"
      ]
     },
     "execution_count": 82,
     "metadata": {},
     "output_type": "execute_result"
    }
   ],
   "source": [
    "output_file_list = glob(\"./*.csv\")\n",
    "output_file_list"
   ]
  },
  {
   "cell_type": "code",
   "execution_count": 83,
   "metadata": {},
   "outputs": [],
   "source": [
    "df_list = list()\n",
    "for file in output_file_list:\n",
    "    answer = pd.read_csv(file)\n",
    "    df_list.append(answer)"
   ]
  },
  {
   "cell_type": "code",
   "execution_count": 84,
   "metadata": {},
   "outputs": [
    {
     "name": "stderr",
     "output_type": "stream",
     "text": [
      "100%|██████████| 10/10 [00:33<00:00,  3.36s/it]\n"
     ]
    }
   ],
   "source": [
    "user_recommends = dict()\n",
    "\n",
    "for df_index in tqdm(np.arange(len(df_list))): # 10개 기준 30초\n",
    "    group_user = df_list[df_index].groupby(\"user\")[\"item\"]\n",
    "    for user in group_user.groups.keys():\n",
    "        user_recommended10 = group_user.get_group(user)\n",
    "        if user in user_recommends:\n",
    "            user_recommends[user].extend(user_recommended10.tolist())\n",
    "        else:\n",
    "            user_recommends[user] = user_recommended10.tolist()"
   ]
  },
  {
   "cell_type": "code",
   "execution_count": 85,
   "metadata": {},
   "outputs": [
    {
     "name": "stderr",
     "output_type": "stream",
     "text": [
      "100%|██████████| 31360/31360 [00:00<00:00, 65826.16it/s]\n"
     ]
    }
   ],
   "source": [
    "from collections import Counter\n",
    "\n",
    "final_recommends = dict()\n",
    "for user in tqdm(user_recommends.keys()):\n",
    "    count_result = Counter(user_recommends[user])\n",
    "    most_common_list = list(count_result.most_common())\n",
    "    final_recommends[user] = [x[0] for x in most_common_list[:10]]"
   ]
  },
  {
   "cell_type": "code",
   "execution_count": 86,
   "metadata": {},
   "outputs": [],
   "source": [
    "# 모든 유저에 대해 ensemble증명\n",
    "assert len(final_recommends.keys()) == 31360"
   ]
  },
  {
   "cell_type": "code",
   "execution_count": 93,
   "metadata": {},
   "outputs": [
    {
     "name": "stderr",
     "output_type": "stream",
     "text": [
      "100%|██████████| 31360/31360 [00:00<00:00, 48303.85it/s]\n"
     ]
    }
   ],
   "source": [
    "submission_list = list()\n",
    "\n",
    "for user in tqdm(final_recommends.keys()): # 0초\n",
    "    for item in final_recommends[user]:\n",
    "        submission_list.append([user, item])"
   ]
  },
  {
   "cell_type": "code",
   "execution_count": 96,
   "metadata": {},
   "outputs": [],
   "source": [
    "submission_df = pd.DataFrame(data=submission_list, columns=[\"user\", \"item\"])\n",
    "submission_df.to_csv(\"./submission_voted.csv\", index=False)"
   ]
  }
 ],
 "metadata": {
  "interpreter": {
   "hash": "d4d1e4263499bec80672ea0156c357c1ee493ec2b1c70f0acce89fc37c4a6abe"
  },
  "kernelspec": {
   "display_name": "Python 3.8.5 ('base')",
   "language": "python",
   "name": "python3"
  },
  "language_info": {
   "codemirror_mode": {
    "name": "ipython",
    "version": 3
   },
   "file_extension": ".py",
   "mimetype": "text/x-python",
   "name": "python",
   "nbconvert_exporter": "python",
   "pygments_lexer": "ipython3",
   "version": "3.8.5"
  },
  "orig_nbformat": 4
 },
 "nbformat": 4,
 "nbformat_minor": 2
}
