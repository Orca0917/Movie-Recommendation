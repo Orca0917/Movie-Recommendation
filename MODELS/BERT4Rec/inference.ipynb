{
 "cells": [
  {
   "cell_type": "code",
   "execution_count": 38,
   "metadata": {},
   "outputs": [],
   "source": [
    "import numpy as np\n",
    "import pandas as pd\n",
    "import pickle \n",
    "import torch\n",
    "from model import BERT4Rec"
   ]
  },
  {
   "cell_type": "code",
   "execution_count": 39,
   "metadata": {},
   "outputs": [],
   "source": [
    "if torch.cuda.is_available() :\n",
    "    cuda_aval = True\n",
    "device = torch.device(\"cuda\" if cuda_aval else \"cpu\")"
   ]
  },
  {
   "cell_type": "code",
   "execution_count": 40,
   "metadata": {},
   "outputs": [],
   "source": [
    "with open(\"./data/input_data.pickle\", \"rb\") as fr :\n",
    "    raw_data = pickle.load(fr)\n",
    "\n",
    "unique_sid = pd.read_csv(\"/opt/ml/input/data/train/pro_sg/unique_sid.txt\", header=None)\n",
    "show2id = dict((sid, i) for (i, sid) in enumerate(unique_sid))\n",
    "\n",
    "item_id = unique_sid.to_numpy().reshape(6807)\n",
    "item_id = np.insert(item_id, 0, 0)\n",
    "uim = pd.read_csv(\"/opt/ml/input/workspace/CF/DL CF/Mult-VAE/new_user_movie_interaction.csv\")\n",
    "user_id = uim[\"user\"].to_numpy()"
   ]
  },
  {
   "cell_type": "code",
   "execution_count": 41,
   "metadata": {},
   "outputs": [],
   "source": [
    "model = torch.load(\"./exp/model.pt\").to(device)\n",
    "#model = BERT4Rec()\n",
    "#model.load_state_dict(torch.load(\"./exp/model.pth\", map_location = device))"
   ]
  },
  {
   "cell_type": "code",
   "execution_count": 58,
   "metadata": {},
   "outputs": [
    {
     "name": "stdout",
     "output_type": "stream",
     "text": [
      "5000/31360 complete\n",
      "10000/31360 complete\n",
      "15000/31360 complete\n",
      "20000/31360 complete\n",
      "25000/31360 complete\n",
      "30000/31360 complete\n"
     ]
    }
   ],
   "source": [
    "max_len = 100\n",
    "final = list()\n",
    "cnt = 0\n",
    "for key in raw_data.keys() :\n",
    "\n",
    "    length = len(raw_data[key])\n",
    "    if length < max_len : \n",
    "        dif = max_len-length\n",
    "        data = [0]*dif + raw_data[key][-length:]\n",
    "    else :\n",
    "        data = raw_data[key][-max_len:]\n",
    "\n",
    "    data = torch.LongTensor(data).unsqueeze(dim=0)\n",
    "    result = model(data)[0]\n",
    "    #t = result.detach().cpu().sum(axis=0)\n",
    "    t = result[0].detach().cpu()\n",
    "    t[data] = -np.inf\n",
    "    top_k_idx = np.argpartition(t, -10)[-10:]\n",
    "    rec_item_id = item_id[top_k_idx]\n",
    "    user = user_id[key]\n",
    "\n",
    "\n",
    "    for item in rec_item_id :\n",
    "        final.append((user, item))\n",
    "\n",
    "    cnt+=1\n",
    "\n",
    "    if cnt%5000 == 0 :\n",
    "        print(f\"{cnt}/31360 complete\")\n",
    "\n"
   ]
  },
  {
   "cell_type": "code",
   "execution_count": 59,
   "metadata": {},
   "outputs": [
    {
     "name": "stdout",
     "output_type": "stream",
     "text": [
      "Inference Done!\n"
     ]
    }
   ],
   "source": [
    "info = pd.DataFrame(final, columns=['user','item'])\n",
    "info.to_csv(\"submission_B4R.csv\",index=False)\n",
    "print(\"Inference Done!\")"
   ]
  },
  {
   "cell_type": "code",
   "execution_count": null,
   "metadata": {},
   "outputs": [],
   "source": []
  }
 ],
 "metadata": {
  "interpreter": {
   "hash": "d4d1e4263499bec80672ea0156c357c1ee493ec2b1c70f0acce89fc37c4a6abe"
  },
  "kernelspec": {
   "display_name": "Python 3.8.5 ('base')",
   "language": "python",
   "name": "python3"
  },
  "language_info": {
   "codemirror_mode": {
    "name": "ipython",
    "version": 3
   },
   "file_extension": ".py",
   "mimetype": "text/x-python",
   "name": "python",
   "nbconvert_exporter": "python",
   "pygments_lexer": "ipython3",
   "version": "3.8.5"
  },
  "orig_nbformat": 4
 },
 "nbformat": 4,
 "nbformat_minor": 2
}
