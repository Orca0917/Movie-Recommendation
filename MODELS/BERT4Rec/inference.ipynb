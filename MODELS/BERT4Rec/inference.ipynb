{
 "cells": [
  {
   "cell_type": "code",
   "execution_count": 32,
   "metadata": {},
   "outputs": [],
   "source": [
    "import numpy as np\n",
    "import pandas as pd\n",
    "import pickle \n",
    "import torch\n",
    "from model import BERT4Rec"
   ]
  },
  {
   "cell_type": "code",
   "execution_count": 22,
   "metadata": {},
   "outputs": [],
   "source": [
    "if torch.cuda.is_available() :\n",
    "    cuda_aval = True\n",
    "device = torch.device(\"cuda\" if cuda_aval else \"cpu\")"
   ]
  },
  {
   "cell_type": "code",
   "execution_count": 26,
   "metadata": {},
   "outputs": [],
   "source": [
    "with open(\"./data/input_data.pickle\", \"rb\") as fr :\n",
    "    raw_data = pickle.load(fr)"
   ]
  },
  {
   "cell_type": "code",
   "execution_count": null,
   "metadata": {},
   "outputs": [],
   "source": []
  },
  {
   "cell_type": "code",
   "execution_count": 36,
   "metadata": {},
   "outputs": [
    {
     "ename": "TypeError",
     "evalue": "__init__() missing 8 required positional arguments: 'num_user', 'num_item', 'hidden_units', 'num_heads', 'num_layers', 'max_len', 'dropout_rate', and 'device'",
     "output_type": "error",
     "traceback": [
      "\u001b[0;31m---------------------------------------------------------------------------\u001b[0m",
      "\u001b[0;31mTypeError\u001b[0m                                 Traceback (most recent call last)",
      "\u001b[1;32m/opt/ml/input/workspace/BERT4Rec/inference.ipynb Cell 4'\u001b[0m in \u001b[0;36m<cell line: 1>\u001b[0;34m()\u001b[0m\n\u001b[0;32m----> <a href='vscode-notebook-cell://ssh-remote%2B118.67.128.103/opt/ml/input/workspace/BERT4Rec/inference.ipynb#ch0000002vscode-remote?line=0'>1</a>\u001b[0m model \u001b[39m=\u001b[39m BERT4Rec()\n\u001b[1;32m      <a href='vscode-notebook-cell://ssh-remote%2B118.67.128.103/opt/ml/input/workspace/BERT4Rec/inference.ipynb#ch0000002vscode-remote?line=1'>2</a>\u001b[0m model\u001b[39m.\u001b[39mload_state_dict(torch\u001b[39m.\u001b[39mload(\u001b[39m\"\u001b[39m\u001b[39m./exp/model.pth\u001b[39m\u001b[39m\"\u001b[39m, map_location \u001b[39m=\u001b[39m device))\n",
      "\u001b[0;31mTypeError\u001b[0m: __init__() missing 8 required positional arguments: 'num_user', 'num_item', 'hidden_units', 'num_heads', 'num_layers', 'max_len', 'dropout_rate', and 'device'"
     ]
    }
   ],
   "source": [
    "model = BERT4Rec()\n",
    "model.load_state_dict(torch.load(\"./exp/model.pth\", map_location = device))"
   ]
  },
  {
   "cell_type": "code",
   "execution_count": 19,
   "metadata": {},
   "outputs": [
    {
     "name": "stdout",
     "output_type": "stream",
     "text": [
      "torch.Size([1, 50])\n"
     ]
    },
    {
     "ename": "RuntimeError",
     "evalue": "CUDA error: device-side assert triggered\nCUDA kernel errors might be asynchronously reported at some other API call,so the stacktrace below might be incorrect.\nFor debugging consider passing CUDA_LAUNCH_BLOCKING=1.",
     "output_type": "error",
     "traceback": [
      "\u001b[0;31m---------------------------------------------------------------------------\u001b[0m",
      "\u001b[0;31mRuntimeError\u001b[0m                              Traceback (most recent call last)",
      "\u001b[1;32m/opt/ml/input/workspace/BERT4Rec/inference.ipynb Cell 5'\u001b[0m in \u001b[0;36m<cell line: 1>\u001b[0;34m()\u001b[0m\n\u001b[1;32m      <a href='vscode-notebook-cell://ssh-remote%2B118.67.128.103/opt/ml/input/workspace/BERT4Rec/inference.ipynb#ch0000003vscode-remote?line=2'>3</a>\u001b[0m data \u001b[39m=\u001b[39m torch\u001b[39m.\u001b[39mLongTensor(data)\u001b[39m.\u001b[39munsqueeze(dim\u001b[39m=\u001b[39m\u001b[39m0\u001b[39m)\n\u001b[1;32m      <a href='vscode-notebook-cell://ssh-remote%2B118.67.128.103/opt/ml/input/workspace/BERT4Rec/inference.ipynb#ch0000003vscode-remote?line=3'>4</a>\u001b[0m \u001b[39mprint\u001b[39m(data\u001b[39m.\u001b[39mshape)\n\u001b[0;32m----> <a href='vscode-notebook-cell://ssh-remote%2B118.67.128.103/opt/ml/input/workspace/BERT4Rec/inference.ipynb#ch0000003vscode-remote?line=4'>5</a>\u001b[0m result \u001b[39m=\u001b[39m model(data)\n\u001b[1;32m      <a href='vscode-notebook-cell://ssh-remote%2B118.67.128.103/opt/ml/input/workspace/BERT4Rec/inference.ipynb#ch0000003vscode-remote?line=5'>6</a>\u001b[0m \u001b[39mprint\u001b[39m(result\u001b[39m.\u001b[39mshape)\n\u001b[1;32m      <a href='vscode-notebook-cell://ssh-remote%2B118.67.128.103/opt/ml/input/workspace/BERT4Rec/inference.ipynb#ch0000003vscode-remote?line=6'>7</a>\u001b[0m \u001b[39mbreak\u001b[39;00m\n",
      "File \u001b[0;32m/opt/conda/lib/python3.8/site-packages/torch/nn/modules/module.py:1102\u001b[0m, in \u001b[0;36mModule._call_impl\u001b[0;34m(self, *input, **kwargs)\u001b[0m\n\u001b[1;32m   <a href='file:///opt/conda/lib/python3.8/site-packages/torch/nn/modules/module.py?line=1097'>1098</a>\u001b[0m \u001b[39m# If we don't have any hooks, we want to skip the rest of the logic in\u001b[39;00m\n\u001b[1;32m   <a href='file:///opt/conda/lib/python3.8/site-packages/torch/nn/modules/module.py?line=1098'>1099</a>\u001b[0m \u001b[39m# this function, and just call forward.\u001b[39;00m\n\u001b[1;32m   <a href='file:///opt/conda/lib/python3.8/site-packages/torch/nn/modules/module.py?line=1099'>1100</a>\u001b[0m \u001b[39mif\u001b[39;00m \u001b[39mnot\u001b[39;00m (\u001b[39mself\u001b[39m\u001b[39m.\u001b[39m_backward_hooks \u001b[39mor\u001b[39;00m \u001b[39mself\u001b[39m\u001b[39m.\u001b[39m_forward_hooks \u001b[39mor\u001b[39;00m \u001b[39mself\u001b[39m\u001b[39m.\u001b[39m_forward_pre_hooks \u001b[39mor\u001b[39;00m _global_backward_hooks\n\u001b[1;32m   <a href='file:///opt/conda/lib/python3.8/site-packages/torch/nn/modules/module.py?line=1100'>1101</a>\u001b[0m         \u001b[39mor\u001b[39;00m _global_forward_hooks \u001b[39mor\u001b[39;00m _global_forward_pre_hooks):\n\u001b[0;32m-> <a href='file:///opt/conda/lib/python3.8/site-packages/torch/nn/modules/module.py?line=1101'>1102</a>\u001b[0m     \u001b[39mreturn\u001b[39;00m forward_call(\u001b[39m*\u001b[39;49m\u001b[39minput\u001b[39;49m, \u001b[39m*\u001b[39;49m\u001b[39m*\u001b[39;49mkwargs)\n\u001b[1;32m   <a href='file:///opt/conda/lib/python3.8/site-packages/torch/nn/modules/module.py?line=1102'>1103</a>\u001b[0m \u001b[39m# Do not call functions when jit is used\u001b[39;00m\n\u001b[1;32m   <a href='file:///opt/conda/lib/python3.8/site-packages/torch/nn/modules/module.py?line=1103'>1104</a>\u001b[0m full_backward_hooks, non_full_backward_hooks \u001b[39m=\u001b[39m [], []\n",
      "File \u001b[0;32m~/input/workspace/BERT4Rec/model.py:109\u001b[0m, in \u001b[0;36mBERT4Rec.forward\u001b[0;34m(self, log_seqs)\u001b[0m\n\u001b[1;32m    <a href='file:///opt/ml/input/workspace/BERT4Rec/model.py?line=106'>107</a>\u001b[0m \u001b[39mdef\u001b[39;00m \u001b[39mforward\u001b[39m(\u001b[39mself\u001b[39m, log_seqs):\n\u001b[1;32m    <a href='file:///opt/ml/input/workspace/BERT4Rec/model.py?line=107'>108</a>\u001b[0m     \u001b[39m#-- Item embedding + position embedding\u001b[39;00m\n\u001b[0;32m--> <a href='file:///opt/ml/input/workspace/BERT4Rec/model.py?line=108'>109</a>\u001b[0m     seqs \u001b[39m=\u001b[39m \u001b[39mself\u001b[39m\u001b[39m.\u001b[39mitem_emb(torch\u001b[39m.\u001b[39;49mLongTensor(log_seqs)\u001b[39m.\u001b[39;49mto(\u001b[39mself\u001b[39;49m\u001b[39m.\u001b[39;49mdevice)) \u001b[39m# [batch_size x tokens x hidden_units]\u001b[39;00m\n\u001b[1;32m    <a href='file:///opt/ml/input/workspace/BERT4Rec/model.py?line=109'>110</a>\u001b[0m     positions \u001b[39m=\u001b[39m np\u001b[39m.\u001b[39mtile(np\u001b[39m.\u001b[39marray(\u001b[39mrange\u001b[39m(log_seqs\u001b[39m.\u001b[39mshape[\u001b[39m1\u001b[39m])), [log_seqs\u001b[39m.\u001b[39mshape[\u001b[39m0\u001b[39m], \u001b[39m1\u001b[39m])\n\u001b[1;32m    <a href='file:///opt/ml/input/workspace/BERT4Rec/model.py?line=110'>111</a>\u001b[0m     seqs \u001b[39m+\u001b[39m\u001b[39m=\u001b[39m \u001b[39mself\u001b[39m\u001b[39m.\u001b[39mpos_emb(torch\u001b[39m.\u001b[39mLongTensor(positions)\u001b[39m.\u001b[39mto(\u001b[39mself\u001b[39m\u001b[39m.\u001b[39mdevice)) \u001b[39m# seq 에 positional embedding 추가\u001b[39;00m\n",
      "\u001b[0;31mRuntimeError\u001b[0m: CUDA error: device-side assert triggered\nCUDA kernel errors might be asynchronously reported at some other API call,so the stacktrace below might be incorrect.\nFor debugging consider passing CUDA_LAUNCH_BLOCKING=1."
     ]
    }
   ],
   "source": [
    "for key in raw_data.keys() :\n",
    "    data = raw_data[key][:50]\n",
    "    data = torch.LongTensor(data).unsqueeze(dim=0)\n",
    "    print(data.shape)\n",
    "    result = model(data)\n",
    "    print(result.shape)\n",
    "    break\n",
    "\n"
   ]
  },
  {
   "cell_type": "code",
   "execution_count": null,
   "metadata": {},
   "outputs": [],
   "source": []
  }
 ],
 "metadata": {
  "interpreter": {
   "hash": "d4d1e4263499bec80672ea0156c357c1ee493ec2b1c70f0acce89fc37c4a6abe"
  },
  "kernelspec": {
   "display_name": "Python 3.8.5 ('base')",
   "language": "python",
   "name": "python3"
  },
  "language_info": {
   "codemirror_mode": {
    "name": "ipython",
    "version": 3
   },
   "file_extension": ".py",
   "mimetype": "text/x-python",
   "name": "python",
   "nbconvert_exporter": "python",
   "pygments_lexer": "ipython3",
   "version": "3.8.5"
  },
  "orig_nbformat": 4
 },
 "nbformat": 4,
 "nbformat_minor": 2
}
