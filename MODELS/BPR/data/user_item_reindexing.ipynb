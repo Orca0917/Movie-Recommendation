{
 "cells": [
  {
   "cell_type": "code",
   "execution_count": 3,
   "metadata": {},
   "outputs": [],
   "source": [
    "import pandas as pd\n",
    "import numpy as np\n",
    "import random\n",
    "import json\n",
    "\n",
    "from tqdm import tqdm\n",
    "from collections import defaultdict"
   ]
  },
  {
   "cell_type": "markdown",
   "metadata": {},
   "source": [
    "## Making `ml-1m.train.rating`, `ml-1m.test.rating`"
   ]
  },
  {
   "cell_type": "code",
   "execution_count": 4,
   "metadata": {},
   "outputs": [],
   "source": [
    "train_df = pd.read_csv(\"./train_ratings.csv\")"
   ]
  },
  {
   "cell_type": "code",
   "execution_count": 5,
   "metadata": {},
   "outputs": [],
   "source": [
    "user_list = sorted(train_df[\"user\"].unique().tolist())\n",
    "item_list = sorted(train_df[\"item\"].unique().tolist())"
   ]
  },
  {
   "cell_type": "code",
   "execution_count": 4,
   "metadata": {},
   "outputs": [
    {
     "name": "stdout",
     "output_type": "stream",
     "text": [
      "user_list : [11, 14, 18, 25, 31, 35, 43, 50, 58, 60]\n",
      "item_list : [1, 2, 3, 4, 5, 6, 7, 8, 9, 10]\n"
     ]
    }
   ],
   "source": [
    "print (f\"user_list : {user_list[:10]}\\nitem_list : {item_list[:10]}\")"
   ]
  },
  {
   "cell_type": "code",
   "execution_count": 6,
   "metadata": {},
   "outputs": [
    {
     "name": "stderr",
     "output_type": "stream",
     "text": [
      "31360it [00:00, 937067.64it/s]\n",
      "6807it [00:00, 581953.27it/s]\n"
     ]
    }
   ],
   "source": [
    "user2reindex = defaultdict(int)\n",
    "item2reindex = defaultdict(int)\n",
    "\n",
    "for user_reindex, user in tqdm(enumerate(user_list)):\n",
    "    user2reindex[user] = user_reindex\n",
    "        \n",
    "for item_reindex, item in tqdm(enumerate(item_list)):\n",
    "    item2reindex[item] = item_reindex\n",
    "\n",
    "# example\n",
    "# user 11 to 1\n",
    "# item 1 to 1\n",
    "\n",
    "# 0 ~ 31359 \n",
    "# 0 ~ 6806"
   ]
  },
  {
   "cell_type": "code",
   "execution_count": 6,
   "metadata": {},
   "outputs": [
    {
     "name": "stderr",
     "output_type": "stream",
     "text": [
      "100%|██████████| 6807/6807 [00:00<00:00, 919386.47it/s]\n"
     ]
    }
   ],
   "source": [
    "item_reindex = list()\n",
    "for item in tqdm(item_list):\n",
    "    item_reindex.append(item2reindex[item])"
   ]
  },
  {
   "cell_type": "code",
   "execution_count": 7,
   "metadata": {},
   "outputs": [
    {
     "data": {
      "text/plain": [
       "6806"
      ]
     },
     "execution_count": 7,
     "metadata": {},
     "output_type": "execute_result"
    }
   ],
   "source": [
    "max(item_reindex)"
   ]
  },
  {
   "cell_type": "code",
   "execution_count": null,
   "metadata": {},
   "outputs": [],
   "source": []
  },
  {
   "cell_type": "code",
   "execution_count": 8,
   "metadata": {},
   "outputs": [
    {
     "name": "stderr",
     "output_type": "stream",
     "text": [
      "100%|██████████| 5154471/5154471 [00:09<00:00, 552176.13it/s]\n"
     ]
    }
   ],
   "source": [
    "train_ratings = list()\n",
    "test_ratings = list()\n",
    "\n",
    "prev_user = -1\n",
    "for user, item, time in tqdm(zip(train_df[\"user\"], train_df[\"item\"], train_df[\"time\"]), total=len(train_df[\"user\"])):\n",
    "    if prev_user != user:\n",
    "        prev_user = user\n",
    "        test_ratings.append([user2reindex[user], item2reindex[item], 3.0, time])\n",
    "    else:\n",
    "        train_ratings.append([user2reindex[user], item2reindex[item], 3.0, time])\n"
   ]
  },
  {
   "cell_type": "code",
   "execution_count": 9,
   "metadata": {},
   "outputs": [
    {
     "name": "stdout",
     "output_type": "stream",
     "text": [
      "train_ratings : [[0, 109, 3.0, 1230782534], [0, 319, 3.0, 1230782539], [0, 368, 3.0, 1230782542], [0, 1183, 3.0, 1230782563], [0, 1510, 3.0, 1230782583]]\n",
      "test_ratings : [[0, 2505, 3.0, 1230782529], [1, 4101, 3.0, 1225308746], [2, 1039, 3.0, 1195573195], [3, 162, 3.0, 1277961618], [4, 161, 3.0, 1424733433]]\n"
     ]
    }
   ],
   "source": [
    "print (f\"train_ratings : {train_ratings[:5]}\\ntest_ratings : {test_ratings[:5]}\")"
   ]
  },
  {
   "cell_type": "code",
   "execution_count": 10,
   "metadata": {},
   "outputs": [],
   "source": [
    "train_ratings_df = pd.DataFrame(columns=[\"user\", \"item\", \"rating\", \"timestamp\"], data=train_ratings)\n",
    "test_ratings_df = pd.DataFrame(columns=[\"user\", \"item\", \"rating\", \"timestamp\"], data=test_ratings)\n",
    "\n",
    "train_ratings_df.to_csv(path_or_buf=\"./new_train_ratings.csv\", index=False)\n",
    "test_ratings_df.to_csv(path_or_buf=\"./new_test_ratings.csv\", index=False)"
   ]
  },
  {
   "cell_type": "markdown",
   "metadata": {},
   "source": [
    "## Making `ml-1m.test.negative`"
   ]
  },
  {
   "cell_type": "code",
   "execution_count": 7,
   "metadata": {},
   "outputs": [],
   "source": [
    "user_seen = train_df.groupby(\"user\")[\"item\"].apply(list)"
   ]
  },
  {
   "cell_type": "code",
   "execution_count": 12,
   "metadata": {},
   "outputs": [],
   "source": [
    "def get_negative_sample(user: int):\n",
    "    item = random.choice(item_list)\n",
    "    while item in user_seen[user]:\n",
    "        item = random.choice(item_list)\n",
    "    return item2reindex[item]"
   ]
  },
  {
   "cell_type": "code",
   "execution_count": 8,
   "metadata": {},
   "outputs": [],
   "source": [
    "all_item = set(train_df[\"item\"])\n",
    "\n",
    "def get_all_negative_sample(user: int):\n",
    "    seen_item = set(user_seen[user])\n",
    "    unseen_item = all_item - seen_item\n",
    "    return list(unseen_item)\n",
    "    "
   ]
  },
  {
   "cell_type": "code",
   "execution_count": 9,
   "metadata": {},
   "outputs": [
    {
     "name": "stderr",
     "output_type": "stream",
     "text": [
      "100%|██████████| 31360/31360 [00:16<00:00, 1863.97it/s]\n"
     ]
    }
   ],
   "source": [
    "negative_list = defaultdict(list)\n",
    "\n",
    "for user in tqdm(user_list):\n",
    "    negative_list[user2reindex[user]].extend(get_all_negative_sample(user))"
   ]
  },
  {
   "cell_type": "code",
   "execution_count": 10,
   "metadata": {},
   "outputs": [],
   "source": [
    "with open(\"./new_all_test_negative.json\", \"w\") as js:\n",
    "    json.dump(negative_list, js, indent=4)"
   ]
  }
 ],
 "metadata": {
  "interpreter": {
   "hash": "31f2aee4e71d21fbe5cf8b01ff0e069b9275f58929596ceb00d14d90e3e16cd6"
  },
  "kernelspec": {
   "display_name": "Python 3.6.9 64-bit",
   "language": "python",
   "name": "python3"
  },
  "language_info": {
   "codemirror_mode": {
    "name": "ipython",
    "version": 3
   },
   "file_extension": ".py",
   "mimetype": "text/x-python",
   "name": "python",
   "nbconvert_exporter": "python",
   "pygments_lexer": "ipython3",
   "version": "3.8.5"
  },
  "orig_nbformat": 4
 },
 "nbformat": 4,
 "nbformat_minor": 2
}
