{
 "cells": [
  {
   "cell_type": "code",
   "execution_count": 1,
   "metadata": {},
   "outputs": [],
   "source": [
    "import os\n",
    "import random\n",
    "import numpy as np\n",
    "import pandas as pd\n",
    "from sklearn.model_selection import train_test_split\n",
    "from sklearn.metrics import roc_auc_score\n",
    "\n",
    "import matplotlib.pyplot as plt\n",
    "\n",
    "import torch\n",
    "import torch.nn as nn\n",
    "from torch.utils.data import TensorDataset, DataLoader\n",
    "import pickle\n",
    "from tqdm import tqdm"
   ]
  },
  {
   "cell_type": "markdown",
   "metadata": {},
   "source": [
    "# Data Processing"
   ]
  },
  {
   "cell_type": "code",
   "execution_count": 2,
   "metadata": {},
   "outputs": [],
   "source": [
    "###############################################################################\n",
    "# 주어진 결과와 정확히 비교하기 위한 random seed 고정\n",
    "###############################################################################\n",
    "\n",
    "seed = 0  # 바꾸지 마시오!\n",
    "random.seed(seed)\n",
    "np.random.seed(seed)"
   ]
  },
  {
   "cell_type": "code",
   "execution_count": 3,
   "metadata": {},
   "outputs": [
    {
     "data": {
      "text/plain": [
       "'/opt/ml/input/data/train/directors.tsv'"
      ]
     },
     "execution_count": 3,
     "metadata": {},
     "output_type": "execute_result"
    }
   ],
   "source": [
    "base_path = os.path.join(os.curdir, '/opt/ml/input/data/train')\n",
    "data_path = os.path.join(base_path, 'train_ratings.csv')\n",
    "genre_path = os.path.join(base_path, \"genres.tsv\")\n",
    "writer_path = os.path.join(base_path, \"writers.tsv\")\n",
    "director_path = os.path.join(base_path, \"directors.tsv\")\n",
    "director_path"
   ]
  },
  {
   "cell_type": "code",
   "execution_count": 4,
   "metadata": {},
   "outputs": [
    {
     "name": "stdout",
     "output_type": "stream",
     "text": [
      "ratings_df의 shape (5154471, 3)\n"
     ]
    },
    {
     "data": {
      "text/html": [
       "<div>\n",
       "<style scoped>\n",
       "    .dataframe tbody tr th:only-of-type {\n",
       "        vertical-align: middle;\n",
       "    }\n",
       "\n",
       "    .dataframe tbody tr th {\n",
       "        vertical-align: top;\n",
       "    }\n",
       "\n",
       "    .dataframe thead th {\n",
       "        text-align: right;\n",
       "    }\n",
       "</style>\n",
       "<table border=\"1\" class=\"dataframe\">\n",
       "  <thead>\n",
       "    <tr style=\"text-align: right;\">\n",
       "      <th></th>\n",
       "      <th>user</th>\n",
       "      <th>item</th>\n",
       "      <th>rating</th>\n",
       "    </tr>\n",
       "  </thead>\n",
       "  <tbody>\n",
       "    <tr>\n",
       "      <th>0</th>\n",
       "      <td>11</td>\n",
       "      <td>4643</td>\n",
       "      <td>1</td>\n",
       "    </tr>\n",
       "    <tr>\n",
       "      <th>1</th>\n",
       "      <td>11</td>\n",
       "      <td>170</td>\n",
       "      <td>1</td>\n",
       "    </tr>\n",
       "    <tr>\n",
       "      <th>2</th>\n",
       "      <td>11</td>\n",
       "      <td>531</td>\n",
       "      <td>1</td>\n",
       "    </tr>\n",
       "    <tr>\n",
       "      <th>3</th>\n",
       "      <td>11</td>\n",
       "      <td>616</td>\n",
       "      <td>1</td>\n",
       "    </tr>\n",
       "    <tr>\n",
       "      <th>4</th>\n",
       "      <td>11</td>\n",
       "      <td>2140</td>\n",
       "      <td>1</td>\n",
       "    </tr>\n",
       "  </tbody>\n",
       "</table>\n",
       "</div>"
      ],
      "text/plain": [
       "   user  item  rating\n",
       "0    11  4643       1\n",
       "1    11   170       1\n",
       "2    11   531       1\n",
       "3    11   616       1\n",
       "4    11  2140       1"
      ]
     },
     "execution_count": 4,
     "metadata": {},
     "output_type": "execute_result"
    }
   ],
   "source": [
    "# 평점 데이터\n",
    "ratings_df = pd.read_csv(data_path)\n",
    "print(f'ratings_df의 shape {ratings_df.shape}')\n",
    "ratings_df.columns = ['user', 'item', 'time']\n",
    "ratings_df=ratings_df.drop(columns=['time'])\n",
    "ratings_df['rating']=1 # 상호작용이 있기 때문에 1로 넣는다\n",
    "ratings_df.head(5)"
   ]
  },
  {
   "cell_type": "code",
   "execution_count": 5,
   "metadata": {},
   "outputs": [],
   "source": [
    "def neg_sample(rating_df, num_negative):\n",
    "    #-- Negative instance 생성\n",
    "    print(f\"[INFO] Create Nagetive instances\")\n",
    "    \n",
    "    items = set(rating_df.loc[:, 'item'])\n",
    "    user_group_dfs = list(rating_df.groupby('user')['item'])\n",
    "    \n",
    "    user_neg_dfs = np.array([]).reshape(0, 3)\n",
    "\n",
    "    for u, user_seen_list in user_group_dfs:\n",
    "        \n",
    "        #-- User가 시청한 영화 집합\n",
    "        user_seen_set = set(user_seen_list)\n",
    "        \n",
    "        #-- 시청한 영화를 제외한 num_negative개의 영화 선택\n",
    "        i_user_neg_item = np.random.choice(list(items - user_seen_set), num_negative, replace=False)\n",
    "        \n",
    "        #-- negative sample item's rating = 0\n",
    "        neg_users = np.full(num_negative, u)\n",
    "        neg_ratings = np.zeros(num_negative)\n",
    "        \n",
    "        #-- user u 에 대한 negative sample 결과 생성 : [\"neg_user\", \"neg_item\", \"neg_rate\"]\n",
    "        neg_results = np.vstack((neg_users, i_user_neg_item, neg_ratings)).T\n",
    "        user_neg_dfs = np.vstack((user_neg_dfs, neg_results))\n",
    "    \n",
    "    neg_rating_df = pd.DataFrame(data=user_neg_dfs, columns=[\"user\", \"item\", \"rating\"])\n",
    "    rating_df = pd.concat([rating_df, neg_rating_df], axis=0, sort=False)\n",
    "    \n",
    "    return rating_df"
   ]
  },
  {
   "cell_type": "code",
   "execution_count": 6,
   "metadata": {},
   "outputs": [
    {
     "name": "stdout",
     "output_type": "stream",
     "text": [
      "(Before) (5154471, 3)\n",
      "[INFO] Create Nagetive instances\n"
     ]
    },
    {
     "ename": "KeyboardInterrupt",
     "evalue": "",
     "output_type": "error",
     "traceback": [
      "\u001b[0;31m---------------------------------------------------------------------------\u001b[0m",
      "\u001b[0;31mKeyboardInterrupt\u001b[0m                         Traceback (most recent call last)",
      "\u001b[1;32m/opt/ml/level2-movie-recommendation-level2-recsys-07/MODELS/FFM/FFM_FULL.ipynb Cell 7'\u001b[0m in \u001b[0;36m<cell line: 3>\u001b[0;34m()\u001b[0m\n\u001b[1;32m      <a href='vscode-notebook-cell://ssh-remote%2B49.50.172.166/opt/ml/level2-movie-recommendation-level2-recsys-07/MODELS/FFM/FFM_FULL.ipynb#ch0000006vscode-remote?line=0'>1</a>\u001b[0m NUM_NEGATIVE\u001b[39m=\u001b[39m\u001b[39m50\u001b[39m\n\u001b[1;32m      <a href='vscode-notebook-cell://ssh-remote%2B49.50.172.166/opt/ml/level2-movie-recommendation-level2-recsys-07/MODELS/FFM/FFM_FULL.ipynb#ch0000006vscode-remote?line=1'>2</a>\u001b[0m \u001b[39mprint\u001b[39m(\u001b[39mf\u001b[39m\u001b[39m'\u001b[39m\u001b[39m(Before) \u001b[39m\u001b[39m{\u001b[39;00mratings_df\u001b[39m.\u001b[39mshape\u001b[39m}\u001b[39;00m\u001b[39m'\u001b[39m)\n\u001b[0;32m----> <a href='vscode-notebook-cell://ssh-remote%2B49.50.172.166/opt/ml/level2-movie-recommendation-level2-recsys-07/MODELS/FFM/FFM_FULL.ipynb#ch0000006vscode-remote?line=2'>3</a>\u001b[0m ratings_df\u001b[39m=\u001b[39mneg_sample(ratings_df,NUM_NEGATIVE) \u001b[39m# 5분 이하 소요\u001b[39;00m\n\u001b[1;32m      <a href='vscode-notebook-cell://ssh-remote%2B49.50.172.166/opt/ml/level2-movie-recommendation-level2-recsys-07/MODELS/FFM/FFM_FULL.ipynb#ch0000006vscode-remote?line=3'>4</a>\u001b[0m \u001b[39mprint\u001b[39m(\u001b[39mf\u001b[39m\u001b[39m'\u001b[39m\u001b[39m(After) \u001b[39m\u001b[39m{\u001b[39;00mratings_df\u001b[39m.\u001b[39mshape\u001b[39m}\u001b[39;00m\u001b[39m'\u001b[39m)\n\u001b[1;32m      <a href='vscode-notebook-cell://ssh-remote%2B49.50.172.166/opt/ml/level2-movie-recommendation-level2-recsys-07/MODELS/FFM/FFM_FULL.ipynb#ch0000006vscode-remote?line=4'>5</a>\u001b[0m ratings_df\u001b[39m.\u001b[39mhead()\n",
      "\u001b[1;32m/opt/ml/level2-movie-recommendation-level2-recsys-07/MODELS/FFM/FFM_FULL.ipynb Cell 6'\u001b[0m in \u001b[0;36mneg_sample\u001b[0;34m(rating_df, num_negative)\u001b[0m\n\u001b[1;32m     <a href='vscode-notebook-cell://ssh-remote%2B49.50.172.166/opt/ml/level2-movie-recommendation-level2-recsys-07/MODELS/FFM/FFM_FULL.ipynb#ch0000005vscode-remote?line=21'>22</a>\u001b[0m     \u001b[39m#-- user u 에 대한 negative sample 결과 생성 : [\"neg_user\", \"neg_item\", \"neg_rate\"]\u001b[39;00m\n\u001b[1;32m     <a href='vscode-notebook-cell://ssh-remote%2B49.50.172.166/opt/ml/level2-movie-recommendation-level2-recsys-07/MODELS/FFM/FFM_FULL.ipynb#ch0000005vscode-remote?line=22'>23</a>\u001b[0m     neg_results \u001b[39m=\u001b[39m np\u001b[39m.\u001b[39mvstack((neg_users, i_user_neg_item, neg_ratings))\u001b[39m.\u001b[39mT\n\u001b[0;32m---> <a href='vscode-notebook-cell://ssh-remote%2B49.50.172.166/opt/ml/level2-movie-recommendation-level2-recsys-07/MODELS/FFM/FFM_FULL.ipynb#ch0000005vscode-remote?line=23'>24</a>\u001b[0m     user_neg_dfs \u001b[39m=\u001b[39m np\u001b[39m.\u001b[39;49mvstack((user_neg_dfs, neg_results))\n\u001b[1;32m     <a href='vscode-notebook-cell://ssh-remote%2B49.50.172.166/opt/ml/level2-movie-recommendation-level2-recsys-07/MODELS/FFM/FFM_FULL.ipynb#ch0000005vscode-remote?line=25'>26</a>\u001b[0m neg_rating_df \u001b[39m=\u001b[39m pd\u001b[39m.\u001b[39mDataFrame(data\u001b[39m=\u001b[39muser_neg_dfs, columns\u001b[39m=\u001b[39m[\u001b[39m\"\u001b[39m\u001b[39muser\u001b[39m\u001b[39m\"\u001b[39m, \u001b[39m\"\u001b[39m\u001b[39mitem\u001b[39m\u001b[39m\"\u001b[39m, \u001b[39m\"\u001b[39m\u001b[39mrating\u001b[39m\u001b[39m\"\u001b[39m])\n\u001b[1;32m     <a href='vscode-notebook-cell://ssh-remote%2B49.50.172.166/opt/ml/level2-movie-recommendation-level2-recsys-07/MODELS/FFM/FFM_FULL.ipynb#ch0000005vscode-remote?line=26'>27</a>\u001b[0m rating_df \u001b[39m=\u001b[39m pd\u001b[39m.\u001b[39mconcat([rating_df, neg_rating_df], axis\u001b[39m=\u001b[39m\u001b[39m0\u001b[39m, sort\u001b[39m=\u001b[39m\u001b[39mFalse\u001b[39;00m)\n",
      "File \u001b[0;32m<__array_function__ internals>:180\u001b[0m, in \u001b[0;36mvstack\u001b[0;34m(*args, **kwargs)\u001b[0m\n",
      "File \u001b[0;32m/opt/conda/lib/python3.8/site-packages/numpy/core/shape_base.py:282\u001b[0m, in \u001b[0;36mvstack\u001b[0;34m(tup)\u001b[0m\n\u001b[1;32m    <a href='file:///opt/conda/lib/python3.8/site-packages/numpy/core/shape_base.py?line=279'>280</a>\u001b[0m \u001b[39mif\u001b[39;00m \u001b[39mnot\u001b[39;00m \u001b[39misinstance\u001b[39m(arrs, \u001b[39mlist\u001b[39m):\n\u001b[1;32m    <a href='file:///opt/conda/lib/python3.8/site-packages/numpy/core/shape_base.py?line=280'>281</a>\u001b[0m     arrs \u001b[39m=\u001b[39m [arrs]\n\u001b[0;32m--> <a href='file:///opt/conda/lib/python3.8/site-packages/numpy/core/shape_base.py?line=281'>282</a>\u001b[0m \u001b[39mreturn\u001b[39;00m _nx\u001b[39m.\u001b[39;49mconcatenate(arrs, \u001b[39m0\u001b[39;49m)\n",
      "File \u001b[0;32m<__array_function__ internals>:180\u001b[0m, in \u001b[0;36mconcatenate\u001b[0;34m(*args, **kwargs)\u001b[0m\n",
      "\u001b[0;31mKeyboardInterrupt\u001b[0m: "
     ]
    }
   ],
   "source": [
    "NUM_NEGATIVE=50\n",
    "print(f'(Before) {ratings_df.shape}')\n",
    "ratings_df=neg_sample(ratings_df,NUM_NEGATIVE) # 5분 이하 소요\n",
    "print(f'(After) {ratings_df.shape}')\n",
    "ratings_df.head()"
   ]
  },
  {
   "cell_type": "code",
   "execution_count": 7,
   "metadata": {},
   "outputs": [
    {
     "name": "stdout",
     "output_type": "stream",
     "text": [
      "   item     genre\n",
      "0   318     Crime\n",
      "1   318     Drama\n",
      "2  2571    Action\n",
      "3  2571    Sci-Fi\n",
      "4  2571  Thriller\n",
      "장르 종류 :  ['Action' 'Adventure' 'Animation' 'Children' 'Comedy' 'Crime'\n",
      " 'Documentary' 'Drama' 'Fantasy' 'Film-Noir' 'Horror' 'Musical' 'Mystery'\n",
      " 'Romance' 'Sci-Fi' 'Thriller' 'War' 'Western']\n",
      "장르->카테고리 숫자 :  {'Action': 0, 'Adventure': 1, 'Animation': 2, 'Children': 3, 'Comedy': 4, 'Crime': 5, 'Documentary': 6, 'Drama': 7, 'Fantasy': 8, 'Film-Noir': 9, 'Horror': 10, 'Musical': 11, 'Mystery': 12, 'Romance': 13, 'Sci-Fi': 14, 'Thriller': 15, 'War': 16, 'Western': 17}\n"
     ]
    },
    {
     "data": {
      "text/html": [
       "<div>\n",
       "<style scoped>\n",
       "    .dataframe tbody tr th:only-of-type {\n",
       "        vertical-align: middle;\n",
       "    }\n",
       "\n",
       "    .dataframe tbody tr th {\n",
       "        vertical-align: top;\n",
       "    }\n",
       "\n",
       "    .dataframe thead th {\n",
       "        text-align: right;\n",
       "    }\n",
       "</style>\n",
       "<table border=\"1\" class=\"dataframe\">\n",
       "  <thead>\n",
       "    <tr style=\"text-align: right;\">\n",
       "      <th></th>\n",
       "      <th>item</th>\n",
       "      <th>genre</th>\n",
       "    </tr>\n",
       "  </thead>\n",
       "  <tbody>\n",
       "    <tr>\n",
       "      <th>0</th>\n",
       "      <td>318</td>\n",
       "      <td>5</td>\n",
       "    </tr>\n",
       "    <tr>\n",
       "      <th>1</th>\n",
       "      <td>318</td>\n",
       "      <td>7</td>\n",
       "    </tr>\n",
       "    <tr>\n",
       "      <th>2</th>\n",
       "      <td>2571</td>\n",
       "      <td>0</td>\n",
       "    </tr>\n",
       "    <tr>\n",
       "      <th>3</th>\n",
       "      <td>2571</td>\n",
       "      <td>14</td>\n",
       "    </tr>\n",
       "    <tr>\n",
       "      <th>4</th>\n",
       "      <td>2571</td>\n",
       "      <td>15</td>\n",
       "    </tr>\n",
       "  </tbody>\n",
       "</table>\n",
       "</div>"
      ],
      "text/plain": [
       "   item genre\n",
       "0   318     5\n",
       "1   318     7\n",
       "2  2571     0\n",
       "3  2571    14\n",
       "4  2571    15"
      ]
     },
     "execution_count": 7,
     "metadata": {},
     "output_type": "execute_result"
    }
   ],
   "source": [
    "# 장르 데이터\n",
    "genre_df = pd.read_csv(genre_path,delimiter=\"\\t\")\n",
    "genre_list=genre_df.loc[:,'genre'].to_numpy()\n",
    "genre_list=np.unique(genre_list)\n",
    "print(genre_df.head(5))\n",
    "print(\"장르 종류 : \", genre_list)\n",
    "\n",
    "item2onegenre=dict()\n",
    "for i in range(len(genre_list)):\n",
    "    item2onegenre[genre_list[i]]=i\n",
    "print(\"장르->카테고리 숫자 : \",item2onegenre) # 장르 카테고리화\n",
    "\n",
    "for i in range(len(genre_df)):\n",
    "    genre_df.loc[i,'genre']=item2onegenre[genre_df.loc[i,'genre']]\n",
    "genre_df.head()"
   ]
  },
  {
   "cell_type": "code",
   "execution_count": 8,
   "metadata": {},
   "outputs": [
    {
     "name": "stdout",
     "output_type": "stream",
     "text": [
      "길이 :  6807 [116823 117176 117533 117881 118696 118700 118900 118997 119141 119145]\n"
     ]
    },
    {
     "data": {
      "text/html": [
       "<div>\n",
       "<style scoped>\n",
       "    .dataframe tbody tr th:only-of-type {\n",
       "        vertical-align: middle;\n",
       "    }\n",
       "\n",
       "    .dataframe tbody tr th {\n",
       "        vertical-align: top;\n",
       "    }\n",
       "\n",
       "    .dataframe thead th {\n",
       "        text-align: right;\n",
       "    }\n",
       "</style>\n",
       "<table border=\"1\" class=\"dataframe\">\n",
       "  <thead>\n",
       "    <tr style=\"text-align: right;\">\n",
       "      <th></th>\n",
       "      <th>item</th>\n",
       "      <th>genre</th>\n",
       "    </tr>\n",
       "  </thead>\n",
       "  <tbody>\n",
       "    <tr>\n",
       "      <th>0</th>\n",
       "      <td>1</td>\n",
       "      <td>1</td>\n",
       "    </tr>\n",
       "    <tr>\n",
       "      <th>1</th>\n",
       "      <td>2</td>\n",
       "      <td>1</td>\n",
       "    </tr>\n",
       "    <tr>\n",
       "      <th>2</th>\n",
       "      <td>3</td>\n",
       "      <td>4</td>\n",
       "    </tr>\n",
       "    <tr>\n",
       "      <th>3</th>\n",
       "      <td>4</td>\n",
       "      <td>4</td>\n",
       "    </tr>\n",
       "    <tr>\n",
       "      <th>4</th>\n",
       "      <td>5</td>\n",
       "      <td>4</td>\n",
       "    </tr>\n",
       "  </tbody>\n",
       "</table>\n",
       "</div>"
      ],
      "text/plain": [
       "   item  genre\n",
       "0     1      1\n",
       "1     2      1\n",
       "2     3      4\n",
       "3     4      4\n",
       "4     5      4"
      ]
     },
     "execution_count": 8,
     "metadata": {},
     "output_type": "execute_result"
    }
   ],
   "source": [
    "# 장르 1개 데이터\n",
    "item_list=genre_df.loc[:,'item'].to_numpy()\n",
    "item_list=np.unique(item_list)\n",
    "print('길이 : ',len(item_list),item_list[-10:])\n",
    "\n",
    "one_genre_list=[]\n",
    "for i in item_list:\n",
    "    temp=genre_df[genre_df.loc[:,'item']==i]\n",
    "    one_genre_list.append(temp.iloc[0,:].to_numpy().tolist())\n",
    "one_genre_df=pd.DataFrame(data=one_genre_list,columns=['item','genre'])\n",
    "one_genre_df.head(5)"
   ]
  },
  {
   "cell_type": "code",
   "execution_count": 9,
   "metadata": {},
   "outputs": [
    {
     "name": "stdout",
     "output_type": "stream",
     "text": [
      "writer_df의 shape (11306, 2)\n",
      "   item     writer\n",
      "0  1237  nm0000005\n",
      "1  5147  nm0000005\n",
      "2  7327  nm0000005\n",
      "3  2068  nm0000005\n",
      "4  7396  nm0000005\n",
      "unique한 writer_list길이 :  2989 ['nm3890871' 'nm4160687' 'nm4611078' 'nm4950667' 'nm4951717' 'nm5022110'\n",
      " 'nm5335213' 'nm5371819' 'nm5927607' 'nm5927608']\n",
      "item_list 길이 :  5648 [115617 116161 116799 116823 117881 118696 118900 118997 119141 119145]\n"
     ]
    },
    {
     "data": {
      "text/html": [
       "<div>\n",
       "<style scoped>\n",
       "    .dataframe tbody tr th:only-of-type {\n",
       "        vertical-align: middle;\n",
       "    }\n",
       "\n",
       "    .dataframe tbody tr th {\n",
       "        vertical-align: top;\n",
       "    }\n",
       "\n",
       "    .dataframe thead th {\n",
       "        text-align: right;\n",
       "    }\n",
       "</style>\n",
       "<table border=\"1\" class=\"dataframe\">\n",
       "  <thead>\n",
       "    <tr style=\"text-align: right;\">\n",
       "      <th></th>\n",
       "      <th>item</th>\n",
       "      <th>writer</th>\n",
       "    </tr>\n",
       "  </thead>\n",
       "  <tbody>\n",
       "    <tr>\n",
       "      <th>0</th>\n",
       "      <td>1</td>\n",
       "      <td>nm0004056</td>\n",
       "    </tr>\n",
       "    <tr>\n",
       "      <th>1</th>\n",
       "      <td>2</td>\n",
       "      <td>nm0378144</td>\n",
       "    </tr>\n",
       "    <tr>\n",
       "      <th>2</th>\n",
       "      <td>3</td>\n",
       "      <td>nm0425756</td>\n",
       "    </tr>\n",
       "    <tr>\n",
       "      <th>3</th>\n",
       "      <td>4</td>\n",
       "      <td>nm0060103</td>\n",
       "    </tr>\n",
       "    <tr>\n",
       "      <th>4</th>\n",
       "      <td>5</td>\n",
       "      <td>nm0329304</td>\n",
       "    </tr>\n",
       "  </tbody>\n",
       "</table>\n",
       "</div>"
      ],
      "text/plain": [
       "   item     writer\n",
       "0     1  nm0004056\n",
       "1     2  nm0378144\n",
       "2     3  nm0425756\n",
       "3     4  nm0060103\n",
       "4     5  nm0329304"
      ]
     },
     "execution_count": 9,
     "metadata": {},
     "output_type": "execute_result"
    }
   ],
   "source": [
    "# 작가 데이터\n",
    "writer_df = pd.read_csv(writer_path,delimiter=\"\\t\")\n",
    "print(f'writer_df의 shape {writer_df.shape}') #전체 \n",
    "print(writer_df.head())\n",
    "writer_list=writer_df.loc[:,'writer'].to_numpy()\n",
    "writer_list=np.unique(writer_list)\n",
    "print('unique한 writer_list길이 : ',len(writer_list),writer_list[-10:])\n",
    "\n",
    "# 작가 1명만 데이터\n",
    "item_list=writer_df.loc[:,'item'].to_numpy()\n",
    "item_list=np.unique(item_list)\n",
    "print('item_list 길이 : ',len(item_list),item_list[-10:])\n",
    "\n",
    "one_writer_list=[]\n",
    "for i in item_list:\n",
    "    temp=writer_df[writer_df.loc[:,'item']==i]\n",
    "    one_writer_list.append(temp.iloc[0,:].to_numpy().tolist()) # 첫번째 writer만 가져옴\n",
    "one_writer_df=pd.DataFrame(data=one_writer_list,columns=['item','writer'])\n",
    "one_writer_df.head(5)"
   ]
  },
  {
   "cell_type": "code",
   "execution_count": 10,
   "metadata": {},
   "outputs": [
    {
     "name": "stdout",
     "output_type": "stream",
     "text": [
      "one_writer_df의 shape (5648, 2)\n"
     ]
    },
    {
     "data": {
      "text/html": [
       "<div>\n",
       "<style scoped>\n",
       "    .dataframe tbody tr th:only-of-type {\n",
       "        vertical-align: middle;\n",
       "    }\n",
       "\n",
       "    .dataframe tbody tr th {\n",
       "        vertical-align: top;\n",
       "    }\n",
       "\n",
       "    .dataframe thead th {\n",
       "        text-align: right;\n",
       "    }\n",
       "</style>\n",
       "<table border=\"1\" class=\"dataframe\">\n",
       "  <thead>\n",
       "    <tr style=\"text-align: right;\">\n",
       "      <th></th>\n",
       "      <th>item</th>\n",
       "      <th>writer</th>\n",
       "    </tr>\n",
       "  </thead>\n",
       "  <tbody>\n",
       "    <tr>\n",
       "      <th>0</th>\n",
       "      <td>1</td>\n",
       "      <td>296</td>\n",
       "    </tr>\n",
       "    <tr>\n",
       "      <th>1</th>\n",
       "      <td>2</td>\n",
       "      <td>1304</td>\n",
       "    </tr>\n",
       "    <tr>\n",
       "      <th>2</th>\n",
       "      <td>3</td>\n",
       "      <td>1435</td>\n",
       "    </tr>\n",
       "    <tr>\n",
       "      <th>3</th>\n",
       "      <td>4</td>\n",
       "      <td>466</td>\n",
       "    </tr>\n",
       "    <tr>\n",
       "      <th>4</th>\n",
       "      <td>5</td>\n",
       "      <td>1165</td>\n",
       "    </tr>\n",
       "  </tbody>\n",
       "</table>\n",
       "</div>"
      ],
      "text/plain": [
       "   item writer\n",
       "0     1    296\n",
       "1     2   1304\n",
       "2     3   1435\n",
       "3     4    466\n",
       "4     5   1165"
      ]
     },
     "execution_count": 10,
     "metadata": {},
     "output_type": "execute_result"
    }
   ],
   "source": [
    "# {'nm000005' : 0, 'nm':1 ..} \n",
    "item2writer=dict()\n",
    "for i in range(len(writer_list)):\n",
    "    item2writer[writer_list[i]]=i\n",
    "\n",
    "# 원래 dataframe의 writer를 카테고리로 변경\n",
    "for i in range(len(one_writer_df)):\n",
    "    one_writer_df.loc[i,'writer']=item2writer[one_writer_df.loc[i,'writer']]\n",
    "\n",
    "print(f'one_writer_df의 shape {one_writer_df.shape}')\n",
    "one_writer_df.head()"
   ]
  },
  {
   "cell_type": "code",
   "execution_count": 11,
   "metadata": {},
   "outputs": [
    {
     "name": "stdout",
     "output_type": "stream",
     "text": [
      "director_df의 shape (5905, 2)\n",
      "   item   director\n",
      "0  1237  nm0000005\n",
      "1  5147  nm0000005\n",
      "2  7327  nm0000005\n",
      "3  2068  nm0000005\n",
      "4  7396  nm0000005\n",
      "item_list 길이 :  5503 [116797 116799 116823 117176 117881 118696 118900 118997 119141 119145]\n"
     ]
    },
    {
     "data": {
      "text/html": [
       "<div>\n",
       "<style scoped>\n",
       "    .dataframe tbody tr th:only-of-type {\n",
       "        vertical-align: middle;\n",
       "    }\n",
       "\n",
       "    .dataframe tbody tr th {\n",
       "        vertical-align: top;\n",
       "    }\n",
       "\n",
       "    .dataframe thead th {\n",
       "        text-align: right;\n",
       "    }\n",
       "</style>\n",
       "<table border=\"1\" class=\"dataframe\">\n",
       "  <thead>\n",
       "    <tr style=\"text-align: right;\">\n",
       "      <th></th>\n",
       "      <th>item</th>\n",
       "      <th>director</th>\n",
       "    </tr>\n",
       "  </thead>\n",
       "  <tbody>\n",
       "    <tr>\n",
       "      <th>0</th>\n",
       "      <td>1</td>\n",
       "      <td>nm0005124</td>\n",
       "    </tr>\n",
       "    <tr>\n",
       "      <th>1</th>\n",
       "      <td>2</td>\n",
       "      <td>nm0002653</td>\n",
       "    </tr>\n",
       "    <tr>\n",
       "      <th>2</th>\n",
       "      <td>3</td>\n",
       "      <td>nm0222043</td>\n",
       "    </tr>\n",
       "    <tr>\n",
       "      <th>3</th>\n",
       "      <td>4</td>\n",
       "      <td>nm0001845</td>\n",
       "    </tr>\n",
       "    <tr>\n",
       "      <th>4</th>\n",
       "      <td>5</td>\n",
       "      <td>nm0796124</td>\n",
       "    </tr>\n",
       "  </tbody>\n",
       "</table>\n",
       "</div>"
      ],
      "text/plain": [
       "   item   director\n",
       "0     1  nm0005124\n",
       "1     2  nm0002653\n",
       "2     3  nm0222043\n",
       "3     4  nm0001845\n",
       "4     5  nm0796124"
      ]
     },
     "execution_count": 11,
     "metadata": {},
     "output_type": "execute_result"
    }
   ],
   "source": [
    "# 감독 데이터\n",
    "director_df = pd.read_csv(director_path,delimiter=\"\\t\")\n",
    "print(f'director_df의 shape {director_df.shape}')\n",
    "print(director_df.head())\n",
    "\n",
    "# 감독 1명만 데이터\n",
    "item_list=director_df.loc[:,'item'].to_numpy()\n",
    "item_list=np.unique(item_list)\n",
    "print('item_list 길이 : ',len(item_list),item_list[-10:])\n",
    "\n",
    "one_director_list=[]\n",
    "for i in item_list:\n",
    "    temp=director_df[director_df.loc[:,'item']==i]\n",
    "    one_director_list.append(temp.iloc[0,:].to_numpy().tolist()) # 첫번째 writer만 가져옴\n",
    "one_director_df=pd.DataFrame(data=one_director_list,columns=['item','director'])\n",
    "one_director_df.head(5)"
   ]
  },
  {
   "cell_type": "code",
   "execution_count": 12,
   "metadata": {},
   "outputs": [
    {
     "name": "stdout",
     "output_type": "stream",
     "text": [
      "길이 :  1340 ['nm2284484' 'nm2304017' 'nm2320658' 'nm2480587' 'nm2482088' 'nm2588606'\n",
      " 'nm2648685' 'nm2676052' 'nm2879822' 'nm9054338']\n",
      "director_df의 shape (5503, 2)\n"
     ]
    }
   ],
   "source": [
    "#{'nm0000005' : 0 , ...}\n",
    "director_list=director_df.loc[:,'director'].to_numpy()\n",
    "director_list=np.unique(director_list)\n",
    "print('길이 : ',len(director_list),director_list[-10:])\n",
    "\n",
    "item2director=dict()\n",
    "for i in range(len(director_list)):\n",
    "    item2director[director_list[i]]=i\n",
    "\n",
    "for i in range(len(one_director_df)):\n",
    "    one_director_df.loc[i,'director']=item2director[one_director_df.loc[i,'director']]\n",
    "\n",
    "print(f'director_df의 shape {one_director_df.shape}')\n",
    "# one_director_df.head()"
   ]
  },
  {
   "cell_type": "code",
   "execution_count": null,
   "metadata": {},
   "outputs": [
    {
     "name": "stdout",
     "output_type": "stream",
     "text": [
      "rating+genre (5154471, 4)\n",
      "rating+genre+writer (5154471, 5)\n",
      "rating+genre+writer+director (5154471, 6)\n"
     ]
    },
    {
     "data": {
      "text/html": [
       "<div>\n",
       "<style scoped>\n",
       "    .dataframe tbody tr th:only-of-type {\n",
       "        vertical-align: middle;\n",
       "    }\n",
       "\n",
       "    .dataframe tbody tr th {\n",
       "        vertical-align: top;\n",
       "    }\n",
       "\n",
       "    .dataframe thead th {\n",
       "        text-align: right;\n",
       "    }\n",
       "</style>\n",
       "<table border=\"1\" class=\"dataframe\">\n",
       "  <thead>\n",
       "    <tr style=\"text-align: right;\">\n",
       "      <th></th>\n",
       "      <th>user</th>\n",
       "      <th>item</th>\n",
       "      <th>rating</th>\n",
       "      <th>genre</th>\n",
       "      <th>writer</th>\n",
       "      <th>director</th>\n",
       "    </tr>\n",
       "  </thead>\n",
       "  <tbody>\n",
       "    <tr>\n",
       "      <th>0</th>\n",
       "      <td>11</td>\n",
       "      <td>4643</td>\n",
       "      <td>1</td>\n",
       "      <td>0</td>\n",
       "      <td>574</td>\n",
       "      <td>47</td>\n",
       "    </tr>\n",
       "    <tr>\n",
       "      <th>1</th>\n",
       "      <td>11</td>\n",
       "      <td>170</td>\n",
       "      <td>1</td>\n",
       "      <td>0</td>\n",
       "      <td>NaN</td>\n",
       "      <td>1111</td>\n",
       "    </tr>\n",
       "    <tr>\n",
       "      <th>2</th>\n",
       "      <td>11</td>\n",
       "      <td>531</td>\n",
       "      <td>1</td>\n",
       "      <td>3</td>\n",
       "      <td>279</td>\n",
       "      <td>280</td>\n",
       "    </tr>\n",
       "    <tr>\n",
       "      <th>3</th>\n",
       "      <td>11</td>\n",
       "      <td>616</td>\n",
       "      <td>1</td>\n",
       "      <td>2</td>\n",
       "      <td>400</td>\n",
       "      <td>1016</td>\n",
       "    </tr>\n",
       "    <tr>\n",
       "      <th>4</th>\n",
       "      <td>11</td>\n",
       "      <td>2140</td>\n",
       "      <td>1</td>\n",
       "      <td>1</td>\n",
       "      <td>174</td>\n",
       "      <td>84</td>\n",
       "    </tr>\n",
       "  </tbody>\n",
       "</table>\n",
       "</div>"
      ],
      "text/plain": [
       "   user  item  rating  genre writer director\n",
       "0    11  4643       1      0    574       47\n",
       "1    11   170       1      0    NaN     1111\n",
       "2    11   531       1      3    279      280\n",
       "3    11   616       1      2    400     1016\n",
       "4    11  2140       1      1    174       84"
      ]
     },
     "execution_count": 11,
     "metadata": {},
     "output_type": "execute_result"
    }
   ],
   "source": [
    "df=pd.merge(ratings_df, one_genre_df,how='left', on='item')\n",
    "print(\"rating+genre\",df.shape)\n",
    "df=pd.merge(df,one_writer_df ,how='left', on='item')\n",
    "print(\"rating+genre+writer\",df.shape)\n",
    "df=pd.merge(df,one_director_df ,how='left', on='item')\n",
    "print(\"rating+genre+writer+director\",df.shape)\n",
    "df.head()"
   ]
  },
  {
   "cell_type": "markdown",
   "metadata": {},
   "source": [
    "## 결측치"
   ]
  },
  {
   "cell_type": "code",
   "execution_count": 14,
   "metadata": {},
   "outputs": [
    {
     "data": {
      "text/plain": [
       "user             0\n",
       "item             0\n",
       "rating           0\n",
       "genre            0\n",
       "writer      584411\n",
       "director    607148\n",
       "dtype: int64"
      ]
     },
     "execution_count": 14,
     "metadata": {},
     "output_type": "execute_result"
    }
   ],
   "source": [
    "df.isnull().sum()"
   ]
  },
  {
   "cell_type": "code",
   "execution_count": 15,
   "metadata": {},
   "outputs": [
    {
     "data": {
      "text/plain": [
       "user        0\n",
       "item        0\n",
       "rating      0\n",
       "genre       0\n",
       "writer      0\n",
       "director    0\n",
       "dtype: int64"
      ]
     },
     "execution_count": 15,
     "metadata": {},
     "output_type": "execute_result"
    }
   ],
   "source": [
    "df['writer']=df['writer'].fillna(len(writer_list)) # 끝 값\n",
    "df['director']=df['director'].fillna(len(director_list)) \n",
    "df.isnull().sum()"
   ]
  },
  {
   "cell_type": "code",
   "execution_count": 16,
   "metadata": {},
   "outputs": [
    {
     "name": "stdout",
     "output_type": "stream",
     "text": [
      "1.4.2  > 1.0.5 여야 실행됨\n",
      "(6722471, 3)\n",
      "******************** df.info() ********************\n",
      "<class 'pandas.core.frame.DataFrame'>\n",
      "Int64Index: 6722471 entries, 0 to 6722470\n",
      "Data columns (total 6 columns):\n",
      " #   Column    Dtype\n",
      "---  ------    -----\n",
      " 0   user      int64\n",
      " 1   item      int64\n",
      " 2   rating    int64\n",
      " 3   genre     int64\n",
      " 4   writer    int64\n",
      " 5   director  int64\n",
      "dtypes: int64(6)\n",
      "memory usage: 359.0 MB\n",
      "None\n",
      "******************** df.head()) ********************\n",
      "   user  item  rating  genre  writer  director\n",
      "0    11  4643       1      0     574        47\n",
      "1    11   170       1      0    2989      1111\n",
      "2    11   531       1      3     279       280\n",
      "3    11   616       1      2     400      1016\n",
      "4    11  2140       1      1     174        84\n"
     ]
    }
   ],
   "source": [
    "print(pd.__version__ ,' > 1.0.5 여야 실행됨')\n",
    "df=df.astype(np.int64)\n",
    "print(ratings_df.shape)\n",
    "print('*'*20,'df.info()','*'*20)\n",
    "print(df.info())\n",
    "print('*'*20,'df.head())','*'*20)\n",
    "print(df.head())"
   ]
  },
  {
   "cell_type": "code",
   "execution_count": 20,
   "metadata": {},
   "outputs": [
    {
     "name": "stdout",
     "output_type": "stream",
     "text": [
      "[user수(len),item수,genre수,writer수,director수] :  [31360, 6807, 18, 2028, 1283]\n"
     ]
    }
   ],
   "source": [
    "ffm_df=df.copy()\n",
    "# col_dict = dict()\n",
    "\n",
    "# for col in ffm_df.columns:\n",
    "#     if col == 'rating': continue\n",
    "#     ffm_df[col] = ffm_df[col].astype(\"category\")\n",
    "#     col_dict[col] = {value: idx for idx, value in enumerate(ffm_df[col].cat.categories)}\n",
    "#     ffm_df[col] = ffm_df[col].cat.codes\n",
    "\n",
    "# col_dict\n",
    "col_len = list()\n",
    "\n",
    "for col in ffm_df.columns:\n",
    "    if col == \"rating\":\n",
    "        continue\n",
    "    category = ffm_df[f\"{col}\"].astype('category')\n",
    "    col_len.append(len(ffm_df[f\"{col}\"].astype('category').cat.categories))\n",
    "    ffm_df[f\"{col}\"] = category.cat.codes\n",
    "print(\"[user수(len),item수,genre수,writer수,director수] : \",col_len)"
   ]
  },
  {
   "cell_type": "code",
   "execution_count": 21,
   "metadata": {},
   "outputs": [
    {
     "name": "stdout",
     "output_type": "stream",
     "text": [
      "(6722471, 6)\n",
      "학습 데이터 크기: (5377976, 5) (5377976,)\n",
      "테스트 데이터 크기: (1344495, 5) (1344495,)\n"
     ]
    }
   ],
   "source": [
    "print(ffm_df.shape)\n",
    "train_X, test_X, train_y, test_y = train_test_split(\n",
    "    ffm_df.loc[:, ffm_df.columns != 'rating'], ffm_df['rating'], test_size=0.2, random_state=seed)\n",
    "print('학습 데이터 크기:', train_X.shape, train_y.shape)\n",
    "print('테스트 데이터 크기:', test_X.shape, test_y.shape)"
   ]
  },
  {
   "cell_type": "markdown",
   "metadata": {},
   "source": [
    "# Train"
   ]
  },
  {
   "cell_type": "code",
   "execution_count": 22,
   "metadata": {},
   "outputs": [],
   "source": [
    "# PyTorch의 DataLoader에서 사용할 수 있도록 변환 \n",
    "train_dataset_ffm = TensorDataset(torch.LongTensor(np.array(train_X)), torch.Tensor(np.array(train_y)))\n",
    "test_dataset_ffm = TensorDataset(torch.LongTensor(np.array(test_X)), torch.Tensor(np.array(test_y)))\n",
    "del df, train_X, train_y, test_X, test_y"
   ]
  },
  {
   "cell_type": "code",
   "execution_count": 13,
   "metadata": {},
   "outputs": [],
   "source": [
    "def train_loop(dataloader, model, loss_fn, optimizer):\n",
    "    size = len(dataloader.dataset)\n",
    "    num_batches = len(dataloader)\n",
    "    train_loss = 0\n",
    "    \n",
    "    for batch, (X, y) in enumerate(dataloader):\n",
    "        X, y = X.to(device), y.to(device)\n",
    "        # Compute prediction and loss\n",
    "        pred = model(X)\n",
    "        loss = loss_fn(pred, y)\n",
    "        train_loss += loss.item()\n",
    "\n",
    "        # Backpropagation\n",
    "        optimizer.zero_grad()\n",
    "        loss.backward()\n",
    "        optimizer.step()\n",
    "\n",
    "        if batch % 100 == 0:\n",
    "            loss, current = loss.item(), batch * len(X)\n",
    "            print(f\"loss: {loss:>7f}  [{current:>5d}/{size:>5d}]\")\n",
    "    train_loss /= num_batches\n",
    "    \n",
    "    return train_loss\n",
    "\n",
    "\n",
    "def test_loop(dataloader, model, loss_fn, task):\n",
    "    size = len(dataloader.dataset)\n",
    "    num_batches = len(dataloader)\n",
    "    test_loss, y_all, pred_all = 0, list(), list()\n",
    "\n",
    "    with torch.no_grad():\n",
    "        for X, y in dataloader:\n",
    "            X, y = X.to(device), y.to(device)\n",
    "            pred = model(X)\n",
    "            test_loss += loss_fn(pred, y).item() / num_batches\n",
    "            y_all.append(y)\n",
    "            pred_all.append(pred)\n",
    "    \n",
    "    y_all = torch.cat(y_all)\n",
    "    pred_all = torch.cat(pred_all)\n",
    "    \n",
    "    if task == 'reg':\n",
    "        err = abs(pred_all - y_all).type(torch.float).mean().item()\n",
    "        print(f\"Test Error: \\n  MAE: {(err):>8f} \\n  Avg loss: {test_loss:>8f}\")\n",
    "    else:\n",
    "        err = roc_auc_score(y_all, torch.sigmoid(pred_all)).item()\n",
    "        print(f\"Test Error: \\n  AUC: {err:>8f} \\n  Avg loss: {test_loss:>8f}\")\n",
    "    \n",
    "    return err, test_loss\n",
    "\n",
    "def train_and_test(train_dataloader, test_dataloader, model, loss_fn, optimizer, epochs, task):\n",
    "    train_loss, test_err, test_loss = list(), list(), list()\n",
    "    \n",
    "    for t in range(epochs):\n",
    "        print(f\"Epoch {t+1}\\n-------------------------------\")\n",
    "        train_loss.append(train_loop(train_dataloader, model, loss_fn, optimizer))\n",
    "        test_result = test_loop(test_dataloader, model, loss_fn, task)\n",
    "        test_err.append(test_result[0])\n",
    "        test_loss.append(test_result[1])\n",
    "        print(\"-------------------------------\\n\")\n",
    "    print(\"Done!\")\n",
    "    \n",
    "    return train_loss, test_err, test_loss\n",
    "\n",
    "class FFMLayer(nn.Module):\n",
    "    def __init__(self, field_dims, factor_dim):\n",
    "        '''\n",
    "        Parameter\n",
    "            field_dims: List of field dimensions \n",
    "                        The sum become the entire dimension of input (in sparse feature)\n",
    "                        The length become the number of fields\n",
    "            factor_dim: Factorization dimension\n",
    "        '''\n",
    "        super().__init__()\n",
    "        self.num_fields = len(field_dims)\n",
    "        self.input_dim = sum(field_dims)\n",
    "        self.embedding = nn.ModuleList([\n",
    "            # FILL HERE : Fill in the places `None` with                                      #\n",
    "            #             either `factorization_dim`, `self.num_fields`, or `self.input_dim`. #\n",
    "            nn.Embedding(\n",
    "                self.input_dim, factor_dim\n",
    "            ) for _ in range(self.num_fields)\n",
    "        ])\n",
    "\n",
    "    def forward(self, x):\n",
    "        '''\n",
    "        Parameter\n",
    "            x: Long tensor of size \"(batch_size, num_fields)\"\n",
    "               Each value of variable is an index calculated including the dimensions up to the previous variable.\n",
    "               for instance, [gender:male, age:20, is_student:True] \n",
    "                             -> [1,0, 0,1,0,0,0,0, 0,1] in one-hot encoding\n",
    "                             -> x = [0,3,9].\n",
    "        Return\n",
    "            y: Float tensor of size \"(batch_size)\"\n",
    "        '''\n",
    "        \n",
    "        xv = [self.embedding[f](x) for f in range(self.num_fields)]\n",
    "        \n",
    "        y = list()\n",
    "        for f in range(self.num_fields):\n",
    "            for g in range(f + 1, self.num_fields):\n",
    "                y.append(xv[f][:, g] *  xv[g][:, f])\n",
    "        y = torch.stack(y, dim=1)\n",
    "        \n",
    "        return torch.sum(y, dim=(2,1))\n",
    "\n",
    "class FieldAwareFM(nn.Module):\n",
    "    def __init__(self, field_dims, factor_dim):\n",
    "        '''\n",
    "        Parameter\n",
    "            field_dims: List of field dimensions\n",
    "            factor_dim: Factorization dimension\n",
    "        '''\n",
    "        super().__init__()\n",
    "        self.input_dim = sum(field_dims)\n",
    "        self.encoding_dims = np.concatenate([[0], np.cumsum(field_dims)[:-1]])\n",
    "        self.linear = nn.Linear(self.input_dim, 1, bias=True) # FILL HERE : Fill in the places `None` #\n",
    "        self.ffm = FFMLayer(field_dims, factor_dim) # FILL HERE : Fill in the places `None` #\n",
    "        \n",
    "    def _initialize_weights(self):\n",
    "        for m in self.modules():\n",
    "            if isinstance(m, nn.Linear):\n",
    "                nn.init.normal_(m.weight, 0, 0.01)\n",
    "                nn.init.constant_(m.bias, 0)\n",
    "            elif isinstance(m, nn.Embedding):\n",
    "                nn.init.xavier_uniform_(m.weight)\n",
    "            elif isinstance(m, FFMLayer):\n",
    "                nn.init.normal_(m.v, 0, 0.01)\n",
    "\n",
    "    def forward(self, x):\n",
    "        '''\n",
    "        Parameter\n",
    "            x: Long tensor of size \"(batch_size, num_fields)\"\n",
    "                x_multihot: Multi-hot coding of x. size \"(batch_size, self.input_dim)\"\n",
    "        \n",
    "        Return\n",
    "            y: Float tensor of size \"(batch_size)\"\n",
    "        '''\n",
    "        x = x + x.new_tensor(self.encoding_dims).unsqueeze(0)\n",
    "\n",
    "        x_multihot = torch.zeros(x.size(0), self.input_dim, device=device).scatter_(1, x, 1.)\n",
    "        #x_multihot.shape : [256,41496]\n",
    "        y = self.linear(x_multihot).squeeze(1) + self.ffm(x) # FILL HERE : Use `self.linear()` and `self.ffm()` #\n",
    "        return y"
   ]
  },
  {
   "cell_type": "code",
   "execution_count": 14,
   "metadata": {},
   "outputs": [],
   "source": [
    "######## Hyperparameter ########\n",
    "\n",
    "batch_size = 256\n",
    "data_shuffle = True\n",
    "task = 'reg'\n",
    "factorization_dim = 8\n",
    "epochs = 100\n",
    "learning_rate = 0.001\n",
    "gpu_idx = 0"
   ]
  },
  {
   "cell_type": "code",
   "execution_count": 14,
   "metadata": {},
   "outputs": [],
   "source": [
    "# torch.cuda.empty_cache() # if necessary\n",
    "torch.manual_seed(seed)\n",
    "if torch.cuda.is_available():\n",
    "    torch.cuda.manual_seed_all(seed)\n",
    "    torch.backends.cudnn.deterministic = True\n",
    "\n",
    "use_cuda = torch.cuda.is_available()\n",
    "device = torch.device(\"cuda\" if use_cuda else \"cpu\")"
   ]
  },
  {
   "cell_type": "code",
   "execution_count": 25,
   "metadata": {},
   "outputs": [],
   "source": [
    "train_dataloader_ffm = DataLoader(train_dataset_ffm, batch_size=batch_size, shuffle=data_shuffle)\n",
    "test_dataloader_ffm = DataLoader(test_dataset_ffm, batch_size=batch_size, shuffle=data_shuffle)\n",
    "\n",
    "field_dims = col_len\n",
    "model = FieldAwareFM(field_dims, factorization_dim).to(device)\n",
    "\n",
    "loss_fn = nn.MSELoss().to(device) if (task == 'reg') else nn.BCEWithLogitsLoss().to(device)\n",
    "optimizer = torch.optim.Adam(model.parameters(), lr=learning_rate, weight_decay=0.001, amsgrad=True)"
   ]
  },
  {
   "cell_type": "code",
   "execution_count": null,
   "metadata": {},
   "outputs": [],
   "source": [
    "train_loss, test_err, test_loss = train_and_test(train_dataloader_ffm, test_dataloader_ffm, \n",
    "                                                 model, loss_fn, optimizer, epochs, task)"
   ]
  },
  {
   "cell_type": "code",
   "execution_count": null,
   "metadata": {},
   "outputs": [],
   "source": [
    "torch.save(model, f\"FFM_epoch{epochs}.pt\")"
   ]
  },
  {
   "cell_type": "markdown",
   "metadata": {},
   "source": [
    "## 학습 결과 시각화"
   ]
  },
  {
   "cell_type": "code",
   "execution_count": null,
   "metadata": {},
   "outputs": [],
   "source": [
    "fig, (loss_ax, err_ax) = plt.subplots(1,2, figsize=(12,4))\n",
    "\n",
    "loss_ax.plot(range(1,epochs+1), train_loss, 'b', label='training loss')\n",
    "loss_ax.plot(range(1,epochs+1), test_loss, 'r', label='test loss')\n",
    "err_ax.plot(range(1,epochs+1), test_err, 'r', label='test err')\n",
    "\n",
    "loss_ax.set_xticks(range(0, epochs+1, 10))\n",
    "loss_ax.set_xlabel('Epoch')\n",
    "loss_ax.set_ylabel('Average Loss')\n",
    "loss_ax.legend()\n",
    "\n",
    "err_ax.set_xticks(range(0, epochs+1, 10))\n",
    "err_ax.set_xlabel('Epoch')\n",
    "err_ax.set_ylabel('AUC')\n",
    "err_ax.legend()\n",
    "\n",
    "plt.show()"
   ]
  },
  {
   "cell_type": "markdown",
   "metadata": {},
   "source": [
    "# Inference"
   ]
  },
  {
   "cell_type": "code",
   "execution_count": 15,
   "metadata": {},
   "outputs": [
    {
     "data": {
      "text/plain": [
       "FieldAwareFM(\n",
       "  (linear): Linear(in_features=41496, out_features=1, bias=True)\n",
       "  (ffm): FFMLayer(\n",
       "    (embedding): ModuleList(\n",
       "      (0): Embedding(41496, 8)\n",
       "      (1): Embedding(41496, 8)\n",
       "      (2): Embedding(41496, 8)\n",
       "      (3): Embedding(41496, 8)\n",
       "      (4): Embedding(41496, 8)\n",
       "    )\n",
       "  )\n",
       ")"
      ]
     },
     "execution_count": 15,
     "metadata": {},
     "output_type": "execute_result"
    }
   ],
   "source": [
    "model=torch.load(f'FFM_epoch{epochs}.pt')#.to(device)\n",
    "model.eval()"
   ]
  },
  {
   "cell_type": "code",
   "execution_count": 24,
   "metadata": {},
   "outputs": [
    {
     "name": "stdout",
     "output_type": "stream",
     "text": [
      "inference_df.shape :  (32761678, 2)\n",
      "     user  item\n",
      "0       0     1\n",
      "611     0  1197\n",
      "612     0  5298\n",
      "613     0  1202\n",
      "614     0  5302\n",
      "           user  item\n",
      "32761045  31359   605\n",
      "32761046  31359   606\n",
      "32761047  31359   608\n",
      "32761035  31359   592\n",
      "32761677  31359  4094\n"
     ]
    }
   ],
   "source": [
    "inference_df=pd.read_csv(\"inf_df.csv\")  #이미 본 영화들이랑 1000번 이하로 시청한 영화들 제거\n",
    "print('inference_df.shape : ',inference_df.shape)\n",
    "inference_df.sort_values(by=\"user\",axis = 0,inplace = True)\n",
    "print(inference_df.head(5))\n",
    "print(inference_df.tail(5))"
   ]
  },
  {
   "cell_type": "code",
   "execution_count": 25,
   "metadata": {},
   "outputs": [
    {
     "name": "stdout",
     "output_type": "stream",
     "text": [
      "users : 31360\n",
      "items : 6807\n",
      "user max category:  31359 ||| user min category:  0\n",
      "item max category:  6770 ||| item min category:  0\n"
     ]
    }
   ],
   "source": [
    "with open('user_dict.pickle', 'rb') as fr:\n",
    "    user_cat_dict = pickle.load(fr)\n",
    "    # load data\n",
    "with open('item_dict.pickle', 'rb') as fr:\n",
    "    item_cat_dict = pickle.load(fr)\n",
    "\n",
    "user_id_dict={v:k for k,v in user_cat_dict.items()} # {user_id: category, ..}\n",
    "item_id_dict={v:k for k,v in item_cat_dict.items()} # {item_id: category,..}\n",
    "print(\"users :\", len(user_cat_dict)) #31360 # {category : user_id, ..}\n",
    "print(\"items :\", len(item_cat_dict)) #6807 # {category : item_id, ..}\n",
    "print('user max category: ',inference_df.loc[:,'user'].max(),'||| user min category: ',inference_df.loc[:,'user'].min())\n",
    "print('item max category: ',inference_df.loc[:,'item'].max(),'||| item min category: ',inference_df.loc[:,'item'].min()) # 왜 6770? -> 1000번 이하로 시청되었으면 삭제됬을 수 있음"
   ]
  },
  {
   "cell_type": "code",
   "execution_count": 26,
   "metadata": {},
   "outputs": [
    {
     "name": "stdout",
     "output_type": "stream",
     "text": [
      "(Before) item_id로 indexing되어 있음 \n",
      "        item  genre\n",
      "6802  118700      7\n",
      "6803  118900      7\n",
      "6804  118997      3\n",
      "6805  119141      0\n",
      "6806  119145      0\n",
      "(After) category로 indexing되어 있음 \n",
      "      item  genre\n",
      "6802  6802      7\n",
      "6803  6803      7\n",
      "6804  6804      3\n",
      "6805  6805      0\n",
      "6806  6806      0\n",
      "inference+genre (32761678, 3)\n",
      "inference+genre+writer (32761678, 4)\n",
      "inference+genre+writer+director (32761678, 5)\n"
     ]
    },
    {
     "data": {
      "text/html": [
       "<div>\n",
       "<style scoped>\n",
       "    .dataframe tbody tr th:only-of-type {\n",
       "        vertical-align: middle;\n",
       "    }\n",
       "\n",
       "    .dataframe tbody tr th {\n",
       "        vertical-align: top;\n",
       "    }\n",
       "\n",
       "    .dataframe thead th {\n",
       "        text-align: right;\n",
       "    }\n",
       "</style>\n",
       "<table border=\"1\" class=\"dataframe\">\n",
       "  <thead>\n",
       "    <tr style=\"text-align: right;\">\n",
       "      <th></th>\n",
       "      <th>user</th>\n",
       "      <th>item</th>\n",
       "      <th>genre</th>\n",
       "      <th>writer</th>\n",
       "      <th>director</th>\n",
       "    </tr>\n",
       "  </thead>\n",
       "  <tbody>\n",
       "    <tr>\n",
       "      <th>0</th>\n",
       "      <td>0</td>\n",
       "      <td>1</td>\n",
       "      <td>1</td>\n",
       "      <td>1304</td>\n",
       "      <td>293</td>\n",
       "    </tr>\n",
       "    <tr>\n",
       "      <th>1</th>\n",
       "      <td>0</td>\n",
       "      <td>1197</td>\n",
       "      <td>1</td>\n",
       "      <td>88</td>\n",
       "      <td>88</td>\n",
       "    </tr>\n",
       "    <tr>\n",
       "      <th>2</th>\n",
       "      <td>0</td>\n",
       "      <td>5298</td>\n",
       "      <td>6</td>\n",
       "      <td>NaN</td>\n",
       "      <td>1272</td>\n",
       "    </tr>\n",
       "    <tr>\n",
       "      <th>3</th>\n",
       "      <td>0</td>\n",
       "      <td>1202</td>\n",
       "      <td>0</td>\n",
       "      <td>1001</td>\n",
       "      <td>944</td>\n",
       "    </tr>\n",
       "    <tr>\n",
       "      <th>4</th>\n",
       "      <td>0</td>\n",
       "      <td>5302</td>\n",
       "      <td>0</td>\n",
       "      <td>191</td>\n",
       "      <td>307</td>\n",
       "    </tr>\n",
       "  </tbody>\n",
       "</table>\n",
       "</div>"
      ],
      "text/plain": [
       "   user  item  genre writer director\n",
       "0     0     1      1   1304      293\n",
       "1     0  1197      1     88       88\n",
       "2     0  5298      6    NaN     1272\n",
       "3     0  1202      0   1001      944\n",
       "4     0  5302      0    191      307"
      ]
     },
     "execution_count": 26,
     "metadata": {},
     "output_type": "execute_result"
    }
   ],
   "source": [
    "#genre\n",
    "one_genre_df_inf=one_genre_df.copy() # one_genre_df:item_id 기준, one_genre_df_inf:카테고리 기준\n",
    "\n",
    "print(\"(Before) item_id로 indexing되어 있음 \")\n",
    "print(one_genre_df_inf.tail(5))\n",
    "for i in range(len(one_genre_df_inf.item)):\n",
    "    one_genre_df_inf.loc[i,'item']=item_id_dict[one_genre_df_inf.loc[i,'item']]\n",
    "print(\"(After) category로 indexing되어 있음 \")\n",
    "print(one_genre_df_inf.tail())\n",
    "\n",
    "#writer\n",
    "one_writer_df_inf=one_writer_df.copy()\n",
    "for i in range(len(one_writer_df_inf.item)):\n",
    "    one_writer_df_inf.loc[i,'item']=item_id_dict[one_writer_df_inf.loc[i,'item']]\n",
    "\n",
    "#director\n",
    "one_director_df_inf=one_director_df.copy()\n",
    "for i in range(len(one_director_df_inf.item)):\n",
    "    one_director_df_inf.loc[i,'item']=item_id_dict[one_director_df_inf.loc[i,'item']]\n",
    "\n",
    "inference_df=pd.merge(inference_df, one_genre_df_inf,how='left', on='item')\n",
    "print(\"inference+genre\",inference_df.shape)\n",
    "inference_df=pd.merge(inference_df, one_writer_df_inf,how='left', on='item')\n",
    "print(\"inference+genre+writer\",inference_df.shape)\n",
    "inference_df=pd.merge(inference_df, one_director_df_inf,how='left', on='item')\n",
    "print(\"inference+genre+writer+director\",inference_df.shape)\n",
    "inference_df.head()"
   ]
  },
  {
   "cell_type": "markdown",
   "metadata": {},
   "source": [
    "## 결측치"
   ]
  },
  {
   "cell_type": "code",
   "execution_count": 27,
   "metadata": {},
   "outputs": [
    {
     "data": {
      "text/plain": [
       "user              0\n",
       "item              0\n",
       "genre             0\n",
       "writer      1584673\n",
       "director    1114195\n",
       "dtype: int64"
      ]
     },
     "execution_count": 27,
     "metadata": {},
     "output_type": "execute_result"
    }
   ],
   "source": [
    "inference_df.isnull().sum()"
   ]
  },
  {
   "cell_type": "code",
   "execution_count": 28,
   "metadata": {},
   "outputs": [
    {
     "data": {
      "text/plain": [
       "user        0\n",
       "item        0\n",
       "genre       0\n",
       "writer      0\n",
       "director    0\n",
       "dtype: int64"
      ]
     },
     "execution_count": 28,
     "metadata": {},
     "output_type": "execute_result"
    }
   ],
   "source": [
    "inference_df['writer']=inference_df['writer'].fillna(len(writer_list)-1) # 끝 값\n",
    "inference_df['director']=inference_df['director'].fillna(len(director_list)-1) \n",
    "inference_df.isnull().sum()"
   ]
  },
  {
   "cell_type": "code",
   "execution_count": 29,
   "metadata": {},
   "outputs": [
    {
     "name": "stdout",
     "output_type": "stream",
     "text": [
      "cpu\n",
      "use_cuda :  True\n",
      "dataset length : 31994\n"
     ]
    }
   ],
   "source": [
    "# cuda setting\n",
    "use_cuda = torch.cuda.is_available()\n",
    "#device = torch.device(\"cuda\" if use_cuda else \"cpu\")\n",
    "device = torch.device(\"cpu\")\n",
    "print(device)\n",
    "\n",
    "batch_size = 1024\n",
    "\n",
    "inference_dataset = TensorDataset(torch.LongTensor(np.array(inference_df)))\n",
    "inference_dataloader = DataLoader(inference_dataset,\n",
    "                                  batch_size=batch_size,\n",
    "                                  #pin_memory=use_cuda,\n",
    "                                  drop_last=False,\n",
    "                                  shuffle=False,\n",
    "                                  num_workers = 4,\n",
    "                                  )\n",
    "print('use_cuda : ',use_cuda)\n",
    "print(\"dataset length :\", len(inference_dataloader))"
   ]
  },
  {
   "cell_type": "code",
   "execution_count": 30,
   "metadata": {},
   "outputs": [
    {
     "name": "stderr",
     "output_type": "stream",
     "text": [
      "  0%|          | 0/31994 [00:00<?, ?it/s]\n"
     ]
    },
    {
     "ename": "RuntimeError",
     "evalue": "index 41552 is out of bounds for dimension 1 with size 41496",
     "output_type": "error",
     "traceback": [
      "\u001b[0;31m---------------------------------------------------------------------------\u001b[0m",
      "\u001b[0;31mRuntimeError\u001b[0m                              Traceback (most recent call last)",
      "\u001b[1;32m/opt/ml/level2-movie-recommendation-level2-recsys-07/MODELS/FFM/FFM_FULL.ipynb Cell 40'\u001b[0m in \u001b[0;36m<cell line: 5>\u001b[0;34m()\u001b[0m\n\u001b[1;32m      <a href='vscode-notebook-cell://ssh-remote%2B49.50.172.166/opt/ml/level2-movie-recommendation-level2-recsys-07/MODELS/FFM/FFM_FULL.ipynb#ch0000039vscode-remote?line=8'>9</a>\u001b[0m x \u001b[39m=\u001b[39m batch[\u001b[39m0\u001b[39m]\u001b[39m.\u001b[39mto(device)  \u001b[39m#x.shape : [1024,5]\u001b[39;00m\n\u001b[1;32m     <a href='vscode-notebook-cell://ssh-remote%2B49.50.172.166/opt/ml/level2-movie-recommendation-level2-recsys-07/MODELS/FFM/FFM_FULL.ipynb#ch0000039vscode-remote?line=9'>10</a>\u001b[0m \u001b[39m# print (\"[DEBUG] model input x-----\")\u001b[39;00m\n\u001b[1;32m     <a href='vscode-notebook-cell://ssh-remote%2B49.50.172.166/opt/ml/level2-movie-recommendation-level2-recsys-07/MODELS/FFM/FFM_FULL.ipynb#ch0000039vscode-remote?line=10'>11</a>\u001b[0m \n\u001b[1;32m     <a href='vscode-notebook-cell://ssh-remote%2B49.50.172.166/opt/ml/level2-movie-recommendation-level2-recsys-07/MODELS/FFM/FFM_FULL.ipynb#ch0000039vscode-remote?line=11'>12</a>\u001b[0m \u001b[39m# print (\"--------------------------\")\u001b[39;00m\n\u001b[0;32m---> <a href='vscode-notebook-cell://ssh-remote%2B49.50.172.166/opt/ml/level2-movie-recommendation-level2-recsys-07/MODELS/FFM/FFM_FULL.ipynb#ch0000039vscode-remote?line=12'>13</a>\u001b[0m output \u001b[39m=\u001b[39m model(x) \u001b[39m#[B] ///x 에 대한 점수\u001b[39;00m\n\u001b[1;32m     <a href='vscode-notebook-cell://ssh-remote%2B49.50.172.166/opt/ml/level2-movie-recommendation-level2-recsys-07/MODELS/FFM/FFM_FULL.ipynb#ch0000039vscode-remote?line=13'>14</a>\u001b[0m \u001b[39m#idx = torch.where(output >= 1)[0] # 점수가 1 이상인 index\u001b[39;00m\n\u001b[1;32m     <a href='vscode-notebook-cell://ssh-remote%2B49.50.172.166/opt/ml/level2-movie-recommendation-level2-recsys-07/MODELS/FFM/FFM_FULL.ipynb#ch0000039vscode-remote?line=15'>16</a>\u001b[0m info \u001b[39m=\u001b[39m x\u001b[39m.\u001b[39mcpu()\n",
      "File \u001b[0;32m/opt/conda/lib/python3.8/site-packages/torch/nn/modules/module.py:1102\u001b[0m, in \u001b[0;36mModule._call_impl\u001b[0;34m(self, *input, **kwargs)\u001b[0m\n\u001b[1;32m   <a href='file:///opt/conda/lib/python3.8/site-packages/torch/nn/modules/module.py?line=1097'>1098</a>\u001b[0m \u001b[39m# If we don't have any hooks, we want to skip the rest of the logic in\u001b[39;00m\n\u001b[1;32m   <a href='file:///opt/conda/lib/python3.8/site-packages/torch/nn/modules/module.py?line=1098'>1099</a>\u001b[0m \u001b[39m# this function, and just call forward.\u001b[39;00m\n\u001b[1;32m   <a href='file:///opt/conda/lib/python3.8/site-packages/torch/nn/modules/module.py?line=1099'>1100</a>\u001b[0m \u001b[39mif\u001b[39;00m \u001b[39mnot\u001b[39;00m (\u001b[39mself\u001b[39m\u001b[39m.\u001b[39m_backward_hooks \u001b[39mor\u001b[39;00m \u001b[39mself\u001b[39m\u001b[39m.\u001b[39m_forward_hooks \u001b[39mor\u001b[39;00m \u001b[39mself\u001b[39m\u001b[39m.\u001b[39m_forward_pre_hooks \u001b[39mor\u001b[39;00m _global_backward_hooks\n\u001b[1;32m   <a href='file:///opt/conda/lib/python3.8/site-packages/torch/nn/modules/module.py?line=1100'>1101</a>\u001b[0m         \u001b[39mor\u001b[39;00m _global_forward_hooks \u001b[39mor\u001b[39;00m _global_forward_pre_hooks):\n\u001b[0;32m-> <a href='file:///opt/conda/lib/python3.8/site-packages/torch/nn/modules/module.py?line=1101'>1102</a>\u001b[0m     \u001b[39mreturn\u001b[39;00m forward_call(\u001b[39m*\u001b[39;49m\u001b[39minput\u001b[39;49m, \u001b[39m*\u001b[39;49m\u001b[39m*\u001b[39;49mkwargs)\n\u001b[1;32m   <a href='file:///opt/conda/lib/python3.8/site-packages/torch/nn/modules/module.py?line=1102'>1103</a>\u001b[0m \u001b[39m# Do not call functions when jit is used\u001b[39;00m\n\u001b[1;32m   <a href='file:///opt/conda/lib/python3.8/site-packages/torch/nn/modules/module.py?line=1103'>1104</a>\u001b[0m full_backward_hooks, non_full_backward_hooks \u001b[39m=\u001b[39m [], []\n",
      "\u001b[1;32m/opt/ml/level2-movie-recommendation-level2-recsys-07/MODELS/FFM/FFM_FULL.ipynb Cell 23'\u001b[0m in \u001b[0;36mFieldAwareFM.forward\u001b[0;34m(self, x)\u001b[0m\n\u001b[1;32m    <a href='vscode-notebook-cell://ssh-remote%2B49.50.172.166/opt/ml/level2-movie-recommendation-level2-recsys-07/MODELS/FFM/FFM_FULL.ipynb#ch0000022vscode-remote?line=130'>131</a>\u001b[0m \u001b[39m'''\u001b[39;00m\n\u001b[1;32m    <a href='vscode-notebook-cell://ssh-remote%2B49.50.172.166/opt/ml/level2-movie-recommendation-level2-recsys-07/MODELS/FFM/FFM_FULL.ipynb#ch0000022vscode-remote?line=131'>132</a>\u001b[0m \u001b[39mParameter\u001b[39;00m\n\u001b[1;32m    <a href='vscode-notebook-cell://ssh-remote%2B49.50.172.166/opt/ml/level2-movie-recommendation-level2-recsys-07/MODELS/FFM/FFM_FULL.ipynb#ch0000022vscode-remote?line=132'>133</a>\u001b[0m \u001b[39m    x: Long tensor of size \"(batch_size, num_fields)\"\u001b[39;00m\n\u001b[0;32m   (...)\u001b[0m\n\u001b[1;32m    <a href='vscode-notebook-cell://ssh-remote%2B49.50.172.166/opt/ml/level2-movie-recommendation-level2-recsys-07/MODELS/FFM/FFM_FULL.ipynb#ch0000022vscode-remote?line=136'>137</a>\u001b[0m \u001b[39m    y: Float tensor of size \"(batch_size)\"\u001b[39;00m\n\u001b[1;32m    <a href='vscode-notebook-cell://ssh-remote%2B49.50.172.166/opt/ml/level2-movie-recommendation-level2-recsys-07/MODELS/FFM/FFM_FULL.ipynb#ch0000022vscode-remote?line=137'>138</a>\u001b[0m \u001b[39m'''\u001b[39;00m\n\u001b[1;32m    <a href='vscode-notebook-cell://ssh-remote%2B49.50.172.166/opt/ml/level2-movie-recommendation-level2-recsys-07/MODELS/FFM/FFM_FULL.ipynb#ch0000022vscode-remote?line=138'>139</a>\u001b[0m x \u001b[39m=\u001b[39m x \u001b[39m+\u001b[39m x\u001b[39m.\u001b[39mnew_tensor(\u001b[39mself\u001b[39m\u001b[39m.\u001b[39mencoding_dims)\u001b[39m.\u001b[39munsqueeze(\u001b[39m0\u001b[39m)\n\u001b[0;32m--> <a href='vscode-notebook-cell://ssh-remote%2B49.50.172.166/opt/ml/level2-movie-recommendation-level2-recsys-07/MODELS/FFM/FFM_FULL.ipynb#ch0000022vscode-remote?line=140'>141</a>\u001b[0m x_multihot \u001b[39m=\u001b[39m torch\u001b[39m.\u001b[39;49mzeros(x\u001b[39m.\u001b[39;49msize(\u001b[39m0\u001b[39;49m), \u001b[39mself\u001b[39;49m\u001b[39m.\u001b[39;49minput_dim, device\u001b[39m=\u001b[39;49mdevice)\u001b[39m.\u001b[39;49mscatter_(\u001b[39m1\u001b[39;49m, x, \u001b[39m1.\u001b[39;49m)\n\u001b[1;32m    <a href='vscode-notebook-cell://ssh-remote%2B49.50.172.166/opt/ml/level2-movie-recommendation-level2-recsys-07/MODELS/FFM/FFM_FULL.ipynb#ch0000022vscode-remote?line=141'>142</a>\u001b[0m \u001b[39m#x_multihot.shape : [256,41496]\u001b[39;00m\n\u001b[1;32m    <a href='vscode-notebook-cell://ssh-remote%2B49.50.172.166/opt/ml/level2-movie-recommendation-level2-recsys-07/MODELS/FFM/FFM_FULL.ipynb#ch0000022vscode-remote?line=142'>143</a>\u001b[0m y \u001b[39m=\u001b[39m \u001b[39mself\u001b[39m\u001b[39m.\u001b[39mlinear(x_multihot)\u001b[39m.\u001b[39msqueeze(\u001b[39m1\u001b[39m) \u001b[39m+\u001b[39m \u001b[39mself\u001b[39m\u001b[39m.\u001b[39mffm(x) \u001b[39m# FILL HERE : Use `self.linear()` and `self.ffm()` #\u001b[39;00m\n",
      "\u001b[0;31mRuntimeError\u001b[0m: index 41552 is out of bounds for dimension 1 with size 41496"
     ]
    }
   ],
   "source": [
    "user_list = list()\n",
    "score_list = list()\n",
    "item_list = list()\n",
    "\n",
    "with torch.no_grad():\n",
    "    cnt = 0\n",
    "    for batch in tqdm(inference_dataloader):\n",
    "        # break\n",
    "        x = batch[0].to(device)  #x.shape : [1024,5]\n",
    "        # print (\"[DEBUG] model input x-----\")\n",
    "        \n",
    "        # print (\"--------------------------\")\n",
    "        output = model(x) #[B] ///x 에 대한 점수\n",
    "        #idx = torch.where(output >= 1)[0] # 점수가 1 이상인 index\n",
    "        \n",
    "        info = x.cpu()\n",
    "        #scores = output.index_select(0,idx).cpu().tolist()\n",
    "        scores = output.cpu().tolist()\n",
    "        users = info[:,0].tolist()\n",
    "        items = info[:,1].tolist()\n",
    "\n",
    "        user_list += users\n",
    "        item_list += items\n",
    "        score_list += scores\n",
    "        \n",
    "\n",
    "np_user_list = np.array(user_list)\n",
    "np_item_list = np.array(item_list)\n",
    "np_score_list = np.array(score_list)"
   ]
  },
  {
   "cell_type": "code",
   "execution_count": null,
   "metadata": {},
   "outputs": [],
   "source": [
    "users = list()\n",
    "items = list()\n",
    "for user_code, user_id in tqdm(user_dict.items()):\n",
    "    u_id = int(user_id)\n",
    "\n",
    "    idx = np.where(np_user_list == user_code)[0].tolist()\n",
    "    \n",
    "    item_score = np_score_list.take(idx) #user code 에 해당하는 item_score\n",
    "    item_ = np_item_list.take(idx) # user code에 해당하는 item\n",
    "    top10_idx = np.argpartition(item_score, -10)[-10:] # 상위 10개 index 추출\n",
    "\n",
    "    top10_item = [int(item_dict[code]) for code in item_.take(top10_idx)] #top 10(item code -> item id)\n",
    "    user_id = [u_id] * 10\n",
    "\n",
    "    users += user_id\n",
    "    items += top10_item\n",
    "\n",
    "result.head()"
   ]
  },
  {
   "cell_type": "code",
   "execution_count": null,
   "metadata": {},
   "outputs": [],
   "source": [
    "result = np.vstack((users,items)).T\n",
    "result.head()"
   ]
  },
  {
   "cell_type": "code",
   "execution_count": null,
   "metadata": {},
   "outputs": [],
   "source": [
    "submit = pd.DataFrame(result, columns=['user','item'])\n",
    "submit.to_csv(f\"FFM_submission_Epoch:{epochs}.csv\",index=False)"
   ]
  }
 ],
 "metadata": {
  "interpreter": {
   "hash": "d4d1e4263499bec80672ea0156c357c1ee493ec2b1c70f0acce89fc37c4a6abe"
  },
  "kernelspec": {
   "display_name": "Python 3.8.5 ('base')",
   "language": "python",
   "name": "python3"
  },
  "language_info": {
   "codemirror_mode": {
    "name": "ipython",
    "version": 3
   },
   "file_extension": ".py",
   "mimetype": "text/x-python",
   "name": "python",
   "nbconvert_exporter": "python",
   "pygments_lexer": "ipython3",
   "version": "3.8.5"
  },
  "orig_nbformat": 4
 },
 "nbformat": 4,
 "nbformat_minor": 2
}
