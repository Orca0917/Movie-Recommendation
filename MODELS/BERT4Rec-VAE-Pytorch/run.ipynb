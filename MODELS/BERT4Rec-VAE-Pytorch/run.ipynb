{
 "cells": [
  {
   "cell_type": "code",
   "execution_count": 1,
   "metadata": {},
   "outputs": [
    {
     "name": "stdout",
     "output_type": "stream",
     "text": [
      "Input 1 for ml-1m, 20 for ml-20m: ^C\n",
      "Traceback (most recent call last):\n",
      "  File \"main.py\", line 3, in <module>\n",
      "    from options import args\n",
      "  File \"/opt/ml/input/level2-movie-recommendation-level2-recsys-07/MODELS/BERT4Rec-VAE-Pytorch/options.py\", line 120, in <module>\n",
      "    set_template(args)\n",
      "  File \"/opt/ml/input/level2-movie-recommendation-level2-recsys-07/MODELS/BERT4Rec-VAE-Pytorch/templates.py\", line 8, in set_template\n",
      "    args.dataset_code = 'ml-' + input('Input 1 for ml-1m, 20 for ml-20m: ') + 'm'\n",
      "KeyboardInterrupt\n"
     ]
    }
   ],
   "source": [
    "!python3 main.py"
   ]
  },
  {
   "cell_type": "code",
   "execution_count": null,
   "metadata": {},
   "outputs": [],
   "source": []
  }
 ],
 "metadata": {
  "interpreter": {
   "hash": "d4d1e4263499bec80672ea0156c357c1ee493ec2b1c70f0acce89fc37c4a6abe"
  },
  "kernelspec": {
   "display_name": "Python 3.8.5 ('base')",
   "language": "python",
   "name": "python3"
  },
  "language_info": {
   "codemirror_mode": {
    "name": "ipython",
    "version": 3
   },
   "file_extension": ".py",
   "mimetype": "text/x-python",
   "name": "python",
   "nbconvert_exporter": "python",
   "pygments_lexer": "ipython3",
   "version": "3.8.5"
  },
  "orig_nbformat": 4
 },
 "nbformat": 4,
 "nbformat_minor": 2
}
