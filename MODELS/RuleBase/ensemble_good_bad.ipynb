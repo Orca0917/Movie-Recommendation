{
 "cells": [
  {
   "cell_type": "code",
   "execution_count": 1,
   "metadata": {},
   "outputs": [],
   "source": [
    "import pandas as pd\n",
    "from tqdm import tqdm"
   ]
  },
  {
   "cell_type": "code",
   "execution_count": 3,
   "metadata": {},
   "outputs": [
    {
     "name": "stdout",
     "output_type": "stream",
     "text": [
      "Number of bad user : 10779\n"
     ]
    }
   ],
   "source": [
    "# Bad users\n",
    "bad_user_list = pd.read_csv(\"./bad_user_id03.csv\", header=None).to_numpy().squeeze()\n",
    "print (f\"Number of bad user : {len(bad_user_list)}\")"
   ]
  },
  {
   "cell_type": "code",
   "execution_count": 6,
   "metadata": {},
   "outputs": [],
   "source": [
    "# extract good\n",
    "use_good_user = pd.read_csv(\"./good.csv\").groupby(\"user\")[\"item\"]\n",
    "# extract bad\n",
    "use_bad_user = pd.read_csv(\"./bad.csv\").groupby(\"user\")[\"item\"]"
   ]
  },
  {
   "cell_type": "code",
   "execution_count": 8,
   "metadata": {},
   "outputs": [
    {
     "data": {
      "text/plain": [
       "array([    11,     14,     18, ..., 138486, 138492, 138493])"
      ]
     },
     "execution_count": 8,
     "metadata": {},
     "output_type": "execute_result"
    }
   ],
   "source": [
    "user_list = pd.read_csv(\"./good.csv\")[\"user\"].unique()\n",
    "user_list"
   ]
  },
  {
   "cell_type": "code",
   "execution_count": 12,
   "metadata": {},
   "outputs": [
    {
     "name": "stderr",
     "output_type": "stream",
     "text": [
      "100%|██████████| 31360/31360 [00:03<00:00, 8388.04it/s]\n"
     ]
    }
   ],
   "source": [
    "submission_list = list()\n",
    "\n",
    "for user in tqdm(user_list):\n",
    "    if user not in bad_user_list: # GOOD\n",
    "        for item in use_good_user.get_group(user):\n",
    "            submission_list.append([user, item])\n",
    "    else:\n",
    "        for item in use_bad_user.get_group(user):\n",
    "            submission_list.append([user, item])\n",
    "            \n",
    "assert len(submission_list) == 31360 * 10\n",
    "        "
   ]
  },
  {
   "cell_type": "code",
   "execution_count": 13,
   "metadata": {},
   "outputs": [],
   "source": [
    "# Make submission csv file\n",
    "submission_df = pd.DataFrame(data=submission_list, columns=[\"user\", \"item\"])\n",
    "submission_df.to_csv(\"./submission_good_bad.csv\", index=False)"
   ]
  }
 ],
 "metadata": {
  "interpreter": {
   "hash": "31f2aee4e71d21fbe5cf8b01ff0e069b9275f58929596ceb00d14d90e3e16cd6"
  },
  "kernelspec": {
   "display_name": "Python 3.6.9 64-bit",
   "language": "python",
   "name": "python3"
  },
  "language_info": {
   "codemirror_mode": {
    "name": "ipython",
    "version": 3
   },
   "file_extension": ".py",
   "mimetype": "text/x-python",
   "name": "python",
   "nbconvert_exporter": "python",
   "pygments_lexer": "ipython3",
   "version": "3.8.5"
  },
  "orig_nbformat": 4
 },
 "nbformat": 4,
 "nbformat_minor": 2
}
