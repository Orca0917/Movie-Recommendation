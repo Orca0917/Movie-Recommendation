{
 "cells": [
  {
   "cell_type": "code",
   "execution_count": 39,
   "metadata": {},
   "outputs": [],
   "source": [
    "import argparse\n",
    "import time\n",
    "import torch\n",
    "import torch.nn as nn\n",
    "import torch.optim as optim\n",
    "import numpy as np\n",
    "from scipy import sparse\n",
    "from dataset import *\n",
    "from dataloader import *\n",
    "from loss import *\n",
    "from model import *\n",
    "from torch.nn import Softmax\n",
    "import os\n",
    "import bottleneck as bn\n",
    "os.environ['CUDA_LAUNCH_BLOCKING'] = \"1\"\n",
    "os.environ[\"CUDA_VISIBLE_DEVICES\"] = \"0\""
   ]
  },
  {
   "cell_type": "code",
   "execution_count": 22,
   "metadata": {},
   "outputs": [
    {
     "name": "stdout",
     "output_type": "stream",
     "text": [
      "Now using device :  cuda\n",
      "Load and Preprocess Movielens dataset\n",
      "Done!\n"
     ]
    }
   ],
   "source": [
    "if torch.cuda.is_available():\n",
    "        cuda_aval = True\n",
    "\n",
    "device = torch.device(\"cuda\" if cuda_aval else \"cpu\")\n",
    "print(\"Now using device : \", device)\n",
    "###################\n",
    "print(\"Load and Preprocess Movielens dataset\")\n",
    "# Load Data\n",
    "uim = pd.read_csv(\"/opt/ml/input/workspace/CF/Non-DL/FISM/user_movie_interaction.csv\")\n",
    "item_id = np.array(list(uim)[1:])\n",
    "user_id = uim[\"user\"].to_numpy()\n",
    "uim_np = uim.to_numpy()[:, 1:]\n",
    "print(\"Done!\")"
   ]
  },
  {
   "cell_type": "code",
   "execution_count": 23,
   "metadata": {},
   "outputs": [],
   "source": [
    "#load model\n",
    "f = open(\"model.pt\", 'rb')\n",
    "model  = torch.load(f).to(device)"
   ]
  },
  {
   "cell_type": "code",
   "execution_count": 52,
   "metadata": {},
   "outputs": [
    {
     "name": "stdout",
     "output_type": "stream",
     "text": [
      "[1.6077598 1.5373878 2.0355206 1.6266432 1.5519786 1.6021719 1.5140964\n",
      " 1.5378928 1.4829865 1.4856646]\n",
      "['915' '520' '83798' '216' '2696' '1078' '1617' '1884' '7178' '1232']\n"
     ]
    },
    {
     "name": "stderr",
     "output_type": "stream",
     "text": [
      "/opt/conda/lib/python3.8/site-packages/torch/nn/functional.py:1795: UserWarning: nn.functional.tanh is deprecated. Use torch.tanh instead.\n",
      "  warnings.warn(\"nn.functional.tanh is deprecated. Use torch.tanh instead.\")\n"
     ]
    }
   ],
   "source": [
    "model.eval()\n",
    "result = list()\n",
    "for i in range(31360) : \n",
    "    user = user_id[i]\n",
    "    data_np = uim_np[i]\n",
    "    data = torch.FloatTensor(data_np)\n",
    "    data = data.reshape(1,-1).to(device)\n",
    "    \n",
    "    probability, _, _ = model(data)\n",
    "    probability_np = np.array(probability.cpu().detach())[0]\n",
    "    \n",
    "    probability_np[data_np.nonzero()] = -np.inf\n",
    "\n",
    "    idx = np.argpartition(probability_np, -10)[-10:]\n",
    "    items = item_id[idx]\n",
    "    for item in items :\n",
    "        result.append((user, item))\n",
    "    if i%5000 == 0 :\n",
    "        print(f\"{i}/31360 complete\")"
   ]
  },
  {
   "cell_type": "code",
   "execution_count": 44,
   "metadata": {},
   "outputs": [
    {
     "ename": "KeyboardInterrupt",
     "evalue": "",
     "output_type": "error",
     "traceback": [
      "\u001b[0;31m---------------------------------------------------------------------------\u001b[0m",
      "\u001b[0;31mKeyboardInterrupt\u001b[0m                         Traceback (most recent call last)",
      "\u001b[1;32m/opt/ml/input/workspace/CF/DL CF/Mult-VAE/inference.ipynb Cell 5'\u001b[0m in \u001b[0;36m<cell line: 2>\u001b[0;34m()\u001b[0m\n\u001b[1;32m      <a href='vscode-notebook-cell://ssh-remote%2B118.67.128.103/opt/ml/input/workspace/CF/DL%20CF/Mult-VAE/inference.ipynb#ch0000005vscode-remote?line=0'>1</a>\u001b[0m info \u001b[39m=\u001b[39m pd\u001b[39m.\u001b[39mDataFrame(result, columns\u001b[39m=\u001b[39m[\u001b[39m'\u001b[39m\u001b[39muser\u001b[39m\u001b[39m'\u001b[39m,\u001b[39m'\u001b[39m\u001b[39mitem\u001b[39m\u001b[39m'\u001b[39m])\n\u001b[0;32m----> <a href='vscode-notebook-cell://ssh-remote%2B118.67.128.103/opt/ml/input/workspace/CF/DL%20CF/Mult-VAE/inference.ipynb#ch0000005vscode-remote?line=1'>2</a>\u001b[0m info\u001b[39m.\u001b[39;49mto_csv(\u001b[39m\"\u001b[39;49m\u001b[39msubmission.csv\u001b[39;49m\u001b[39m\"\u001b[39;49m,index\u001b[39m=\u001b[39;49m\u001b[39mFalse\u001b[39;49;00m)\n\u001b[1;32m      <a href='vscode-notebook-cell://ssh-remote%2B118.67.128.103/opt/ml/input/workspace/CF/DL%20CF/Mult-VAE/inference.ipynb#ch0000005vscode-remote?line=2'>3</a>\u001b[0m \u001b[39mprint\u001b[39m(\u001b[39m\"\u001b[39m\u001b[39mInference Done!\u001b[39m\u001b[39m\"\u001b[39m)\n",
      "File \u001b[0;32m/opt/conda/lib/python3.8/site-packages/pandas/core/generic.py:3204\u001b[0m, in \u001b[0;36mNDFrame.to_csv\u001b[0;34m(self, path_or_buf, sep, na_rep, float_format, columns, header, index, index_label, mode, encoding, compression, quoting, quotechar, line_terminator, chunksize, date_format, doublequote, escapechar, decimal)\u001b[0m\n\u001b[1;32m   <a href='file:///opt/conda/lib/python3.8/site-packages/pandas/core/generic.py?line=3179'>3180</a>\u001b[0m \u001b[39mfrom\u001b[39;00m \u001b[39mpandas\u001b[39;00m\u001b[39m.\u001b[39;00m\u001b[39mio\u001b[39;00m\u001b[39m.\u001b[39;00m\u001b[39mformats\u001b[39;00m\u001b[39m.\u001b[39;00m\u001b[39mcsvs\u001b[39;00m \u001b[39mimport\u001b[39;00m CSVFormatter\n\u001b[1;32m   <a href='file:///opt/conda/lib/python3.8/site-packages/pandas/core/generic.py?line=3181'>3182</a>\u001b[0m formatter \u001b[39m=\u001b[39m CSVFormatter(\n\u001b[1;32m   <a href='file:///opt/conda/lib/python3.8/site-packages/pandas/core/generic.py?line=3182'>3183</a>\u001b[0m     df,\n\u001b[1;32m   <a href='file:///opt/conda/lib/python3.8/site-packages/pandas/core/generic.py?line=3183'>3184</a>\u001b[0m     path_or_buf,\n\u001b[0;32m   (...)\u001b[0m\n\u001b[1;32m   <a href='file:///opt/conda/lib/python3.8/site-packages/pandas/core/generic.py?line=3201'>3202</a>\u001b[0m     decimal\u001b[39m=\u001b[39mdecimal,\n\u001b[1;32m   <a href='file:///opt/conda/lib/python3.8/site-packages/pandas/core/generic.py?line=3202'>3203</a>\u001b[0m )\n\u001b[0;32m-> <a href='file:///opt/conda/lib/python3.8/site-packages/pandas/core/generic.py?line=3203'>3204</a>\u001b[0m formatter\u001b[39m.\u001b[39;49msave()\n\u001b[1;32m   <a href='file:///opt/conda/lib/python3.8/site-packages/pandas/core/generic.py?line=3205'>3206</a>\u001b[0m \u001b[39mif\u001b[39;00m path_or_buf \u001b[39mis\u001b[39;00m \u001b[39mNone\u001b[39;00m:\n\u001b[1;32m   <a href='file:///opt/conda/lib/python3.8/site-packages/pandas/core/generic.py?line=3206'>3207</a>\u001b[0m     \u001b[39mreturn\u001b[39;00m formatter\u001b[39m.\u001b[39mpath_or_buf\u001b[39m.\u001b[39mgetvalue()\n",
      "File \u001b[0;32m/opt/conda/lib/python3.8/site-packages/pandas/io/formats/csvs.py:204\u001b[0m, in \u001b[0;36mCSVFormatter.save\u001b[0;34m(self)\u001b[0m\n\u001b[1;32m    <a href='file:///opt/conda/lib/python3.8/site-packages/pandas/io/formats/csvs.py?line=191'>192</a>\u001b[0m \u001b[39mtry\u001b[39;00m:\n\u001b[1;32m    <a href='file:///opt/conda/lib/python3.8/site-packages/pandas/io/formats/csvs.py?line=192'>193</a>\u001b[0m     \u001b[39m# Note: self.encoding is irrelevant here\u001b[39;00m\n\u001b[1;32m    <a href='file:///opt/conda/lib/python3.8/site-packages/pandas/io/formats/csvs.py?line=193'>194</a>\u001b[0m     \u001b[39mself\u001b[39m\u001b[39m.\u001b[39mwriter \u001b[39m=\u001b[39m csvlib\u001b[39m.\u001b[39mwriter(\n\u001b[1;32m    <a href='file:///opt/conda/lib/python3.8/site-packages/pandas/io/formats/csvs.py?line=194'>195</a>\u001b[0m         f,\n\u001b[1;32m    <a href='file:///opt/conda/lib/python3.8/site-packages/pandas/io/formats/csvs.py?line=195'>196</a>\u001b[0m         lineterminator\u001b[39m=\u001b[39m\u001b[39mself\u001b[39m\u001b[39m.\u001b[39mline_terminator,\n\u001b[0;32m   (...)\u001b[0m\n\u001b[1;32m    <a href='file:///opt/conda/lib/python3.8/site-packages/pandas/io/formats/csvs.py?line=200'>201</a>\u001b[0m         quotechar\u001b[39m=\u001b[39m\u001b[39mself\u001b[39m\u001b[39m.\u001b[39mquotechar,\n\u001b[1;32m    <a href='file:///opt/conda/lib/python3.8/site-packages/pandas/io/formats/csvs.py?line=201'>202</a>\u001b[0m     )\n\u001b[0;32m--> <a href='file:///opt/conda/lib/python3.8/site-packages/pandas/io/formats/csvs.py?line=203'>204</a>\u001b[0m     \u001b[39mself\u001b[39;49m\u001b[39m.\u001b[39;49m_save()\n\u001b[1;32m    <a href='file:///opt/conda/lib/python3.8/site-packages/pandas/io/formats/csvs.py?line=205'>206</a>\u001b[0m \u001b[39mfinally\u001b[39;00m:\n\u001b[1;32m    <a href='file:///opt/conda/lib/python3.8/site-packages/pandas/io/formats/csvs.py?line=206'>207</a>\u001b[0m     \u001b[39mif\u001b[39;00m is_zip:\n\u001b[1;32m    <a href='file:///opt/conda/lib/python3.8/site-packages/pandas/io/formats/csvs.py?line=207'>208</a>\u001b[0m         \u001b[39m# GH17778 handles zip compression separately.\u001b[39;00m\n",
      "File \u001b[0;32m/opt/conda/lib/python3.8/site-packages/pandas/io/formats/csvs.py:323\u001b[0m, in \u001b[0;36mCSVFormatter._save\u001b[0;34m(self)\u001b[0m\n\u001b[1;32m    <a href='file:///opt/conda/lib/python3.8/site-packages/pandas/io/formats/csvs.py?line=319'>320</a>\u001b[0m \u001b[39mif\u001b[39;00m start_i \u001b[39m>\u001b[39m\u001b[39m=\u001b[39m end_i:\n\u001b[1;32m    <a href='file:///opt/conda/lib/python3.8/site-packages/pandas/io/formats/csvs.py?line=320'>321</a>\u001b[0m     \u001b[39mbreak\u001b[39;00m\n\u001b[0;32m--> <a href='file:///opt/conda/lib/python3.8/site-packages/pandas/io/formats/csvs.py?line=322'>323</a>\u001b[0m \u001b[39mself\u001b[39;49m\u001b[39m.\u001b[39;49m_save_chunk(start_i, end_i)\n",
      "File \u001b[0;32m/opt/conda/lib/python3.8/site-packages/pandas/io/formats/csvs.py:354\u001b[0m, in \u001b[0;36mCSVFormatter._save_chunk\u001b[0;34m(self, start_i, end_i)\u001b[0m\n\u001b[1;32m    <a href='file:///opt/conda/lib/python3.8/site-packages/pandas/io/formats/csvs.py?line=342'>343</a>\u001b[0m         \u001b[39mself\u001b[39m\u001b[39m.\u001b[39mdata[col_loc] \u001b[39m=\u001b[39m col\n\u001b[1;32m    <a href='file:///opt/conda/lib/python3.8/site-packages/pandas/io/formats/csvs.py?line=344'>345</a>\u001b[0m ix \u001b[39m=\u001b[39m data_index\u001b[39m.\u001b[39mto_native_types(\n\u001b[1;32m    <a href='file:///opt/conda/lib/python3.8/site-packages/pandas/io/formats/csvs.py?line=345'>346</a>\u001b[0m     slicer\u001b[39m=\u001b[39mslicer,\n\u001b[1;32m    <a href='file:///opt/conda/lib/python3.8/site-packages/pandas/io/formats/csvs.py?line=346'>347</a>\u001b[0m     na_rep\u001b[39m=\u001b[39m\u001b[39mself\u001b[39m\u001b[39m.\u001b[39mna_rep,\n\u001b[0;32m   (...)\u001b[0m\n\u001b[1;32m    <a href='file:///opt/conda/lib/python3.8/site-packages/pandas/io/formats/csvs.py?line=350'>351</a>\u001b[0m     quoting\u001b[39m=\u001b[39m\u001b[39mself\u001b[39m\u001b[39m.\u001b[39mquoting,\n\u001b[1;32m    <a href='file:///opt/conda/lib/python3.8/site-packages/pandas/io/formats/csvs.py?line=351'>352</a>\u001b[0m )\n\u001b[0;32m--> <a href='file:///opt/conda/lib/python3.8/site-packages/pandas/io/formats/csvs.py?line=353'>354</a>\u001b[0m libwriters\u001b[39m.\u001b[39;49mwrite_csv_rows(\u001b[39mself\u001b[39;49m\u001b[39m.\u001b[39;49mdata, ix, \u001b[39mself\u001b[39;49m\u001b[39m.\u001b[39;49mnlevels, \u001b[39mself\u001b[39;49m\u001b[39m.\u001b[39;49mcols, \u001b[39mself\u001b[39;49m\u001b[39m.\u001b[39;49mwriter)\n",
      "File \u001b[0;32mpandas/_libs/writers.pyx:65\u001b[0m, in \u001b[0;36mpandas._libs.writers.write_csv_rows\u001b[0;34m()\u001b[0m\n",
      "\u001b[0;31mKeyboardInterrupt\u001b[0m: "
     ]
    }
   ],
   "source": [
    "info = pd.DataFrame(result, columns=['user','item'])\n",
    "info.to_csv(\"submission.csv\",index=False)\n",
    "print(\"Inference Done!\")"
   ]
  },
  {
   "cell_type": "code",
   "execution_count": null,
   "metadata": {},
   "outputs": [],
   "source": []
  }
 ],
 "metadata": {
  "interpreter": {
   "hash": "d4d1e4263499bec80672ea0156c357c1ee493ec2b1c70f0acce89fc37c4a6abe"
  },
  "kernelspec": {
   "display_name": "Python 3.8.5 ('base')",
   "language": "python",
   "name": "python3"
  },
  "language_info": {
   "codemirror_mode": {
    "name": "ipython",
    "version": 3
   },
   "file_extension": ".py",
   "mimetype": "text/x-python",
   "name": "python",
   "nbconvert_exporter": "python",
   "pygments_lexer": "ipython3",
   "version": "3.8.5"
  },
  "orig_nbformat": 4
 },
 "nbformat": 4,
 "nbformat_minor": 2
}
